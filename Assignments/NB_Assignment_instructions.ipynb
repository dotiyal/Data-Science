{
 "cells": [
  {
   "cell_type": "markdown",
   "metadata": {
    "id": "Dnubs-Nnb3cw"
   },
   "source": [
    "# Assignment 6: Apply NB"
   ]
  },
  {
   "cell_type": "markdown",
   "metadata": {
    "id": "RW0zYHb5m_wI"
   },
   "source": [
    "<ol>\n",
    "    <li>Minimum data points need to be considered for people having 4GB RAM is <strong>50k</strong> and for 8GB RAM is <strong>100k</strong></li>\n",
    "    <li>When you are using ramdomsearchcv or gridsearchcv you need not split the data into X_train,X_cv,X_test. As the above methods use kfold. The model will learn better if train data is more so splitting to X_train,X_test will suffice.</li>\n",
    "    <li>If you are writing for loops to tune your model then you need split the data into X_train,X_cv,X_test.</li>\n",
    "    <li>While splitting the data explore stratify parameter. </li>\n",
    "    <li><strong>Apply Multinomial NB on these feature sets</strong></li>\n",
    "        <ul>\n",
    "            <li>Features that need to be considered</li> \n",
    "                <dl>\n",
    "                  <dt>essay</dt>\n",
    "                    <dd>while encoding essay, try to experiment with the max_features and n_grams parameter of vectorizers and see if it increases AUC score.</dd>\n",
    "                  <dt>categorical features</dt>\n",
    "                  <dd> - teacher_prefix</dd>\n",
    "                  <dd> - project_grade_category</dd>\n",
    "                  <dd> - school_state</dd>\n",
    "                  <dd> - clean_categories</dd>\n",
    "                  <dd> - clean_subcategories</dd>\n",
    "                  <dt>numerical features</dt>\n",
    "                  <dd> - price</dd>\n",
    "                  <dd> - teacher_number_of_previously_posted_projects</dd>\n",
    "                  <dd>while encoding the numerical features check <a href='https://imgur.com/ldZA1zg'>this</a> and <a href='https://ac-classroom-production.s3.amazonaws.com/public/COMMENT/Annotation_2020-05-21_225912_0lyZzN8.jpg'>this</a></dd>\n",
    "                </dl>    \n",
    "            <li><font color='red'>Set 1</font>: categorical, numerical features + preprocessed_eassay (BOW)</li>\n",
    "            <li><font color='red'>Set 2</font>: categorical, numerical features + preprocessed_eassay (TFIDF)</li>\n",
    "        </ul>\n",
    "    <li><strong>The hyper paramter tuning(find best alpha:smoothing parameter)</strong>\n",
    "        <ul>\n",
    "    <li>Consider alpha values in range: 10^-5 to 10^2 like [0.00001,0.0005, 0.0001,0.005,0.001,0.05,0.01,0.1,0.5,1,5,10,50,100]</li>\n",
    "    <li>Explore class_prior = [0.5, 0.5] parameter which can be present in MultinomialNB function(go through <a href='https://scikit-learn.org/stable/modules/generated/sklearn.naive_bayes.MultinomialNB.html'>this</a> ) then check how results might change.\n",
    "    <li>Find the best hyper parameter which will give the maximum <a href='https://www.appliedaicourse.com/course/applied-ai-course-online/lessons/receiver-operating-characteristic-curve-roc-curve-and-auc-1/'>AUC</a> value</li>\n",
    "    <li>For hyper parameter tuning using k-fold cross validation(use GridsearchCV or RandomsearchCV)/simple cross validation data (write for loop to iterate over hyper parameter values)</li>\n",
    "    <li>You need to plot the performance of model both on train data and cross validation data for each hyper parameter, like shown in the figure\n",
    "    <img src='https://i.imgur.com/hUv6aEy.jpg' width=300px><dd>-while plotting take log(alpha) on your X-axis so that it will be more readable</dd></li>\n",
    "    <li>Once after you found the best hyper parameter, you need to train your model with it, and find the AUC on test data and plot the ROC curve on both train and test.\n",
    "    <img src='https://imgur.com/q2P65L5.jpg' width=300px></li>\n",
    "    <li>Along with plotting ROC curve, you need to print the <a href='https://www.appliedaicourse.com/course/applied-ai-course-online/lessons/confusion-matrix-tpr-fpr-fnr-tnr-1/'>confusion matrix</a> with predicted and original labels of test data points\n",
    "        <img src='https://i.imgur.com/IdN5Ctv.png' width=300px><dd>-plot the confusion matrix in heatmaps, while plotting the confusion matrix go through the <a href='https://stackoverflow.com/questions/61748441/how-to-fix-the-values-displayed-in-a-confusion-matrix-in-exponential-form-to-nor'>link </a>\n",
    "</dd></li>\n",
    "        </ul>\n",
    "<li>find the top 20 features from either from feature <font color='red'>Set 1</font> or feature <font color='red'>Set 2</font> using values of `feature_log_prob_ ` parameter of `MultinomialNB` \n",
    "(https://scikit-learn.org/stable/modules/generated/sklearn.naive_bayes.MultinomialNB.html) and print <strong>BOTH</strong> positive as well as negative corresponding feature names. <dd> - go through the <a href='https://imgur.com/mWvE7gj'>link </a> </dd>\n",
    "    </li>\n",
    "    <li>You need to summarize the results at the end of the notebook, summarize it in the table format\n",
    "        <img src='http://i.imgur.com/YVpIGGE.jpg' width=400px>\n",
    "    </li>\n",
    "</ol>"
   ]
  },
  {
   "cell_type": "code",
   "execution_count": 66,
   "metadata": {
    "id": "chpSjDaXm9KG"
   },
   "outputs": [],
   "source": [
    "%matplotlib inline\n",
    "import warnings\n",
    "warnings.filterwarnings(\"ignore\")\n",
    "\n",
    "from sklearn.model_selection import train_test_split\n",
    "from sklearn.feature_extraction.text import CountVectorizer\n",
    "from sklearn.feature_extraction.text import TfidfVectorizer\n",
    "from sklearn.preprocessing import Normalizer\n",
    "from sklearn.naive_bayes import MultinomialNB\n",
    "from scipy.sparse import hstack\n",
    "\n",
    "from sklearn.model_selection import GridSearchCV\n",
    "from scipy.stats import randint as sp_randint\n",
    "from sklearn.model_selection import RandomizedSearchCV\n",
    "\n",
    "import matplotlib.pyplot as plt\n",
    "from sklearn.metrics import roc_curve, auc\n",
    "# from sklearn.metrics import roc_auc_score\n",
    "\n",
    "import numpy as np\n",
    "import seaborn as sns"
   ]
  },
  {
   "cell_type": "markdown",
   "metadata": {
    "id": "inzYCIaib3c3"
   },
   "source": [
    "<h1>2. Naive Bayes </h1>"
   ]
  },
  {
   "cell_type": "markdown",
   "metadata": {
    "id": "FYqCIxzFb3c5"
   },
   "source": [
    "## 1.1 Loading Data"
   ]
  },
  {
   "cell_type": "code",
   "execution_count": 67,
   "metadata": {
    "id": "dA1jknyqb3c_"
   },
   "outputs": [],
   "source": [
    "#make sure you are loading atleast 50k datapoints\n",
    "#you can work with features of preprocessed_data.csv for the assignment.\n",
    "# If you want to add more features, you can add. (This is purely optional, not mandatory)\n",
    "\n",
    "import pandas as pd\n",
    "data = pd.read_csv('preprocessed_data.csv', nrows=100000)"
   ]
  },
  {
   "cell_type": "code",
   "execution_count": 68,
   "metadata": {},
   "outputs": [
    {
     "data": {
      "text/plain": [
       "(100000, 9)"
      ]
     },
     "execution_count": 68,
     "metadata": {},
     "output_type": "execute_result"
    }
   ],
   "source": [
    "data.shape"
   ]
  },
  {
   "cell_type": "code",
   "execution_count": 69,
   "metadata": {},
   "outputs": [
    {
     "data": {
      "text/html": [
       "<div>\n",
       "<style scoped>\n",
       "    .dataframe tbody tr th:only-of-type {\n",
       "        vertical-align: middle;\n",
       "    }\n",
       "\n",
       "    .dataframe tbody tr th {\n",
       "        vertical-align: top;\n",
       "    }\n",
       "\n",
       "    .dataframe thead th {\n",
       "        text-align: right;\n",
       "    }\n",
       "</style>\n",
       "<table border=\"1\" class=\"dataframe\">\n",
       "  <thead>\n",
       "    <tr style=\"text-align: right;\">\n",
       "      <th></th>\n",
       "      <th>school_state</th>\n",
       "      <th>teacher_prefix</th>\n",
       "      <th>project_grade_category</th>\n",
       "      <th>teacher_number_of_previously_posted_projects</th>\n",
       "      <th>project_is_approved</th>\n",
       "      <th>clean_categories</th>\n",
       "      <th>clean_subcategories</th>\n",
       "      <th>essay</th>\n",
       "      <th>price</th>\n",
       "    </tr>\n",
       "  </thead>\n",
       "  <tbody>\n",
       "    <tr>\n",
       "      <th>0</th>\n",
       "      <td>ca</td>\n",
       "      <td>mrs</td>\n",
       "      <td>grades_prek_2</td>\n",
       "      <td>53</td>\n",
       "      <td>1</td>\n",
       "      <td>math_science</td>\n",
       "      <td>appliedsciences health_lifescience</td>\n",
       "      <td>i fortunate enough use fairy tale stem kits cl...</td>\n",
       "      <td>725.05</td>\n",
       "    </tr>\n",
       "    <tr>\n",
       "      <th>1</th>\n",
       "      <td>ut</td>\n",
       "      <td>ms</td>\n",
       "      <td>grades_3_5</td>\n",
       "      <td>4</td>\n",
       "      <td>1</td>\n",
       "      <td>specialneeds</td>\n",
       "      <td>specialneeds</td>\n",
       "      <td>imagine 8 9 years old you third grade classroo...</td>\n",
       "      <td>213.03</td>\n",
       "    </tr>\n",
       "  </tbody>\n",
       "</table>\n",
       "</div>"
      ],
      "text/plain": [
       "  school_state teacher_prefix project_grade_category  \\\n",
       "0           ca            mrs          grades_prek_2   \n",
       "1           ut             ms             grades_3_5   \n",
       "\n",
       "   teacher_number_of_previously_posted_projects  project_is_approved  \\\n",
       "0                                            53                    1   \n",
       "1                                             4                    1   \n",
       "\n",
       "  clean_categories                 clean_subcategories  \\\n",
       "0     math_science  appliedsciences health_lifescience   \n",
       "1     specialneeds                        specialneeds   \n",
       "\n",
       "                                               essay   price  \n",
       "0  i fortunate enough use fairy tale stem kits cl...  725.05  \n",
       "1  imagine 8 9 years old you third grade classroo...  213.03  "
      ]
     },
     "execution_count": 69,
     "metadata": {},
     "output_type": "execute_result"
    }
   ],
   "source": [
    "data.head(2)"
   ]
  },
  {
   "cell_type": "code",
   "execution_count": 70,
   "metadata": {},
   "outputs": [
    {
     "data": {
      "text/html": [
       "<div>\n",
       "<style scoped>\n",
       "    .dataframe tbody tr th:only-of-type {\n",
       "        vertical-align: middle;\n",
       "    }\n",
       "\n",
       "    .dataframe tbody tr th {\n",
       "        vertical-align: top;\n",
       "    }\n",
       "\n",
       "    .dataframe thead th {\n",
       "        text-align: right;\n",
       "    }\n",
       "</style>\n",
       "<table border=\"1\" class=\"dataframe\">\n",
       "  <thead>\n",
       "    <tr style=\"text-align: right;\">\n",
       "      <th></th>\n",
       "      <th>school_state</th>\n",
       "      <th>teacher_prefix</th>\n",
       "      <th>project_grade_category</th>\n",
       "      <th>teacher_number_of_previously_posted_projects</th>\n",
       "      <th>clean_categories</th>\n",
       "      <th>clean_subcategories</th>\n",
       "      <th>essay</th>\n",
       "      <th>price</th>\n",
       "    </tr>\n",
       "  </thead>\n",
       "  <tbody>\n",
       "    <tr>\n",
       "      <th>0</th>\n",
       "      <td>ca</td>\n",
       "      <td>mrs</td>\n",
       "      <td>grades_prek_2</td>\n",
       "      <td>53</td>\n",
       "      <td>math_science</td>\n",
       "      <td>appliedsciences health_lifescience</td>\n",
       "      <td>i fortunate enough use fairy tale stem kits cl...</td>\n",
       "      <td>725.05</td>\n",
       "    </tr>\n",
       "  </tbody>\n",
       "</table>\n",
       "</div>"
      ],
      "text/plain": [
       "  school_state teacher_prefix project_grade_category  \\\n",
       "0           ca            mrs          grades_prek_2   \n",
       "\n",
       "   teacher_number_of_previously_posted_projects clean_categories  \\\n",
       "0                                            53     math_science   \n",
       "\n",
       "                  clean_subcategories  \\\n",
       "0  appliedsciences health_lifescience   \n",
       "\n",
       "                                               essay   price  \n",
       "0  i fortunate enough use fairy tale stem kits cl...  725.05  "
      ]
     },
     "execution_count": 70,
     "metadata": {},
     "output_type": "execute_result"
    }
   ],
   "source": [
    "y = data['project_is_approved'].values\n",
    "X = data.drop(['project_is_approved'], axis=1)\n",
    "X.head(1)"
   ]
  },
  {
   "cell_type": "code",
   "execution_count": 71,
   "metadata": {},
   "outputs": [
    {
     "data": {
      "text/plain": [
       "(100000, 8)"
      ]
     },
     "execution_count": 71,
     "metadata": {},
     "output_type": "execute_result"
    }
   ],
   "source": [
    "X.shape"
   ]
  },
  {
   "cell_type": "markdown",
   "metadata": {
    "id": "WtVV13Fyb3dH"
   },
   "source": [
    "<h2>1.2 Splitting data into Train and cross validation(or test): Stratified Sampling</h2>"
   ]
  },
  {
   "cell_type": "code",
   "execution_count": 72,
   "metadata": {},
   "outputs": [],
   "source": [
    "# write your code in following steps for task 1\n",
    "# 1. Split your data.\n",
    "# 2. Perform Bag of Words Vectorization of text data.\n",
    "# 3. Perform tfidf vectorization of text data.\n",
    "# 4. perform one-hot encoding of categorical features.\n",
    "# 5. perform normalization of numerical features\n",
    "# 6. For set 1 stack up all the features using hstack()\n",
    "# 7. For set 2 stack up all the features using hstack()\n",
    "# 8. Perform hyperparameter tuning and represent the training and cross-validation AUC scores for different 'alpha' values, using a 2D line plot.\n",
    "# 9. Find the best hyperparameter 'alpha' and fit the model. Plot ROC-AUC curve(by obtaining the probabilities using 'predict proba' method)\n",
    "# 10. Plot confusion matrix based on the best threshold value\n",
    "# 11. Either for the model in set 1 or in set 2, print the top 20 features(you have to print the names, not the indexes) associated with the positive and negative classes each.\n",
    "# 12. Summarize your observations and compare both the models(ie., from set 1 and set 2) in terms of optimal hyperparameter value, train AUC and test AUC scores. \n",
    "# 13. You can use Prettytable or any other tabular format for comparison.\n",
    "\n",
    "\n",
    "# please write all the code with proper documentation, and proper titles for each subsection\n",
    "# go through documentations and blogs before you start coding\n",
    "# first figure out what to do, and then think about how to do.\n",
    "# reading and understanding error messages will be very much helpfull in debugging your code\n",
    "# when you plot any graph make sure you use \n",
    "    # a. Title, that describes your plot, this will be very helpful to the reader\n",
    "    # b. Legends if needed\n",
    "    # c. X-axis label\n",
    "    # d. Y-axis label\n",
    "    "
   ]
  },
  {
   "cell_type": "code",
   "execution_count": 73,
   "metadata": {
    "id": "i-PyprDNb3dI"
   },
   "outputs": [],
   "source": [
    "# Split the dataset \n",
    "# 1) If you want to apply simple cross-validation, split the dataset into 3 parts (ie., train, CV and test sets)\n",
    "# 2) If you want to apply K-fold CV (or) GridSearch Cross Validation (or) Randomized Search Cross Validation, just split the dataset into 2 parts (ie., train and test sets)\n",
    "\n",
    "# train test split\n",
    "X_train, X_test, y_train, y_test = train_test_split(X, y, test_size=0.20, stratify=y)\n",
    "# X_train, X_cv, y_train, y_cv = train_test_split(X_train, y_train, test_size=0.33, stratify=y_train)"
   ]
  },
  {
   "cell_type": "code",
   "execution_count": 74,
   "metadata": {},
   "outputs": [
    {
     "name": "stdout",
     "output_type": "stream",
     "text": [
      "(80000, 8) (80000,)\n",
      "(20000, 8) (20000,)\n",
      "========================================================================================================================\n"
     ]
    }
   ],
   "source": [
    "print(X_train.shape, y_train.shape)\n",
    "print(X_test.shape, y_test.shape)\n",
    "print('='*120)"
   ]
  },
  {
   "cell_type": "markdown",
   "metadata": {
    "id": "EnZwVNULb3dO"
   },
   "source": [
    "<h2>1.3 Make Data Model Ready: encoding essay, and project_title</h2>"
   ]
  },
  {
   "cell_type": "code",
   "execution_count": 75,
   "metadata": {},
   "outputs": [
    {
     "name": "stdout",
     "output_type": "stream",
     "text": [
      "After vectorizations\n",
      "(80000, 14691) (80000,)\n",
      "(20000, 14691) (20000,)\n",
      "========================================================================================================================\n"
     ]
    }
   ],
   "source": [
    "# Apply Bag of Words (BOW) vectorization on 'Preprocessed_Essay'\n",
    "vectorizer_essay_bow = CountVectorizer(min_df=10)\n",
    "# tried to experiment with the max_features and n_grams\n",
    "# vectorizer_essay_bow = CountVectorizer(min_df=10, ngram_range=(1, 4) max_features=10000)\n",
    "# vectorizer_essay_bow = CountVectorizer(min_df=10, ngram_range=(1, 5) max_features=5000)\n",
    "vectorizer_essay_bow.fit(X_train['essay'].values) # fit has to happen only on train data\n",
    "\n",
    "# we use the fitted CountVectorizer to convert the text to vector\n",
    "X_train_essay_bow = vectorizer_essay_bow.transform(X_train['essay'].values)\n",
    "X_test_essay_bow = vectorizer_essay_bow.transform(X_test['essay'].values)\n",
    "\n",
    "print('After vectorizations')\n",
    "print(X_train_essay_bow.shape, y_train.shape)\n",
    "print(X_test_essay_bow.shape, y_test.shape)\n",
    "print('='*120)"
   ]
  },
  {
   "cell_type": "code",
   "execution_count": 76,
   "metadata": {},
   "outputs": [
    {
     "data": {
      "text/plain": [
       "\"\\n# Apply Bag of Words (BOW) vectorization on 'Project_title' (Optional)\\nvectorizer_title = CountVectorizer(min_df=10,ngram_range=(1,4), max_features=5000)\\nvectorizer_title.fit(X_train['project_title'].values) # fit has to happen only on train data\\n\\n# we use the fitted CountVectorizer to convert the text to vector\\nX_train_title_bow = vectorizer_title.transform(X_train['project_title'].values)\\nX_test_title_bow = vectorizer_title.transform(X_test['project_title'].values)\\n\\nprint('After vectorizations')\\nprint(X_train_title_bow.shape, y_train.shape)\\nprint(X_test_title_bow.shape, y_test.shape)\\nprint('='*120)\""
      ]
     },
     "execution_count": 76,
     "metadata": {},
     "output_type": "execute_result"
    }
   ],
   "source": [
    "\"\"\"\n",
    "# Apply Bag of Words (BOW) vectorization on 'Project_title' (Optional)\n",
    "vectorizer_title = CountVectorizer(min_df=10,ngram_range=(1,4), max_features=5000)\n",
    "vectorizer_title.fit(X_train['project_title'].values) # fit has to happen only on train data\n",
    "\n",
    "# we use the fitted CountVectorizer to convert the text to vector\n",
    "X_train_title_bow = vectorizer_title.transform(X_train['project_title'].values)\n",
    "X_test_title_bow = vectorizer_title.transform(X_test['project_title'].values)\n",
    "\n",
    "print('After vectorizations')\n",
    "print(X_train_title_bow.shape, y_train.shape)\n",
    "print(X_test_title_bow.shape, y_test.shape)\n",
    "print('='*120)\"\"\""
   ]
  },
  {
   "cell_type": "code",
   "execution_count": 77,
   "metadata": {},
   "outputs": [
    {
     "name": "stdout",
     "output_type": "stream",
     "text": [
      "After TF-IDF vectorizations\n",
      "(80000, 14691) (80000,)\n",
      "(20000, 14691) (20000,)\n",
      "========================================================================================================================\n"
     ]
    }
   ],
   "source": [
    "# Apply TF-IDF vectorization on 'Preprocessed_Essay' \n",
    "# Apply TF-IDF vectorization on 'Preprocessed_Title' (Optional)\n",
    "vectorizer_essay_tfidf = TfidfVectorizer(min_df=10)\n",
    "vectorizer_essay_tfidf.fit(X_train['essay'])\n",
    "\n",
    "X_train_essay_tfidf = vectorizer_essay_tfidf.transform(X_train['essay'])\n",
    "X_test_essay_tfidf = vectorizer_essay_tfidf.transform(X_test['essay'])\n",
    "\n",
    "print('After TF-IDF vectorizations')\n",
    "print(X_train_essay_tfidf.shape, y_train.shape)\n",
    "print(X_test_essay_tfidf.shape, y_test.shape)\n",
    "print('='*120)"
   ]
  },
  {
   "cell_type": "markdown",
   "metadata": {
    "id": "bGy86kgHb3dX"
   },
   "source": [
    "# <h2>1.4.1. Make Data Model Ready: Encoding categorical features</h2>"
   ]
  },
  {
   "cell_type": "code",
   "execution_count": 78,
   "metadata": {
    "id": "EfXkofX1b3da"
   },
   "outputs": [
    {
     "name": "stdout",
     "output_type": "stream",
     "text": [
      "After vectorizations\n",
      "(80000, 9) (80000,)\n",
      "(20000, 9) (20000,)\n",
      "['appliedlearning', 'care_hunger', 'health_sports', 'history_civics', 'literacy_language', 'math_science', 'music_arts', 'specialneeds', 'warmth']\n",
      "========================================================================================================================\n"
     ]
    }
   ],
   "source": [
    "# Apply One-Hot Encoding on the categorical features either using OneHotEncoder() (or) CountVectorizer(binary=True)\n",
    "# Apply Normalization on the numerical features using Normalizer().\n",
    "\n",
    "vectorizer_clean_cat = CountVectorizer()\n",
    "vectorizer_clean_cat.fit(X_train['clean_categories'].values) # fit has to happen only on train data\n",
    "\n",
    "# we use the fitted CountVectorizer to convert the text to vector\n",
    "X_train_clean_categories_ohe = vectorizer_clean_cat.transform(X_train['clean_categories'].values)\n",
    "X_test_clean_categories_ohe = vectorizer_clean_cat.transform(X_test['clean_categories'].values)\n",
    "\n",
    "\n",
    "print('After vectorizations')\n",
    "print(X_train_clean_categories_ohe.shape, y_train.shape)\n",
    "print(X_test_clean_categories_ohe.shape, y_test.shape)\n",
    "print(vectorizer_clean_cat.get_feature_names())\n",
    "print('='*120)"
   ]
  },
  {
   "cell_type": "code",
   "execution_count": 79,
   "metadata": {},
   "outputs": [
    {
     "name": "stdout",
     "output_type": "stream",
     "text": [
      "After vectorizations\n",
      "(80000, 30) (80000,)\n",
      "(20000, 30) (20000,)\n",
      "['appliedsciences', 'care_hunger', 'charactereducation', 'civics_government', 'college_careerprep', 'communityservice', 'earlydevelopment', 'economics', 'environmentalscience', 'esl', 'extracurricular', 'financialliteracy', 'foreignlanguages', 'gym_fitness', 'health_lifescience', 'health_wellness', 'history_geography', 'literacy', 'literature_writing', 'mathematics', 'music', 'nutritioneducation', 'other', 'parentinvolvement', 'performingarts', 'socialsciences', 'specialneeds', 'teamsports', 'visualarts', 'warmth']\n",
      "========================================================================================================================\n"
     ]
    }
   ],
   "source": [
    "vectorizer_clean_subcat = CountVectorizer()\n",
    "vectorizer_clean_subcat.fit(X_train['clean_subcategories'].values) # fit has to happen only on train data\n",
    "\n",
    "# we use the fitted CountVectorizer to convert the text to vector\n",
    "X_train_clean_subcategories_ohe = vectorizer_clean_subcat.transform(X_train['clean_subcategories'].values)\n",
    "X_test_clean_subcategories_ohe = vectorizer_clean_subcat.transform(X_test['clean_subcategories'].values)\n",
    "\n",
    "\n",
    "print('After vectorizations')\n",
    "print(X_train_clean_subcategories_ohe.shape, y_train.shape)\n",
    "print(X_test_clean_subcategories_ohe.shape, y_test.shape)\n",
    "print(vectorizer_clean_subcat.get_feature_names())\n",
    "print('='*120)"
   ]
  },
  {
   "cell_type": "code",
   "execution_count": 80,
   "metadata": {},
   "outputs": [
    {
     "name": "stdout",
     "output_type": "stream",
     "text": [
      "After vectorizations\n",
      "(80000, 4) (80000,)\n",
      "(20000, 4) (20000,)\n",
      "['grades_3_5', 'grades_6_8', 'grades_9_12', 'grades_prek_2']\n",
      "========================================================================================================================\n"
     ]
    }
   ],
   "source": [
    "vectorizer_grade = CountVectorizer()\n",
    "vectorizer_grade.fit(X_train['project_grade_category'].values) # fit has to happen only on train data\n",
    "\n",
    "# we use the fitted CountVectorizer to convert the text to vector\n",
    "X_train_grade_ohe = vectorizer_grade.transform(X_train['project_grade_category'].values)\n",
    "X_test_grade_ohe = vectorizer_grade.transform(X_test['project_grade_category'].values)\n",
    "\n",
    "print('After vectorizations')\n",
    "print(X_train_grade_ohe.shape, y_train.shape)\n",
    "print(X_test_grade_ohe.shape, y_test.shape)\n",
    "print(vectorizer_grade.get_feature_names())\n",
    "print('='*120)"
   ]
  },
  {
   "cell_type": "code",
   "execution_count": 81,
   "metadata": {},
   "outputs": [
    {
     "name": "stdout",
     "output_type": "stream",
     "text": [
      "After vectorizations\n",
      "(80000, 51) (80000,)\n",
      "(20000, 51) (20000,)\n",
      "['ak', 'al', 'ar', 'az', 'ca', 'co', 'ct', 'dc', 'de', 'fl', 'ga', 'hi', 'ia', 'id', 'il', 'in', 'ks', 'ky', 'la', 'ma', 'md', 'me', 'mi', 'mn', 'mo', 'ms', 'mt', 'nc', 'nd', 'ne', 'nh', 'nj', 'nm', 'nv', 'ny', 'oh', 'ok', 'or', 'pa', 'ri', 'sc', 'sd', 'tn', 'tx', 'ut', 'va', 'vt', 'wa', 'wi', 'wv', 'wy']\n",
      "========================================================================================================================\n"
     ]
    }
   ],
   "source": [
    "vectorizer_state = CountVectorizer()\n",
    "vectorizer_state.fit(X_train['school_state'].values) # fit has to happen only on train data\n",
    "\n",
    "# we use the fitted CountVectorizer to convert the text to vector\n",
    "X_train_state_ohe = vectorizer_state.transform(X_train['school_state'].values)\n",
    "X_test_state_ohe = vectorizer_state.transform(X_test['school_state'].values)\n",
    "\n",
    "print('After vectorizations')\n",
    "print(X_train_state_ohe.shape, y_train.shape)\n",
    "print(X_test_state_ohe.shape, y_test.shape)\n",
    "print(vectorizer_state.get_feature_names())\n",
    "print('='*120)"
   ]
  },
  {
   "cell_type": "code",
   "execution_count": 82,
   "metadata": {},
   "outputs": [
    {
     "name": "stdout",
     "output_type": "stream",
     "text": [
      "After vectorizations\n",
      "(80000, 5) (80000,)\n",
      "(20000, 5) (20000,)\n",
      "['dr', 'mr', 'mrs', 'ms', 'teacher']\n",
      "========================================================================================================================\n"
     ]
    }
   ],
   "source": [
    "vectorizer_teacher = CountVectorizer()\n",
    "vectorizer_teacher.fit(X_train['teacher_prefix'].values) # fit has to happen only on train data\n",
    "\n",
    "# we use the fitted CountVectorizer to convert the text to vector\n",
    "X_train_teacher_ohe = vectorizer_teacher.transform(X_train['teacher_prefix'].values)\n",
    "X_test_teacher_ohe = vectorizer_teacher.transform(X_test['teacher_prefix'].values)\n",
    "\n",
    "print(\"After vectorizations\")\n",
    "print(X_train_teacher_ohe.shape, y_train.shape)\n",
    "print(X_test_teacher_ohe.shape, y_test.shape)\n",
    "print(vectorizer_teacher.get_feature_names())\n",
    "print(\"=\"*120)"
   ]
  },
  {
   "cell_type": "markdown",
   "metadata": {},
   "source": [
    "<h2>1.4.2. Make Data Model Ready: Encoding numerical features</h2>"
   ]
  },
  {
   "cell_type": "code",
   "execution_count": 83,
   "metadata": {},
   "outputs": [
    {
     "name": "stdout",
     "output_type": "stream",
     "text": [
      "After normalisation\n",
      "(80000, 1) (80000,)\n",
      "(20000, 1) (80000,)\n",
      "========================================================================================================================\n"
     ]
    }
   ],
   "source": [
    "from sklearn.preprocessing import Normalizer\n",
    "normalizer = Normalizer()\n",
    "# normalizer.fit(X_train['price'].values)\n",
    "# this will rise an error Expected 2D array, got 1D array instead: \n",
    "# array=[105.22 215.96  96.01 ... 368.98  80.53 709.67].\n",
    "# Reshape your data either using \n",
    "# array.reshape(-1, 1) if your data has a single feature \n",
    "# array.reshape(1, -1)  if it contains a single sample.\n",
    "normalizer.fit(X_train['price'].values.reshape(-1,1))\n",
    "\n",
    "X_train_price_norm = normalizer.transform(X_train['price'].values.reshape(-1,1))\n",
    "X_test_price_norm = normalizer.transform(X_test['price'].values.reshape(-1,1))\n",
    "\n",
    "print('After normalisation')\n",
    "print(X_train_price_norm.shape, y_train.shape)\n",
    "print(X_test_price_norm.shape, y_train.shape)\n",
    "print('='*120)"
   ]
  },
  {
   "cell_type": "code",
   "execution_count": 84,
   "metadata": {},
   "outputs": [
    {
     "name": "stdout",
     "output_type": "stream",
     "text": [
      "After normalisation\n",
      "(80000, 1) (80000,)\n",
      "(20000, 1) (80000,)\n",
      "========================================================================================================================\n"
     ]
    }
   ],
   "source": [
    "normalizer = Normalizer()\n",
    "# normalizer.fit(X_train['price'].values)\n",
    "# this will rise an error Expected 2D array, got 1D array instead: \n",
    "# array=[105.22 215.96  96.01 ... 368.98  80.53 709.67].\n",
    "# Reshape your data either using \n",
    "# array.reshape(-1, 1) if your data has a single feature \n",
    "# array.reshape(1, -1)  if it contains a single sample.\n",
    "normalizer.fit(X_train['teacher_number_of_previously_posted_projects'].values.reshape(-1,1))\n",
    "\n",
    "X_train_previously_posted_projects_norm = normalizer.transform(X_train['teacher_number_of_previously_posted_projects'].values.reshape(-1,1))\n",
    "X_test_previously_posted_projects_norm = normalizer.transform(X_test['teacher_number_of_previously_posted_projects'].values.reshape(-1,1))\n",
    "\n",
    "print('After normalisation')\n",
    "print(X_train_previously_posted_projects_norm.shape, y_train.shape)\n",
    "print(X_test_previously_posted_projects_norm.shape, y_train.shape)\n",
    "print('='*120)"
   ]
  },
  {
   "cell_type": "code",
   "execution_count": 85,
   "metadata": {},
   "outputs": [
    {
     "name": "stdout",
     "output_type": "stream",
     "text": [
      "Final Data Matrix\n",
      "(80000, 14792) (80000,)\n",
      "(20000, 14792) (20000,)\n",
      "========================================================================================================================\n"
     ]
    }
   ],
   "source": [
    "# merge two sparse matrices: https://stackoverflow.com/a/19710648/4084039\n",
    "# from scipy.sparse import hstack\n",
    "X_tr_set1 = hstack((X_train_essay_bow,\n",
    "               X_train_clean_categories_ohe,\n",
    "               X_train_clean_subcategories_ohe, \n",
    "               X_train_grade_ohe, \n",
    "               X_train_state_ohe, \n",
    "               X_train_teacher_ohe, \n",
    "               X_train_price_norm, \n",
    "               X_train_previously_posted_projects_norm)).tocsr()\n",
    "\n",
    "X_te_set1 = hstack((X_test_essay_bow,\n",
    "               X_test_clean_categories_ohe,\n",
    "               X_test_clean_subcategories_ohe, \n",
    "               X_test_grade_ohe, \n",
    "               X_test_state_ohe, \n",
    "               X_test_teacher_ohe, \n",
    "               X_test_price_norm, \n",
    "               X_test_previously_posted_projects_norm)).tocsr()\n",
    "\n",
    "print('Final Data Matrix')\n",
    "print(X_tr_set1.shape, y_train.shape)\n",
    "print(X_te_set1.shape, y_test.shape)\n",
    "print('='*120)"
   ]
  },
  {
   "cell_type": "markdown",
   "metadata": {
    "id": "yYHPYadYb3dh"
   },
   "source": [
    "<h2>1.5 Appling NB on different kind of featurization as mentioned in the instructions</h2>\n",
    "\n",
    "<br>Apply NB on different kind of featurization as mentioned in the instructions\n",
    "<br> For Every model that you work on make sure you do the step 2 and step 3 of instrucations"
   ]
  },
  {
   "cell_type": "markdown",
   "metadata": {
    "id": "DNwqilFxb3di"
   },
   "source": [
    "## Set 1"
   ]
  },
  {
   "cell_type": "code",
   "execution_count": 86,
   "metadata": {},
   "outputs": [
    {
     "name": "stdout",
     "output_type": "stream",
     "text": [
      "Fitting 10 folds for each of 20 candidates, totalling 200 fits\n",
      "Best Alpha:  0.5 Best Score:  0.7046748548074189\n"
     ]
    }
   ],
   "source": [
    "# Perform Hyperparameter Tuning.\n",
    "# Plot the training and the CV AUC scores, for different values of 'alpha', using a 2D line plot\n",
    "\n",
    "# https://scikit-learn.org/stable/modules/generated/sklearn.model_selection.GridSearchCV.html\n",
    "# from sklearn.model_selection import GridSearchCV\n",
    "# from scipy.stats import randint as sp_randint\n",
    "# from sklearn.model_selection import RandomizedSearchCV\n",
    "\n",
    "\n",
    "parameters = {'alpha':[0.00001, 0.00005, 0.0001, 0.0005, 0.001, 0.005, 0.01, 0.05, 0.1, 0.5, \n",
    "                       1, 5, 10, 50, 100, 500, 1000, 2500, 5000, 10000]}\n",
    "\n",
    "mnb_bow = MultinomialNB(class_prior=[0.5, 0.5], fit_prior=False)\n",
    "clf = GridSearchCV(mnb_bow, parameters, cv=10, scoring='roc_auc', verbose=1, return_train_score=True)\n",
    "clf.fit(X_tr_set1, y_train)\n",
    "\n",
    "train_auc = clf.cv_results_['mean_train_score']\n",
    "train_auc_std = clf.cv_results_['std_train_score']\n",
    "\n",
    "cv_auc = clf.cv_results_['mean_test_score']\n",
    "cv_auc_std = clf.cv_results_['std_test_score']\n",
    "\n",
    "best_alpha_bow = clf.best_params_['alpha']\n",
    "best_score_bow = clf.best_score_\n",
    "print('Best Alpha: ', best_alpha_bow, \"Best Score: \", best_score_bow) #clf.best_estimator_.alpha"
   ]
  },
  {
   "cell_type": "code",
   "execution_count": 87,
   "metadata": {},
   "outputs": [
    {
     "data": {
      "image/png": "[encoded data removed]",
      "text/plain": [
       "<Figure size 720x360 with 1 Axes>"
      ]
     },
     "metadata": {
      "needs_background": "light"
     },
     "output_type": "display_data"
    }
   ],
   "source": [
    "alphas = [0.00001, 0.00005, 0.0001, 0.0005, 0.001, 0.005, 0.01, 0.05, 0.1, 0.5, 1, 5, 10, 50, 100, 500, 1000, 2500, 5000, 10000]\n",
    "\n",
    "log_alphas =[]\n",
    "for a in alphas:\n",
    "    b = np.log10(a)\n",
    "    log_alphas.append(b)\n",
    "\n",
    "plt.figure(figsize=(10,5))\n",
    "plt.plot(log_alphas, train_auc, label='Train AUC')\n",
    "# this code is copied from here: https://stackoverflow.com/a/48803361/4084039\n",
    "plt.gca().fill_between(log_alphas,train_auc - train_auc_std,train_auc + train_auc_std,alpha=0.3,color='darkblue')\n",
    "plt.plot(log_alphas, cv_auc, label='CV AUC')\n",
    "# this code is copied from here: https://stackoverflow.com/a/48803361/4084039\n",
    "plt.gca().fill_between(log_alphas,cv_auc - cv_auc_std,cv_auc + cv_auc_std,alpha=0.3,color='darkorange')\n",
    "plt.scatter(log_alphas, train_auc, label='Train AUC points')\n",
    "plt.scatter(log_alphas, cv_auc, label='CV AUC points')\n",
    "plt.legend()\n",
    "plt.xlabel(\"log(alpha): hyperparameter\")\n",
    "plt.ylabel(\"AUC\")\n",
    "plt.title(\"Hyperparameter(alpha) vs AUC\")\n",
    "plt.grid()\n",
    "plt.show()"
   ]
  },
  {
   "cell_type": "code",
   "execution_count": 88,
   "metadata": {},
   "outputs": [
    {
     "data": {
      "image/png": "[encoded data removed]",
      "text/plain": [
       "<Figure size 432x288 with 1 Axes>"
      ]
     },
     "metadata": {
      "needs_background": "light"
     },
     "output_type": "display_data"
    }
   ],
   "source": [
    "# Obtain the optimal value for 'alpha' and using the obtained optimal 'alpha' value, fit a multinomial naive bayes model, on the train data,\n",
    "# Note: If you have split the datase into 3 parts (ie., train, cv and test sets) in the beginning, then the training data for this final model would be (train set + cv set)\n",
    "# Make class label and probability predictions on the train and test data.\n",
    "\n",
    "'''\n",
    "# https://scikit-learn.org/stable/modules/generated/sklearn.metrics.roc_curve.html#sklearn.metrics.roc_curve\n",
    "mnb_bow_test_model = MultinomialNB(alpha=best_alpha_bow, class_prior=[0.5, 0.5], fit_prior=False)\n",
    "mnb_bow_test_model.fit(X_tr_set1, y_train)\n",
    "# roc_auc_score(y_true, y_score) the 2nd parameter should be probability estimates of the positive class\n",
    "# not the predicted outputs\n",
    "\n",
    "y_train_pred = batch_predict(mnb_bow_test_model, X_tr_set1)    \n",
    "y_test_pred = batch_predict(mnb_bow_test_model, X_te_set1)\n",
    "\n",
    "train_fpr, train_tpr, tr_thresholds = roc_curve(y_train, y_train_pred)\n",
    "test_fpr, test_tpr, te_thresholds = roc_curve(y_test, y_test_pred)\n",
    "\n",
    "plt.plot(train_fpr, train_tpr, label=\"train AUC =\"+str(auc(train_fpr, train_tpr)))\n",
    "plt.plot(test_fpr, test_tpr, label=\"test AUC =\"+str(auc(test_fpr, test_tpr)))\n",
    "plt.legend()\n",
    "plt.xlabel('Alpha: hyperparameter')\n",
    "plt.ylabel('AUC')\n",
    "plt.title('ERROR PLOTS')\n",
    "plt.grid()\n",
    "plt.show()\n",
    "'''\n",
    "\n",
    "\n",
    "\n",
    "#https://scikitlearn.org/stable/modules/generated/sklearn.metrics.roc_curve.html#sklearn.metrics.roc_curve\n",
    "mnb_bow_test_model = MultinomialNB(alpha = best_alpha_bow, class_prior=[0.5, 0.5], fit_prior=False)\n",
    "mnb_bow_test_model.fit(X_tr_set1, y_train)\n",
    "\n",
    "y_train_pred = mnb_bow_test_model.predict_proba(X_tr_set1)[:,1]\n",
    "y_test_pred = mnb_bow_test_model.predict_proba(X_te_set1)[:,1]\n",
    "\n",
    "\n",
    "# Plot the ROC-AUC curves using the probability predictions made on train and test data.\n",
    "train_fpr, train_tpr, tr_thresholds = roc_curve(y_train, y_train_pred)\n",
    "test_fpr, test_tpr, te_thresholds = roc_curve(y_test, y_test_pred)\n",
    "\n",
    "ax = plt.subplot()\n",
    "auc_train_set1 = auc(train_fpr, train_tpr)\n",
    "auc_test_set1 = auc(test_fpr, test_tpr)\n",
    "\n",
    "ax.plot(train_fpr, train_tpr, label=\"Train AUC =\"+str(auc(train_fpr, train_tpr)))\n",
    "ax.plot(test_fpr, test_tpr, label=\"Test AUC =\"+str(auc(test_fpr, test_tpr)))\n",
    "\n",
    "plt.legend()\n",
    "plt.xlabel(\"False Positive Rate(FPR)\")\n",
    "plt.ylabel(\"True Positive Rate(TPR)\")\n",
    "plt.title(\"AUC\")\n",
    "plt.grid(b=True, which='major', color='k', linestyle=':')\n",
    "ax.set_facecolor(\"white\")\n",
    "plt.show()"
   ]
  },
  {
   "cell_type": "code",
   "execution_count": 89,
   "metadata": {},
   "outputs": [],
   "source": [
    "# we are writing our own function for predict, with defined thresould\n",
    "# we will pick a threshold that will give the least fpr\n",
    "def find_best_threshold(threshould, fpr, tpr):\n",
    "    t = threshould[np.argmax(tpr*(1-fpr))]\n",
    "    # (tpr*(1-fpr)) will be maximum if your fpr is very low and tpr is very high\n",
    "    print(\"the maximum value of tpr*(1-fpr)\", max(tpr*(1-fpr)), \"for threshold\", np.round(t,3))\n",
    "    return t\n",
    "\n",
    "def predict_with_best_t(proba, threshould):\n",
    "    predictions = []\n",
    "    for i in proba:\n",
    "        if i>=threshould:\n",
    "            predictions.append(1)\n",
    "        else:\n",
    "            predictions.append(0)\n",
    "    return predictions"
   ]
  },
  {
   "cell_type": "code",
   "execution_count": 90,
   "metadata": {},
   "outputs": [
    {
     "name": "stdout",
     "output_type": "stream",
     "text": [
      "========================================================================================================================\n",
      "the maximum value of tpr*(1-fpr) 0.4974692978872884 for threshold 0.54\n",
      "Train confusion matrix\n",
      "[[ 8721  3425]\n",
      " [20842 47012]]\n"
     ]
    },
    {
     "data": {
      "text/plain": [
       "[Text(0.5, 15.0, 'Predected'), Text(33.0, 0.5, 'Actual')]"
      ]
     },
     "execution_count": 90,
     "metadata": {},
     "output_type": "execute_result"
    },
    {
     "data": {
      "image/png": "[encoded data removed]",
      "text/plain": [
       "<Figure size 432x288 with 2 Axes>"
      ]
     },
     "metadata": {
      "needs_background": "light"
     },
     "output_type": "display_data"
    }
   ],
   "source": [
    "# Pick the best threshold among the probability estimates, such that it has to yield maximum value for TPR*(1-FPR)\n",
    "# Plot the confusion matrices(each for train and test data) afer encoding the predicted class labels, on the basis of the best threshod probability estimate.\n",
    "\n",
    "print('='*120)\n",
    "from sklearn.metrics import confusion_matrix\n",
    "best_t = find_best_threshold(tr_thresholds, train_fpr, train_tpr)\n",
    "print(\"Train confusion matrix\")\n",
    "cm_train = confusion_matrix(y_train, predict_with_best_t(y_train_pred, best_t))\n",
    "print(cm_train)\n",
    "p = sns.heatmap(cm_train, annot=True, fmt=\"d\", cmap='Blues')\n",
    "p.set(xlabel='Predected', ylabel='Actual')"
   ]
  },
  {
   "cell_type": "code",
   "execution_count": 91,
   "metadata": {},
   "outputs": [
    {
     "name": "stdout",
     "output_type": "stream",
     "text": [
      "Test confusion matrix\n",
      "[[ 1935  1102]\n",
      " [ 5557 11406]]\n"
     ]
    },
    {
     "data": {
      "text/plain": [
       "[Text(0.5, 15.0, 'Predected'), Text(33.0, 0.5, 'Actual')]"
      ]
     },
     "execution_count": 91,
     "metadata": {},
     "output_type": "execute_result"
    },
    {
     "data": {
      "image/png": "[encoded data removed]",
      "text/plain": [
       "<Figure size 432x288 with 2 Axes>"
      ]
     },
     "metadata": {
      "needs_background": "light"
     },
     "output_type": "display_data"
    }
   ],
   "source": [
    "print(\"Test confusion matrix\")\n",
    "#print(confusion_matrix(y_test, predict_with_best_t(y_test_pred, best_t)))\n",
    "cm_test = confusion_matrix(y_test, predict_with_best_t(y_test_pred, best_t))\n",
    "print(cm_test)\n",
    "p = sns.heatmap(cm_test, annot=True, fmt=\"d\", cmap='Blues')\n",
    "p.set(xlabel='Predected', ylabel='Actual')"
   ]
  },
  {
   "cell_type": "markdown",
   "metadata": {},
   "source": [
    "## Set 2"
   ]
  },
  {
   "cell_type": "code",
   "execution_count": 92,
   "metadata": {},
   "outputs": [
    {
     "name": "stdout",
     "output_type": "stream",
     "text": [
      "Final Data Matrix\n",
      "(80000, 14792) (80000,)\n",
      "(20000, 14792) (20000,)\n",
      "========================================================================================================================\n"
     ]
    }
   ],
   "source": [
    "# merge two sparse matrices: https://stackoverflow.com/a/19710648/4084039\n",
    "# from scipy.sparse import hstack\n",
    "# X_train_essay_tfidf\n",
    "X_tr_set2 = hstack((X_train_essay_tfidf,\n",
    "               X_train_clean_categories_ohe,\n",
    "               X_train_clean_subcategories_ohe, \n",
    "               X_train_grade_ohe, \n",
    "               X_train_state_ohe, \n",
    "               X_train_teacher_ohe, \n",
    "               X_train_price_norm, \n",
    "               X_train_previously_posted_projects_norm)).tocsr()\n",
    "\n",
    "X_te_set2 = hstack((X_test_essay_tfidf,\n",
    "               X_test_clean_categories_ohe,\n",
    "               X_test_clean_subcategories_ohe, \n",
    "               X_test_grade_ohe, \n",
    "               X_test_state_ohe, \n",
    "               X_test_teacher_ohe, \n",
    "               X_test_price_norm, \n",
    "               X_test_previously_posted_projects_norm)).tocsr()\n",
    "\n",
    "print('Final Data Matrix')\n",
    "print(X_tr_set2.shape, y_train.shape)\n",
    "print(X_te_set2.shape, y_test.shape)\n",
    "print('='*120)"
   ]
  },
  {
   "cell_type": "code",
   "execution_count": 93,
   "metadata": {},
   "outputs": [
    {
     "name": "stdout",
     "output_type": "stream",
     "text": [
      "Fitting 10 folds for each of 20 candidates, totalling 200 fits\n",
      "Best Alpha:  0.05 Best Score:  0.679661351322252\n"
     ]
    }
   ],
   "source": [
    "# Perform Hyperparameter Tuning.\n",
    "# Plot the training and the CV AUC scores, for different values of 'alpha', using a 2D line plot\n",
    "\n",
    "# https://scikit-learn.org/stable/modules/generated/sklearn.model_selection.GridSearchCV.html\n",
    "# from sklearn.model_selection import GridSearchCV\n",
    "# from scipy.stats import randint as sp_randint\n",
    "# from sklearn.model_selection import RandomizedSearchCV\n",
    "\n",
    "\n",
    "parameters = {'alpha':[0.00001, 0.00005, 0.0001, 0.0005, 0.001, 0.005, 0.01, 0.05, 0.1, 0.5, \n",
    "                       1, 5, 10, 50, 100, 500, 1000, 2500, 5000, 10000]}\n",
    "\n",
    "mnb_tfidf = MultinomialNB(class_prior=[0.5, 0.5], fit_prior=False)\n",
    "clf = GridSearchCV(mnb_tfidf, parameters, cv=10, scoring='roc_auc', verbose=1, return_train_score=True)\n",
    "clf.fit(X_tr_set2, y_train)\n",
    "\n",
    "train_auc = clf.cv_results_['mean_train_score']\n",
    "train_auc_std = clf.cv_results_['std_train_score']\n",
    "\n",
    "test_auc = clf.cv_results_['mean_test_score']\n",
    "test_auc_std = clf.cv_results_['std_test_score']\n",
    "\n",
    "best_alpha_tfidf = clf.best_params_['alpha']\n",
    "best_score_tfidf = clf.best_score_\n",
    "print('Best Alpha: ', best_alpha_tfidf, \"Best Score: \", best_score_tfidf) #clf.best_estimator_.alpha"
   ]
  },
  {
   "cell_type": "code",
   "execution_count": 94,
   "metadata": {},
   "outputs": [
    {
     "data": {
      "image/png": "[encoded data removed]",
      "text/plain": [
       "<Figure size 720x360 with 1 Axes>"
      ]
     },
     "metadata": {
      "needs_background": "light"
     },
     "output_type": "display_data"
    }
   ],
   "source": [
    "# Perform Hyperparameter Tuning.\n",
    "# Plot the training and the CV AUC scores, for different values of 'alpha', using a 2D line plot\n",
    "\n",
    "alphas = [0.00001, 0.00005, 0.0001, 0.0005, 0.001, 0.005, 0.01, 0.05, 0.1, 0.5, 1, 5, 10, 50, 100, 500, 1000, 2500, 5000, 10000]\n",
    "\n",
    "log_alphas =[]\n",
    "for a in alphas:\n",
    "    b = np.log10(a)\n",
    "    log_alphas.append(b)\n",
    "\n",
    "plt.figure(figsize=(10,5))\n",
    "plt.plot(log_alphas, train_auc, label='Train AUC')\n",
    "# this code is copied from here: https://stackoverflow.com/a/48803361/4084039\n",
    "plt.gca().fill_between(log_alphas,train_auc - train_auc_std,train_auc + train_auc_std,alpha=0.3,color='darkblue')\n",
    "plt.plot(log_alphas, cv_auc, label='CV AUC')\n",
    "# this code is copied from here: https://stackoverflow.com/a/48803361/4084039\n",
    "plt.gca().fill_between(log_alphas,cv_auc - cv_auc_std,cv_auc + cv_auc_std,alpha=0.3,color='darkorange')\n",
    "\n",
    "ax = plt.subplot()\n",
    "ax.scatter(log_alphas, train_auc, label='Train AUC points')\n",
    "ax.scatter(log_alphas, cv_auc, label='CV AUC points')\n",
    "plt.legend()\n",
    "plt.xlabel(\"log(alpha): hyperparameter\")\n",
    "plt.ylabel(\"AUC\")\n",
    "plt.title(\"Hyperparameter(alpha) vs AUC\")\n",
    "plt.grid(b=True, which='major', color='k', linestyle=':')\n",
    "ax.set_facecolor(\"white\")\n",
    "plt.show()"
   ]
  },
  {
   "cell_type": "code",
   "execution_count": 95,
   "metadata": {},
   "outputs": [
    {
     "data": {
      "image/png": "[encoded data removed]",
      "text/plain": [
       "<Figure size 432x288 with 1 Axes>"
      ]
     },
     "metadata": {
      "needs_background": "light"
     },
     "output_type": "display_data"
    }
   ],
   "source": [
    "'''# https://scikit-learn.org/stable/modules/generated/sklearn.metrics.roc_curve.html#sklearn.metrics.roc_curve\n",
    "mnb_bow_test_model = MultinomialNB(alpha=best_alpha_tfidf, class_prior=[0.5, 0.5], fit_prior=False)\n",
    "mnb_bow_test_model.fit(X_tr_set2, y_train)\n",
    "# roc_auc_score(y_true, y_score) the 2nd parameter should be probability estimates of the positive class\n",
    "# not the predicted outputs\n",
    "\n",
    "y_train_pred = batch_predict(mnb_bow_test_model, X_tr_set2)    \n",
    "y_test_pred = batch_predict(mnb_bow_test_model, X_te_set2)\n",
    "\n",
    "train_fpr, train_tpr, tr_thresholds = roc_curve(y_train, y_train_pred)\n",
    "test_fpr, test_tpr, te_thresholds = roc_curve(y_test, y_test_pred)\n",
    "\n",
    "plt.plot(train_fpr, train_tpr, label=\"train AUC =\"+str(auc(train_fpr, train_tpr)))\n",
    "plt.plot(test_fpr, test_tpr, label=\"test AUC =\"+str(auc(test_fpr, test_tpr)))\n",
    "plt.legend()\n",
    "plt.xlabel(\"Alpha: hyperparameter\")\n",
    "plt.ylabel(\"AUC\")\n",
    "plt.title(\"ERROR PLOTS\")\n",
    "plt.grid()\n",
    "plt.show()'''\n",
    "\n",
    "#https://scikitlearn.org/stable/modules/generated/sklearn.metrics.roc_curve.html#sklearn.metrics.roc_curve\n",
    "mnb_tfidf_test_model = MultinomialNB(alpha = best_alpha_tfidf, class_prior=[0.5, 0.5], fit_prior=False)\n",
    "mnb_tfidf_test_model.fit(X_tr_set2, y_train)\n",
    "\n",
    "y_train_pred = mnb_tfidf_test_model.predict_proba(X_tr_set2)[:,1]\n",
    "y_test_pred = mnb_tfidf_test_model.predict_proba(X_te_set2)[:,1]\n",
    "\n",
    "train_fpr, train_tpr, tr_thresholds = roc_curve(y_train, y_train_pred)\n",
    "test_fpr, test_tpr, te_thresholds = roc_curve(y_test, y_test_pred)\n",
    "\n",
    "# Plot the ROC-AUC curves using the probability predictions made on train and test data.\n",
    "ax = plt.subplot()\n",
    "auc_train_set2 = auc(train_fpr, train_tpr)\n",
    "auc_test_set2 = auc(test_fpr, test_tpr)\n",
    "\n",
    "ax.plot(train_fpr, train_tpr, label=\"Train AUC =\"+str(auc(train_fpr, train_tpr)))\n",
    "ax.plot(test_fpr, test_tpr, label=\"Test AUC =\"+str(auc(test_fpr, test_tpr)))\n",
    "\n",
    "plt.legend()\n",
    "plt.xlabel(\"False Positive Rate(FPR)\")\n",
    "plt.ylabel(\"True Positive Rate(TPR)\")\n",
    "plt.title(\"AUC\")\n",
    "plt.grid(b=True, which='major', color='k', linestyle=':')\n",
    "ax.set_facecolor(\"white\")\n",
    "plt.show()"
   ]
  },
  {
   "cell_type": "code",
   "execution_count": 96,
   "metadata": {},
   "outputs": [
    {
     "name": "stdout",
     "output_type": "stream",
     "text": [
      "========================================================================================================================\n",
      "the maximum value of tpr*(1-fpr) 0.48235147566060543 for threshold 0.501\n",
      "Train confusion matrix\n",
      "[[ 8402  3744]\n",
      " [20540 47314]]\n"
     ]
    },
    {
     "data": {
      "text/plain": [
       "[Text(0.5, 15.0, 'Predected'), Text(33.0, 0.5, 'Actual')]"
      ]
     },
     "execution_count": 96,
     "metadata": {},
     "output_type": "execute_result"
    },
    {
     "data": {
      "image/png": "[encoded data removed]",
      "text/plain": [
       "<Figure size 432x288 with 2 Axes>"
      ]
     },
     "metadata": {
      "needs_background": "light"
     },
     "output_type": "display_data"
    }
   ],
   "source": [
    "print('='*120)\n",
    "best_t = find_best_threshold(tr_thresholds, train_fpr, train_tpr)\n",
    "print(\"Train confusion matrix\")\n",
    "cm_train = confusion_matrix(y_train, predict_with_best_t(y_train_pred, best_t))\n",
    "print(cm_train)\n",
    "p = sns.heatmap(cm_train, annot=True, fmt='d', cmap='Blues')\n",
    "p.set(xlabel='Predected', ylabel='Actual')"
   ]
  },
  {
   "cell_type": "code",
   "execution_count": 97,
   "metadata": {},
   "outputs": [
    {
     "name": "stdout",
     "output_type": "stream",
     "text": [
      "Test confusion matrix\n",
      "[[ 1795  1242]\n",
      " [ 5470 11493]]\n"
     ]
    },
    {
     "data": {
      "text/plain": [
       "[Text(0.5, 15.0, 'Predected'), Text(33.0, 0.5, 'Actual')]"
      ]
     },
     "execution_count": 97,
     "metadata": {},
     "output_type": "execute_result"
    },
    {
     "data": {
      "image/png": "[encoded data removed]",
      "text/plain": [
       "<Figure size 432x288 with 2 Axes>"
      ]
     },
     "metadata": {
      "needs_background": "light"
     },
     "output_type": "display_data"
    }
   ],
   "source": [
    "print(\"Test confusion matrix\")\n",
    "cm_test = confusion_matrix(y_test, predict_with_best_t(y_test_pred, best_t))\n",
    "print(cm_test)\n",
    "p = sns.heatmap(cm_test, annot=True, fmt='d', cmap='Blues')\n",
    "p.set(xlabel='Predected', ylabel='Actual')"
   ]
  },
  {
   "cell_type": "code",
   "execution_count": 98,
   "metadata": {},
   "outputs": [
    {
     "name": "stdout",
     "output_type": "stream",
     "text": [
      "14792\n"
     ]
    }
   ],
   "source": [
    "# Either from set 1 (or) set 2, print the names of the top 20 features associated with the positive and negative classes each. (You have to print the names of the features, but not the indexes)\n",
    "\n",
    "\n",
    "all_features_names_bow =  []\n",
    "\n",
    "all_features_names_bow.extend(vectorizer_essay_bow.get_feature_names())\n",
    "\n",
    "all_features_names_bow.extend(vectorizer_clean_cat.get_feature_names())\n",
    "\n",
    "all_features_names_bow.extend(vectorizer_clean_subcat.get_feature_names())\n",
    "\n",
    "all_features_names_bow.extend(vectorizer_grade.get_feature_names())\n",
    "\n",
    "all_features_names_bow.extend(vectorizer_state.get_feature_names())\n",
    "\n",
    "all_features_names_bow.extend(vectorizer_teacher.get_feature_names())\n",
    "\n",
    "all_features_names_bow.append('price')\n",
    "\n",
    "all_features_names_bow.append('previously_posted_projects')\n",
    "\n",
    "total_feature_names_bow = len(all_features_names_bow)\n",
    "print(total_feature_names_bow)"
   ]
  },
  {
   "cell_type": "code",
   "execution_count": 99,
   "metadata": {},
   "outputs": [
    {
     "data": {
      "text/plain": [
       "MultinomialNB(alpha=0.5, class_prior=[0.5, 0.5], fit_prior=False)"
      ]
     },
     "execution_count": 99,
     "metadata": {},
     "output_type": "execute_result"
    }
   ],
   "source": [
    "nb_bow = MultinomialNB(alpha=best_alpha_bow, class_prior=[0.5,0.5], fit_prior=False)\n",
    "nb_bow.fit(X_tr_set1, y_train)"
   ]
  },
  {
   "cell_type": "code",
   "execution_count": 100,
   "metadata": {},
   "outputs": [],
   "source": [
    "bow_features_probs_neg = {}\n",
    "for ele in range(total_feature_names_bow):\n",
    "    bow_features_probs_neg[ele] = nb_bow.feature_log_prob_[0, ele]"
   ]
  },
  {
   "cell_type": "code",
   "execution_count": 101,
   "metadata": {},
   "outputs": [],
   "source": [
    "final_bow_features_neg = pd.DataFrame({'feature_prob': list(bow_features_probs_neg.values()),\n",
    "                                       'feature_names': list(all_features_names_bow)})"
   ]
  },
  {
   "cell_type": "code",
   "execution_count": 102,
   "metadata": {},
   "outputs": [],
   "source": [
    "# final_bow_features_neg"
   ]
  },
  {
   "cell_type": "code",
   "execution_count": 103,
   "metadata": {},
   "outputs": [],
   "source": [
    "bow_neg_ascending_order = final_bow_features_neg.sort_values(by=['feature_prob'], ascending=False)"
   ]
  },
  {
   "cell_type": "code",
   "execution_count": 104,
   "metadata": {},
   "outputs": [
    {
     "name": "stdout",
     "output_type": "stream",
     "text": [
      "Top 10 Negative features - Bag of words\n"
     ]
    },
    {
     "data": {
      "text/html": [
       "<div>\n",
       "<style scoped>\n",
       "    .dataframe tbody tr th:only-of-type {\n",
       "        vertical-align: middle;\n",
       "    }\n",
       "\n",
       "    .dataframe tbody tr th {\n",
       "        vertical-align: top;\n",
       "    }\n",
       "\n",
       "    .dataframe thead th {\n",
       "        text-align: right;\n",
       "    }\n",
       "</style>\n",
       "<table border=\"1\" class=\"dataframe\">\n",
       "  <thead>\n",
       "    <tr style=\"text-align: right;\">\n",
       "      <th></th>\n",
       "      <th>feature_prob</th>\n",
       "      <th>feature_names</th>\n",
       "    </tr>\n",
       "  </thead>\n",
       "  <tbody>\n",
       "    <tr>\n",
       "      <th>12643</th>\n",
       "      <td>-3.065752</td>\n",
       "      <td>students</td>\n",
       "    </tr>\n",
       "    <tr>\n",
       "      <th>11471</th>\n",
       "      <td>-4.157452</td>\n",
       "      <td>school</td>\n",
       "    </tr>\n",
       "    <tr>\n",
       "      <th>7564</th>\n",
       "      <td>-4.488059</td>\n",
       "      <td>learning</td>\n",
       "    </tr>\n",
       "    <tr>\n",
       "      <th>8580</th>\n",
       "      <td>-4.531618</td>\n",
       "      <td>my</td>\n",
       "    </tr>\n",
       "    <tr>\n",
       "      <th>2470</th>\n",
       "      <td>-4.638816</td>\n",
       "      <td>classroom</td>\n",
       "    </tr>\n",
       "    <tr>\n",
       "      <th>8808</th>\n",
       "      <td>-4.824303</td>\n",
       "      <td>not</td>\n",
       "    </tr>\n",
       "    <tr>\n",
       "      <th>7560</th>\n",
       "      <td>-4.840071</td>\n",
       "      <td>learn</td>\n",
       "    </tr>\n",
       "    <tr>\n",
       "      <th>13191</th>\n",
       "      <td>-4.859256</td>\n",
       "      <td>they</td>\n",
       "    </tr>\n",
       "    <tr>\n",
       "      <th>6216</th>\n",
       "      <td>-4.875371</td>\n",
       "      <td>help</td>\n",
       "    </tr>\n",
       "    <tr>\n",
       "      <th>13152</th>\n",
       "      <td>-4.887148</td>\n",
       "      <td>the</td>\n",
       "    </tr>\n",
       "  </tbody>\n",
       "</table>\n",
       "</div>"
      ],
      "text/plain": [
       "       feature_prob feature_names\n",
       "12643     -3.065752      students\n",
       "11471     -4.157452        school\n",
       "7564      -4.488059      learning\n",
       "8580      -4.531618            my\n",
       "2470      -4.638816     classroom\n",
       "8808      -4.824303           not\n",
       "7560      -4.840071         learn\n",
       "13191     -4.859256          they\n",
       "6216      -4.875371          help\n",
       "13152     -4.887148           the"
      ]
     },
     "execution_count": 104,
     "metadata": {},
     "output_type": "execute_result"
    }
   ],
   "source": [
    "print('Top 10 Negative features - Bag of words')\n",
    "bow_neg_ascending_order.head(10)"
   ]
  },
  {
   "cell_type": "code",
   "execution_count": 105,
   "metadata": {},
   "outputs": [
    {
     "name": "stdout",
     "output_type": "stream",
     "text": [
      "Top 10 Positive features - Bag of words\n"
     ]
    },
    {
     "data": {
      "text/html": [
       "<div>\n",
       "<style scoped>\n",
       "    .dataframe tbody tr th:only-of-type {\n",
       "        vertical-align: middle;\n",
       "    }\n",
       "\n",
       "    .dataframe tbody tr th {\n",
       "        vertical-align: top;\n",
       "    }\n",
       "\n",
       "    .dataframe thead th {\n",
       "        text-align: right;\n",
       "    }\n",
       "</style>\n",
       "<table border=\"1\" class=\"dataframe\">\n",
       "  <thead>\n",
       "    <tr style=\"text-align: right;\">\n",
       "      <th></th>\n",
       "      <th>feature_prob</th>\n",
       "      <th>feature_names</th>\n",
       "    </tr>\n",
       "  </thead>\n",
       "  <tbody>\n",
       "    <tr>\n",
       "      <th>12643</th>\n",
       "      <td>-3.054700</td>\n",
       "      <td>students</td>\n",
       "    </tr>\n",
       "    <tr>\n",
       "      <th>11471</th>\n",
       "      <td>-4.204875</td>\n",
       "      <td>school</td>\n",
       "    </tr>\n",
       "    <tr>\n",
       "      <th>8580</th>\n",
       "      <td>-4.510868</td>\n",
       "      <td>my</td>\n",
       "    </tr>\n",
       "    <tr>\n",
       "      <th>7564</th>\n",
       "      <td>-4.566358</td>\n",
       "      <td>learning</td>\n",
       "    </tr>\n",
       "    <tr>\n",
       "      <th>2470</th>\n",
       "      <td>-4.589837</td>\n",
       "      <td>classroom</td>\n",
       "    </tr>\n",
       "    <tr>\n",
       "      <th>13152</th>\n",
       "      <td>-4.814427</td>\n",
       "      <td>the</td>\n",
       "    </tr>\n",
       "    <tr>\n",
       "      <th>13191</th>\n",
       "      <td>-4.851104</td>\n",
       "      <td>they</td>\n",
       "    </tr>\n",
       "    <tr>\n",
       "      <th>8808</th>\n",
       "      <td>-4.859002</td>\n",
       "      <td>not</td>\n",
       "    </tr>\n",
       "    <tr>\n",
       "      <th>7560</th>\n",
       "      <td>-4.903164</td>\n",
       "      <td>learn</td>\n",
       "    </tr>\n",
       "    <tr>\n",
       "      <th>6216</th>\n",
       "      <td>-4.932881</td>\n",
       "      <td>help</td>\n",
       "    </tr>\n",
       "  </tbody>\n",
       "</table>\n",
       "</div>"
      ],
      "text/plain": [
       "       feature_prob feature_names\n",
       "12643     -3.054700      students\n",
       "11471     -4.204875        school\n",
       "8580      -4.510868            my\n",
       "7564      -4.566358      learning\n",
       "2470      -4.589837     classroom\n",
       "13152     -4.814427           the\n",
       "13191     -4.851104          they\n",
       "8808      -4.859002           not\n",
       "7560      -4.903164         learn\n",
       "6216      -4.932881          help"
      ]
     },
     "execution_count": 105,
     "metadata": {},
     "output_type": "execute_result"
    }
   ],
   "source": [
    "bow_features_probs_pos = {}\n",
    "for ele in range(total_feature_names_bow):\n",
    "    bow_features_probs_pos[ele] = nb_bow.feature_log_prob_[1, ele]\n",
    "\n",
    "final_bow_features_pos = pd.DataFrame({'feature_prob': list(bow_features_probs_pos.values()),\n",
    "                                       'feature_names': list(all_features_names_bow)})\n",
    "\n",
    "bow_pos_ascending_order = final_bow_features_pos.sort_values(by=['feature_prob'], ascending=False)\n",
    "print('Top 10 Positive features - Bag of words')\n",
    "bow_pos_ascending_order.head(10)"
   ]
  },
  {
   "cell_type": "code",
   "execution_count": 106,
   "metadata": {},
   "outputs": [
    {
     "name": "stdout",
     "output_type": "stream",
     "text": [
      "14792\n"
     ]
    }
   ],
   "source": [
    "# Either from set 1 (or) set 2, print the names of the top 20 features associated with the positive and negative classes each. (You have to print the names of the features, but not the indexes)\n",
    "\n",
    "## FOR SET 2\n",
    "all_features_names_tfidf =  []\n",
    "\n",
    "all_features_names_tfidf.extend(vectorizer_essay_tfidf.get_feature_names())\n",
    "\n",
    "all_features_names_tfidf.extend(vectorizer_clean_cat.get_feature_names())\n",
    "\n",
    "all_features_names_tfidf.extend(vectorizer_clean_subcat.get_feature_names())\n",
    "\n",
    "all_features_names_tfidf.extend(vectorizer_grade.get_feature_names())\n",
    "\n",
    "all_features_names_tfidf.extend(vectorizer_state.get_feature_names())\n",
    "\n",
    "all_features_names_tfidf.extend(vectorizer_teacher.get_feature_names())\n",
    "\n",
    "all_features_names_tfidf.append('price')\n",
    "\n",
    "all_features_names_tfidf.append('previously_posted_projects')\n",
    "\n",
    "total_feature_names_tfidf = len(all_features_names_tfidf)\n",
    "print(total_feature_names_tfidf)"
   ]
  },
  {
   "cell_type": "code",
   "execution_count": 107,
   "metadata": {},
   "outputs": [
    {
     "data": {
      "text/plain": [
       "MultinomialNB(alpha=0.05, class_prior=[0.5, 0.5], fit_prior=False)"
      ]
     },
     "execution_count": 107,
     "metadata": {},
     "output_type": "execute_result"
    }
   ],
   "source": [
    "nb_tfidf = MultinomialNB(alpha=best_alpha_tfidf, class_prior=[0.5,0.5], fit_prior=False)\n",
    "nb_tfidf.fit(X_tr_set2, y_train)"
   ]
  },
  {
   "cell_type": "code",
   "execution_count": 108,
   "metadata": {},
   "outputs": [
    {
     "name": "stdout",
     "output_type": "stream",
     "text": [
      "Top 10 Negative features - TF-IDF\n"
     ]
    },
    {
     "data": {
      "text/html": [
       "<div>\n",
       "<style scoped>\n",
       "    .dataframe tbody tr th:only-of-type {\n",
       "        vertical-align: middle;\n",
       "    }\n",
       "\n",
       "    .dataframe tbody tr th {\n",
       "        vertical-align: top;\n",
       "    }\n",
       "\n",
       "    .dataframe thead th {\n",
       "        text-align: right;\n",
       "    }\n",
       "</style>\n",
       "<table border=\"1\" class=\"dataframe\">\n",
       "  <thead>\n",
       "    <tr style=\"text-align: right;\">\n",
       "      <th></th>\n",
       "      <th>feature_prob</th>\n",
       "      <th>feature_names</th>\n",
       "    </tr>\n",
       "  </thead>\n",
       "  <tbody>\n",
       "    <tr>\n",
       "      <th>14790</th>\n",
       "      <td>-2.800423</td>\n",
       "      <td>price</td>\n",
       "    </tr>\n",
       "    <tr>\n",
       "      <th>14791</th>\n",
       "      <td>-3.197197</td>\n",
       "      <td>previously_posted_projects</td>\n",
       "    </tr>\n",
       "    <tr>\n",
       "      <th>14787</th>\n",
       "      <td>-3.491428</td>\n",
       "      <td>mrs</td>\n",
       "    </tr>\n",
       "    <tr>\n",
       "      <th>14695</th>\n",
       "      <td>-3.652419</td>\n",
       "      <td>literacy_language</td>\n",
       "    </tr>\n",
       "    <tr>\n",
       "      <th>14733</th>\n",
       "      <td>-3.708386</td>\n",
       "      <td>grades_prek_2</td>\n",
       "    </tr>\n",
       "    <tr>\n",
       "      <th>14696</th>\n",
       "      <td>-3.731304</td>\n",
       "      <td>math_science</td>\n",
       "    </tr>\n",
       "    <tr>\n",
       "      <th>14788</th>\n",
       "      <td>-3.800699</td>\n",
       "      <td>ms</td>\n",
       "    </tr>\n",
       "    <tr>\n",
       "      <th>14730</th>\n",
       "      <td>-3.908125</td>\n",
       "      <td>grades_3_5</td>\n",
       "    </tr>\n",
       "    <tr>\n",
       "      <th>14717</th>\n",
       "      <td>-4.137077</td>\n",
       "      <td>literacy</td>\n",
       "    </tr>\n",
       "    <tr>\n",
       "      <th>14719</th>\n",
       "      <td>-4.153188</td>\n",
       "      <td>mathematics</td>\n",
       "    </tr>\n",
       "  </tbody>\n",
       "</table>\n",
       "</div>"
      ],
      "text/plain": [
       "       feature_prob               feature_names\n",
       "14790     -2.800423                       price\n",
       "14791     -3.197197  previously_posted_projects\n",
       "14787     -3.491428                         mrs\n",
       "14695     -3.652419           literacy_language\n",
       "14733     -3.708386               grades_prek_2\n",
       "14696     -3.731304                math_science\n",
       "14788     -3.800699                          ms\n",
       "14730     -3.908125                  grades_3_5\n",
       "14717     -4.137077                    literacy\n",
       "14719     -4.153188                 mathematics"
      ]
     },
     "execution_count": 108,
     "metadata": {},
     "output_type": "execute_result"
    }
   ],
   "source": [
    "tfidf_features_probs_neg = {}\n",
    "for ele in range(total_feature_names_tfidf):\n",
    "    tfidf_features_probs_neg[ele] = nb_tfidf.feature_log_prob_[0, ele]\n",
    "\n",
    "final_tfidf_features_neg = pd.DataFrame({'feature_prob': list(tfidf_features_probs_neg.values()),\n",
    "                                       'feature_names': list(all_features_names_tfidf)})\n",
    "\n",
    "tfidf_neg_ascending_order = final_tfidf_features_neg.sort_values(by=['feature_prob'], ascending=False)\n",
    "\n",
    "print('Top 10 Negative features - TF-IDF')\n",
    "tfidf_neg_ascending_order.head(10)"
   ]
  },
  {
   "cell_type": "code",
   "execution_count": 109,
   "metadata": {},
   "outputs": [
    {
     "name": "stdout",
     "output_type": "stream",
     "text": [
      "Top 10 Positive features - TF-IDF\n"
     ]
    },
    {
     "data": {
      "text/html": [
       "<div>\n",
       "<style scoped>\n",
       "    .dataframe tbody tr th:only-of-type {\n",
       "        vertical-align: middle;\n",
       "    }\n",
       "\n",
       "    .dataframe tbody tr th {\n",
       "        vertical-align: top;\n",
       "    }\n",
       "\n",
       "    .dataframe thead th {\n",
       "        text-align: right;\n",
       "    }\n",
       "</style>\n",
       "<table border=\"1\" class=\"dataframe\">\n",
       "  <thead>\n",
       "    <tr style=\"text-align: right;\">\n",
       "      <th></th>\n",
       "      <th>feature_prob</th>\n",
       "      <th>feature_names</th>\n",
       "    </tr>\n",
       "  </thead>\n",
       "  <tbody>\n",
       "    <tr>\n",
       "      <th>14790</th>\n",
       "      <td>-2.811131</td>\n",
       "      <td>price</td>\n",
       "    </tr>\n",
       "    <tr>\n",
       "      <th>14791</th>\n",
       "      <td>-3.129875</td>\n",
       "      <td>previously_posted_projects</td>\n",
       "    </tr>\n",
       "    <tr>\n",
       "      <th>14787</th>\n",
       "      <td>-3.442639</td>\n",
       "      <td>mrs</td>\n",
       "    </tr>\n",
       "    <tr>\n",
       "      <th>14695</th>\n",
       "      <td>-3.526149</td>\n",
       "      <td>literacy_language</td>\n",
       "    </tr>\n",
       "    <tr>\n",
       "      <th>14733</th>\n",
       "      <td>-3.719881</td>\n",
       "      <td>grades_prek_2</td>\n",
       "    </tr>\n",
       "    <tr>\n",
       "      <th>14696</th>\n",
       "      <td>-3.787146</td>\n",
       "      <td>math_science</td>\n",
       "    </tr>\n",
       "    <tr>\n",
       "      <th>14788</th>\n",
       "      <td>-3.854442</td>\n",
       "      <td>ms</td>\n",
       "    </tr>\n",
       "    <tr>\n",
       "      <th>14730</th>\n",
       "      <td>-3.876863</td>\n",
       "      <td>grades_3_5</td>\n",
       "    </tr>\n",
       "    <tr>\n",
       "      <th>14717</th>\n",
       "      <td>-3.958251</td>\n",
       "      <td>literacy</td>\n",
       "    </tr>\n",
       "    <tr>\n",
       "      <th>14719</th>\n",
       "      <td>-4.168517</td>\n",
       "      <td>mathematics</td>\n",
       "    </tr>\n",
       "  </tbody>\n",
       "</table>\n",
       "</div>"
      ],
      "text/plain": [
       "       feature_prob               feature_names\n",
       "14790     -2.811131                       price\n",
       "14791     -3.129875  previously_posted_projects\n",
       "14787     -3.442639                         mrs\n",
       "14695     -3.526149           literacy_language\n",
       "14733     -3.719881               grades_prek_2\n",
       "14696     -3.787146                math_science\n",
       "14788     -3.854442                          ms\n",
       "14730     -3.876863                  grades_3_5\n",
       "14717     -3.958251                    literacy\n",
       "14719     -4.168517                 mathematics"
      ]
     },
     "execution_count": 109,
     "metadata": {},
     "output_type": "execute_result"
    }
   ],
   "source": [
    "tfidf_features_probs_pos = {}\n",
    "for ele in range(total_feature_names_tfidf):\n",
    "    tfidf_features_probs_pos[ele] = nb_tfidf.feature_log_prob_[1, ele]\n",
    "\n",
    "final_tfidf_features_pos = pd.DataFrame({'feature_prob': list(tfidf_features_probs_pos.values()),\n",
    "                                       'feature_names': list(all_features_names_tfidf)})\n",
    "\n",
    "tfidf_pos_ascending_order = final_tfidf_features_pos.sort_values(by=['feature_prob'], ascending=False)\n",
    "\n",
    "print('Top 10 Positive features - TF-IDF')\n",
    "tfidf_pos_ascending_order.head(10)"
   ]
  },
  {
   "cell_type": "markdown",
   "metadata": {
    "id": "lS9hIHdib3dp"
   },
   "source": [
    "<h1>3. Summary</h1>\n",
    "\n",
    "<br> as mentioned in the step 5 of instructions"
   ]
  },
  {
   "cell_type": "code",
   "execution_count": 110,
   "metadata": {},
   "outputs": [
    {
     "name": "stdout",
     "output_type": "stream",
     "text": [
      "+------------+-------------------------+-----------------------+-----------+----------+\n",
      "| Vectorizer |          Model          | Hyperparameter: Alpha | Train AUC | Test AUC |\n",
      "+------------+-------------------------+-----------------------+-----------+----------+\n",
      "|    BOW     | Multinomial Naive Bayes |          0.5          |    0.77   |   0.7    |\n",
      "|   TF-IDF   | Multinomial Naive Bayes |          0.05         |    0.76   |   0.68   |\n",
      "+------------+-------------------------+-----------------------+-----------+----------+\n"
     ]
    }
   ],
   "source": [
    "# Summarize your assignment work here in a few points, and also compare the final models (from set 1 and set 2), in terms of optimal hyperparameter value 'alpha', training AUC and test AUC scores.\n",
    "# You can either use a pretty table or any other tabular structure.\n",
    "# Reference Link for Pretty table:  https://pypi.org/project/prettytable/\n",
    "from prettytable import PrettyTable\n",
    "\n",
    "x = PrettyTable()\n",
    "\n",
    "x.field_names = [\"Vectorizer\", \"Model\", \"Hyperparameter: Alpha\", \"Train AUC\", \"Test AUC\"]\n",
    "\n",
    "x.add_row([\"BOW\", \"Multinomial Naive Bayes\", best_alpha_bow, round(auc_train_set1, 2), round(auc_test_set1, 2)])\n",
    "x.add_row([\"TF-IDF\", \"Multinomial Naive Bayes\", best_alpha_tfidf, round(auc_train_set2, 2), round(auc_test_set2, 2)])\n",
    "\n",
    "print(x)"
   ]
  },
  {
   "cell_type": "code",
   "execution_count": null,
   "metadata": {},
   "outputs": [],
   "source": []
  }
 ],
 "metadata": {
  "colab": {
   "collapsed_sections": [],
   "name": "6_Assignment_NB_Instructions.ipynb",
   "provenance": []
  },
  "kernelspec": {
   "display_name": "Python 3",
   "language": "python",
   "name": "python3"
  },
  "language_info": {
   "codemirror_mode": {
    "name": "ipython",
    "version": 3
   },
   "file_extension": ".py",
   "mimetype": "text/x-python",
   "name": "python",
   "nbconvert_exporter": "python",
   "pygments_lexer": "ipython3",
   "version": "3.8.8"
  }
 },
 "nbformat": 4,
 "nbformat_minor": 1
}
