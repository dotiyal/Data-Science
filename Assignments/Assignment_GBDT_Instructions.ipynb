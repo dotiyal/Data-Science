{
 "cells": [
  {
   "cell_type": "markdown",
   "metadata": {
    "id": "8wqapAXjsc24"
   },
   "source": [
    "# Assignment 9: GBDT"
   ]
  },
  {
   "cell_type": "markdown",
   "metadata": {
    "id": "8u5NhbnEsc2-"
   },
   "source": [
    "#### Response Coding: Example"
   ]
  },
  {
   "cell_type": "markdown",
   "metadata": {
    "id": "HIFWmwHKsc3A"
   },
   "source": [
    "<img src='http://i.imgur.com/TufZptV.jpg' width=700px>\n",
    "\n",
    "> The response tabel is built only on train dataset.\n",
    "> For a category which is not there in train data and present in test data, we will encode them with default values\n",
    "e.g: in our test data if have State: D then we encode it as [0.5, 0.05]"
   ]
  },
  {
   "cell_type": "code",
   "execution_count": 6,
   "metadata": {
    "colab": {
     "base_uri": "https://localhost:8080/"
    },
    "id": "TKY4dq2Jq6yi",
    "outputId": "bcbd325a-5170-472b-9451-7b536dde700e"
   },
   "outputs": [
    {
     "name": "stdout",
     "output_type": "stream",
     "text": [
      "Mounted at /content/drive\n"
     ]
    }
   ],
   "source": [
    "from google.colab import drive\n",
    "drive._mount('/content/drive')"
   ]
  },
  {
   "cell_type": "code",
   "execution_count": 7,
   "metadata": {
    "id": "8JyBSQ_5-q4N"
   },
   "outputs": [],
   "source": [
    "import pickle\n",
    "import pandas as pd\n",
    "from sklearn.model_selection import train_test_split\n",
    "from sklearn.feature_extraction.text import TfidfVectorizer\n",
    "from sklearn.feature_extraction.text import CountVectorizer\n",
    "from tqdm import tqdm\n",
    "import numpy as np\n",
    "from scipy.sparse import hstack\n",
    "from sklearn.model_selection import GridSearchCV\n",
    "from sklearn.metrics import roc_curve, auc\n",
    "from sklearn.metrics import roc_auc_score\n",
    "from sklearn.metrics import confusion_matrix\n",
    "import matplotlib.pyplot as plt\n",
    "import seaborn as sns\n",
    "\n",
    "from collections import Counter\n",
    "from xgboost import XGBClassifier\n",
    "\n",
    "import warnings\n",
    "warnings.filterwarnings(\"ignore\")"
   ]
  },
  {
   "cell_type": "code",
   "execution_count": 9,
   "metadata": {
    "id": "0SWy-HRt-q4O"
   },
   "outputs": [],
   "source": [
    "# please use below code to load glove vectors \n",
    "with open('/content/drive/MyDrive/Data Sets/Donors Choose/glove_vectors', 'rb') as f:\n",
    "    model = pickle.load(f)\n",
    "    glove_words = set(model.keys())"
   ]
  },
  {
   "cell_type": "markdown",
   "metadata": {
    "id": "3KwfGufDsc3D"
   },
   "source": [
    "<ol>\n",
    "    <li><strong>Apply GBDT on these feature sets</strong>\n",
    "        <ul>\n",
    "            <li><font color='red'>Set 1</font>: categorical(instead of one hot encoding, try <a href='https://www.appliedaicourse.com/course/applied-ai-course-online/lessons/handling-categorical-and-numerical-features/'>response coding</a>: use probability values), numerical features + project_title(TFIDF) + preprocessed_eassay (TFIDF) + sentiment Score of eassay(check the bellow example, include all 4 values as 4 features)</li>\n",
    "            <li><font color='red'>Set 2</font>: categorical(instead of one hot encoding, try <a href='https://www.appliedaicourse.com/course/applied-ai-course-online/lessons/handling-categorical-and-numerical-features/'>response coding</a>: use probability values), numerical features + project_title(TFIDF W2V) + preprocessed_eassay (TFIDF W2V)</li>        \n",
    "    </li>\n",
    "    <li> Here in response encoding you need to apply the <strong>laplase smoothing</strong> value for test set. Laplase smoothing means, If test point is present in test but not in train then you need to apply default 0.5 as probability value for that data point (Refer the Response Encoding Image from above cell) </li>\n",
    "    <li>Please use atleast <strong> 35k </strong> data points </li></ul>\n",
    "    <li><strong>The hyper paramter tuning (Consider any two hyper parameters)</strong>\n",
    "        <ul>\n",
    "    <li>Find the best hyper parameter which will give the maximum <a href='https://www.appliedaicourse.com/course/applied-ai-course-online/lessons/receiver-operating-characteristic-curve-roc-curve-and-auc-1/'>AUC</a> value</li>\n",
    "    <li>find the best hyper paramter using k-fold cross validation/simple cross validation data</li>\n",
    "    <li>use gridsearch cv or randomsearch cv or you can write your own for loops to do this task</li>\n",
    "        </ul>\n",
    "    </li>\n",
    "    <li>\n",
    "    <strong>Representation of results</strong>\n",
    "        <ul>\n",
    "    <li>You need to plot the performance of model both on train data and cross validation data for each hyper parameter, like shown in the figure\n",
    "    <img src='https://i.imgur.com/Gp2DQmh.jpg' width=500px> with X-axis as <strong>n_estimators</strong>, Y-axis as <strong>max_depth</strong>, and Z-axis as <strong>AUC Score</strong> , we have given the notebook which explains how to plot this 3d plot, you can find it in the same drive <i>3d_scatter_plot.ipynb</i></li>\n",
    "            <p style=\"text-align:center;font-size:30px;color:red;\"><strong>or</strong></p> <br>\n",
    "    <li>You need to plot the performance of model both on train data and cross validation data for each hyper parameter, like shown in the figure\n",
    "    <img src='https://i.imgur.com/fgN9aUP.jpg' width=300px> <a href='https://seaborn.pydata.org/generated/seaborn.heatmap.html'>seaborn heat maps</a> with rows as <strong>n_estimators</strong>, columns as <strong>max_depth</strong>, and values inside the cell representing <strong>AUC Score</strong> </li>\n",
    "    <li>You choose either of the plotting techniques out of 3d plot or heat map</li>\n",
    "    <li>Once after you found the best hyper parameter, you need to train your model with it, and find the AUC on test data and plot the ROC curve on both train and test.\n",
    "        Make sure that you are using predict_proba method to calculate AUC curves, because AUC is calcualted on class probabilities and not on class labels.\n",
    "    <img src='https://i.imgur.com/wMQDTFe.jpg' width=300px></li>\n",
    "    <li>Along with plotting ROC curve, you need to print the <a href='https://www.appliedaicourse.com/course/applied-ai-course-online/lessons/confusion-matrix-tpr-fpr-fnr-tnr-1/'>confusion matrix</a> with predicted and original labels of test data points\n",
    "    <img src='https://i.imgur.com/IdN5Ctv.png' width=300px></li>\n",
    "            </ul>\n",
    "    <br>\n",
    "    <li>You need to summarize the results at the end of the notebook, summarize it in the table format\n",
    "        <img src='http://i.imgur.com/YVpIGGE.jpg' width=400px>\n",
    "    </li>\n",
    "</ol>"
   ]
  },
  {
   "cell_type": "markdown",
   "metadata": {
    "id": "k4KeSDCl-q4R"
   },
   "source": [
    "## Few Notes"
   ]
  },
  {
   "cell_type": "markdown",
   "metadata": {
    "id": "pL4_2WiV-q4S"
   },
   "source": [
    "1. Use atleast 35k data points\n",
    "2. Use classifier.Predict_proba() method instead of predict() method while calculating roc_auc scores\n",
    "3. Be sure that you are using laplase smoothing in response encoding function. Laplase smoothing means applying the default (0.5) value to test data if the test data is not present in the train set\n"
   ]
  },
  {
   "cell_type": "markdown",
   "metadata": {
    "id": "VWge-b2Zsc3Z"
   },
   "source": [
    "## 1.1 Loading Data"
   ]
  },
  {
   "cell_type": "code",
   "execution_count": 10,
   "metadata": {
    "id": "WDZFu6-usc3d"
   },
   "outputs": [],
   "source": [
    "data = pd.read_csv('/content/drive/MyDrive/Data Sets/Donors Choose/preprocessed_data.csv', nrows=40000)"
   ]
  },
  {
   "cell_type": "code",
   "execution_count": 12,
   "metadata": {
    "colab": {
     "base_uri": "https://localhost:8080/"
    },
    "id": "_Cl9LKjP-q4V",
    "outputId": "eeae1d28-4e96-44dc-b5ef-f5d8c8f20fa2"
   },
   "outputs": [
    {
     "data": {
      "text/plain": [
       "(40000, 9)"
      ]
     },
     "execution_count": 12,
     "metadata": {},
     "output_type": "execute_result"
    }
   ],
   "source": [
    "data.shape"
   ]
  },
  {
   "cell_type": "code",
   "execution_count": 14,
   "metadata": {
    "colab": {
     "base_uri": "https://localhost:8080/",
     "height": 332
    },
    "id": "8Jn7Ny8z-q4W",
    "outputId": "c06ae014-3dc8-480a-d34c-9a3760587202"
   },
   "outputs": [
    {
     "data": {
      "text/html": [
       "\n",
       "  <div id=\"df-19bf7601-1b76-4b68-8ecf-d005c82fba76\">\n",
       "    <div class=\"colab-df-container\">\n",
       "      <div>\n",
       "<style scoped>\n",
       "    .dataframe tbody tr th:only-of-type {\n",
       "        vertical-align: middle;\n",
       "    }\n",
       "\n",
       "    .dataframe tbody tr th {\n",
       "        vertical-align: top;\n",
       "    }\n",
       "\n",
       "    .dataframe thead th {\n",
       "        text-align: right;\n",
       "    }\n",
       "</style>\n",
       "<table border=\"1\" class=\"dataframe\">\n",
       "  <thead>\n",
       "    <tr style=\"text-align: right;\">\n",
       "      <th></th>\n",
       "      <th>school_state</th>\n",
       "      <th>teacher_prefix</th>\n",
       "      <th>project_grade_category</th>\n",
       "      <th>teacher_number_of_previously_posted_projects</th>\n",
       "      <th>project_is_approved</th>\n",
       "      <th>clean_categories</th>\n",
       "      <th>clean_subcategories</th>\n",
       "      <th>essay</th>\n",
       "      <th>price</th>\n",
       "    </tr>\n",
       "  </thead>\n",
       "  <tbody>\n",
       "    <tr>\n",
       "      <th>0</th>\n",
       "      <td>ca</td>\n",
       "      <td>mrs</td>\n",
       "      <td>grades_prek_2</td>\n",
       "      <td>53</td>\n",
       "      <td>1</td>\n",
       "      <td>math_science</td>\n",
       "      <td>appliedsciences health_lifescience</td>\n",
       "      <td>i fortunate enough use fairy tale stem kits cl...</td>\n",
       "      <td>725.05</td>\n",
       "    </tr>\n",
       "    <tr>\n",
       "      <th>1</th>\n",
       "      <td>ut</td>\n",
       "      <td>ms</td>\n",
       "      <td>grades_3_5</td>\n",
       "      <td>4</td>\n",
       "      <td>1</td>\n",
       "      <td>specialneeds</td>\n",
       "      <td>specialneeds</td>\n",
       "      <td>imagine 8 9 years old you third grade classroo...</td>\n",
       "      <td>213.03</td>\n",
       "    </tr>\n",
       "  </tbody>\n",
       "</table>\n",
       "</div>\n",
       "      <button class=\"colab-df-convert\" onclick=\"convertToInteractive('df-19bf7601-1b76-4b68-8ecf-d005c82fba76')\"\n",
       "              title=\"Convert this dataframe to an interactive table.\"\n",
       "              style=\"display:none;\">\n",
       "        \n",
       "  <svg xmlns=\"http://www.w3.org/2000/svg\" height=\"24px\"viewBox=\"0 0 24 24\"\n",
       "       width=\"24px\">\n",
       "    <path d=\"M0 0h24v24H0V0z\" fill=\"none\"/>\n",
       "    <path d=\"M18.56 5.44l.94 2.06.94-2.06 2.06-.94-2.06-.94-.94-2.06-.94 2.06-2.06.94zm-11 1L8.5 8.5l.94-2.06 2.06-.94-2.06-.94L8.5 2.5l-.94 2.06-2.06.94zm10 10l.94 2.06.94-2.06 2.06-.94-2.06-.94-.94-2.06-.94 2.06-2.06.94z\"/><path d=\"M17.41 7.96l-1.37-1.37c-.4-.4-.92-.59-1.43-.59-.52 0-1.04.2-1.43.59L10.3 9.45l-7.72 7.72c-.78.78-.78 2.05 0 2.83L4 21.41c.39.39.9.59 1.41.59.51 0 1.02-.2 1.41-.59l7.78-7.78 2.81-2.81c.8-.78.8-2.07 0-2.86zM5.41 20L4 18.59l7.72-7.72 1.47 1.35L5.41 20z\"/>\n",
       "  </svg>\n",
       "      </button>\n",
       "      \n",
       "  <style>\n",
       "    .colab-df-container {\n",
       "      display:flex;\n",
       "      flex-wrap:wrap;\n",
       "      gap: 12px;\n",
       "    }\n",
       "\n",
       "    .colab-df-convert {\n",
       "      background-color: #E8F0FE;\n",
       "      border: none;\n",
       "      border-radius: 50%;\n",
       "      cursor: pointer;\n",
       "      display: none;\n",
       "      fill: #1967D2;\n",
       "      height: 32px;\n",
       "      padding: 0 0 0 0;\n",
       "      width: 32px;\n",
       "    }\n",
       "\n",
       "    .colab-df-convert:hover {\n",
       "      background-color: #E2EBFA;\n",
       "      box-shadow: 0px 1px 2px rgba(60, 64, 67, 0.3), 0px 1px 3px 1px rgba(60, 64, 67, 0.15);\n",
       "      fill: #174EA6;\n",
       "    }\n",
       "\n",
       "    [theme=dark] .colab-df-convert {\n",
       "      background-color: #3B4455;\n",
       "      fill: #D2E3FC;\n",
       "    }\n",
       "\n",
       "    [theme=dark] .colab-df-convert:hover {\n",
       "      background-color: #434B5C;\n",
       "      box-shadow: 0px 1px 3px 1px rgba(0, 0, 0, 0.15);\n",
       "      filter: drop-shadow(0px 1px 2px rgba(0, 0, 0, 0.3));\n",
       "      fill: #FFFFFF;\n",
       "    }\n",
       "  </style>\n",
       "\n",
       "      <script>\n",
       "        const buttonEl =\n",
       "          document.querySelector('#df-19bf7601-1b76-4b68-8ecf-d005c82fba76 button.colab-df-convert');\n",
       "        buttonEl.style.display =\n",
       "          google.colab.kernel.accessAllowed ? 'block' : 'none';\n",
       "\n",
       "        async function convertToInteractive(key) {\n",
       "          const element = document.querySelector('#df-19bf7601-1b76-4b68-8ecf-d005c82fba76');\n",
       "          const dataTable =\n",
       "            await google.colab.kernel.invokeFunction('convertToInteractive',\n",
       "                                                     [key], {});\n",
       "          if (!dataTable) return;\n",
       "\n",
       "          const docLinkHtml = 'Like what you see? Visit the ' +\n",
       "            '<a target=\"_blank\" href=https://colab.research.google.com/notebooks/data_table.ipynb>data table notebook</a>'\n",
       "            + ' to learn more about interactive tables.';\n",
       "          element.innerHTML = '';\n",
       "          dataTable['output_type'] = 'display_data';\n",
       "          await google.colab.output.renderOutput(dataTable, element);\n",
       "          const docLink = document.createElement('div');\n",
       "          docLink.innerHTML = docLinkHtml;\n",
       "          element.appendChild(docLink);\n",
       "        }\n",
       "      </script>\n",
       "    </div>\n",
       "  </div>\n",
       "  "
      ],
      "text/plain": [
       "  school_state  ...   price\n",
       "0           ca  ...  725.05\n",
       "1           ut  ...  213.03\n",
       "\n",
       "[2 rows x 9 columns]"
      ]
     },
     "execution_count": 14,
     "metadata": {},
     "output_type": "execute_result"
    }
   ],
   "source": [
    "data.head(2)"
   ]
  },
  {
   "cell_type": "markdown",
   "metadata": {
    "id": "R0rl2GZW-q4W"
   },
   "source": [
    "<font color='blue'><b>Calculating Sentiment scores:</b></font>"
   ]
  },
  {
   "cell_type": "code",
   "execution_count": 16,
   "metadata": {
    "colab": {
     "base_uri": "https://localhost:8080/"
    },
    "id": "iffa2_WGsc3H",
    "outputId": "52d988dd-8dda-4c66-faca-161d9db5fa56"
   },
   "outputs": [
    {
     "name": "stdout",
     "output_type": "stream",
     "text": [
      "[nltk_data] Downloading package vader_lexicon to /root/nltk_data...\n"
     ]
    }
   ],
   "source": [
    "import nltk\n",
    "nltk.download('vader_lexicon')\n",
    "from nltk.sentiment.vader import SentimentIntensityAnalyzer\n",
    "sid = SentimentIntensityAnalyzer()"
   ]
  },
  {
   "cell_type": "code",
   "execution_count": 17,
   "metadata": {
    "id": "HB6QHdek-q4X"
   },
   "outputs": [],
   "source": [
    "# Applying Sentiment Analyzer\n",
    "sentiment_scores_essay = []\n",
    "for sentence in data['essay']:\n",
    "    sentiment_scores_essay.append(sid.polarity_scores(sentence))"
   ]
  },
  {
   "cell_type": "code",
   "execution_count": 18,
   "metadata": {
    "id": "uGC0zhmk-q4Y"
   },
   "outputs": [],
   "source": [
    "neg = []\n",
    "neu = []\n",
    "pos = []\n",
    "comp = []\n",
    "for row in sentiment_scores_essay:\n",
    "    neg.append(row['neg'])\n",
    "    neu.append(row['neu'])\n",
    "    pos.append(row['pos'])\n",
    "    comp.append(row['compound'])"
   ]
  },
  {
   "cell_type": "code",
   "execution_count": 19,
   "metadata": {
    "id": "6dTHjRno-q4Y"
   },
   "outputs": [],
   "source": [
    "data['essay_sentiment_neg'] = neg\n",
    "data['essay_sentiment_neu'] = neu\n",
    "data['essay_sentiment_pos'] = pos\n",
    "data['essay_sentiment_comp'] = comp"
   ]
  },
  {
   "cell_type": "markdown",
   "metadata": {
    "id": "6lAMFKFcsc3j"
   },
   "source": [
    "<h2>1.2 Splitting data into Train and cross validation(or test): Stratified Sampling</h2>"
   ]
  },
  {
   "cell_type": "code",
   "execution_count": 20,
   "metadata": {
    "colab": {
     "base_uri": "https://localhost:8080/"
    },
    "id": "vZp9BEAG-q4Z",
    "outputId": "ef768339-4039-4622-d48a-9ea6da1f44a3"
   },
   "outputs": [
    {
     "data": {
      "text/plain": [
       "(40000, 13)"
      ]
     },
     "execution_count": 20,
     "metadata": {},
     "output_type": "execute_result"
    }
   ],
   "source": [
    "data.shape"
   ]
  },
  {
   "cell_type": "code",
   "execution_count": 21,
   "metadata": {
    "colab": {
     "base_uri": "https://localhost:8080/",
     "height": 249
    },
    "id": "djgRbCTj-q4Z",
    "outputId": "6e1b10a5-6e2a-473d-d7a3-9800f995f2d2"
   },
   "outputs": [
    {
     "data": {
      "text/html": [
       "\n",
       "  <div id=\"df-47f03e15-3cfd-43c1-9020-31a9f0f5f35a\">\n",
       "    <div class=\"colab-df-container\">\n",
       "      <div>\n",
       "<style scoped>\n",
       "    .dataframe tbody tr th:only-of-type {\n",
       "        vertical-align: middle;\n",
       "    }\n",
       "\n",
       "    .dataframe tbody tr th {\n",
       "        vertical-align: top;\n",
       "    }\n",
       "\n",
       "    .dataframe thead th {\n",
       "        text-align: right;\n",
       "    }\n",
       "</style>\n",
       "<table border=\"1\" class=\"dataframe\">\n",
       "  <thead>\n",
       "    <tr style=\"text-align: right;\">\n",
       "      <th></th>\n",
       "      <th>school_state</th>\n",
       "      <th>teacher_prefix</th>\n",
       "      <th>project_grade_category</th>\n",
       "      <th>teacher_number_of_previously_posted_projects</th>\n",
       "      <th>clean_categories</th>\n",
       "      <th>clean_subcategories</th>\n",
       "      <th>essay</th>\n",
       "      <th>price</th>\n",
       "      <th>essay_sentiment_neg</th>\n",
       "      <th>essay_sentiment_neu</th>\n",
       "      <th>essay_sentiment_pos</th>\n",
       "      <th>essay_sentiment_comp</th>\n",
       "    </tr>\n",
       "  </thead>\n",
       "  <tbody>\n",
       "    <tr>\n",
       "      <th>0</th>\n",
       "      <td>ca</td>\n",
       "      <td>mrs</td>\n",
       "      <td>grades_prek_2</td>\n",
       "      <td>53</td>\n",
       "      <td>math_science</td>\n",
       "      <td>appliedsciences health_lifescience</td>\n",
       "      <td>i fortunate enough use fairy tale stem kits cl...</td>\n",
       "      <td>725.05</td>\n",
       "      <td>0.013</td>\n",
       "      <td>0.783</td>\n",
       "      <td>0.205</td>\n",
       "      <td>0.9867</td>\n",
       "    </tr>\n",
       "  </tbody>\n",
       "</table>\n",
       "</div>\n",
       "      <button class=\"colab-df-convert\" onclick=\"convertToInteractive('df-47f03e15-3cfd-43c1-9020-31a9f0f5f35a')\"\n",
       "              title=\"Convert this dataframe to an interactive table.\"\n",
       "              style=\"display:none;\">\n",
       "        \n",
       "  <svg xmlns=\"http://www.w3.org/2000/svg\" height=\"24px\"viewBox=\"0 0 24 24\"\n",
       "       width=\"24px\">\n",
       "    <path d=\"M0 0h24v24H0V0z\" fill=\"none\"/>\n",
       "    <path d=\"M18.56 5.44l.94 2.06.94-2.06 2.06-.94-2.06-.94-.94-2.06-.94 2.06-2.06.94zm-11 1L8.5 8.5l.94-2.06 2.06-.94-2.06-.94L8.5 2.5l-.94 2.06-2.06.94zm10 10l.94 2.06.94-2.06 2.06-.94-2.06-.94-.94-2.06-.94 2.06-2.06.94z\"/><path d=\"M17.41 7.96l-1.37-1.37c-.4-.4-.92-.59-1.43-.59-.52 0-1.04.2-1.43.59L10.3 9.45l-7.72 7.72c-.78.78-.78 2.05 0 2.83L4 21.41c.39.39.9.59 1.41.59.51 0 1.02-.2 1.41-.59l7.78-7.78 2.81-2.81c.8-.78.8-2.07 0-2.86zM5.41 20L4 18.59l7.72-7.72 1.47 1.35L5.41 20z\"/>\n",
       "  </svg>\n",
       "      </button>\n",
       "      \n",
       "  <style>\n",
       "    .colab-df-container {\n",
       "      display:flex;\n",
       "      flex-wrap:wrap;\n",
       "      gap: 12px;\n",
       "    }\n",
       "\n",
       "    .colab-df-convert {\n",
       "      background-color: #E8F0FE;\n",
       "      border: none;\n",
       "      border-radius: 50%;\n",
       "      cursor: pointer;\n",
       "      display: none;\n",
       "      fill: #1967D2;\n",
       "      height: 32px;\n",
       "      padding: 0 0 0 0;\n",
       "      width: 32px;\n",
       "    }\n",
       "\n",
       "    .colab-df-convert:hover {\n",
       "      background-color: #E2EBFA;\n",
       "      box-shadow: 0px 1px 2px rgba(60, 64, 67, 0.3), 0px 1px 3px 1px rgba(60, 64, 67, 0.15);\n",
       "      fill: #174EA6;\n",
       "    }\n",
       "\n",
       "    [theme=dark] .colab-df-convert {\n",
       "      background-color: #3B4455;\n",
       "      fill: #D2E3FC;\n",
       "    }\n",
       "\n",
       "    [theme=dark] .colab-df-convert:hover {\n",
       "      background-color: #434B5C;\n",
       "      box-shadow: 0px 1px 3px 1px rgba(0, 0, 0, 0.15);\n",
       "      filter: drop-shadow(0px 1px 2px rgba(0, 0, 0, 0.3));\n",
       "      fill: #FFFFFF;\n",
       "    }\n",
       "  </style>\n",
       "\n",
       "      <script>\n",
       "        const buttonEl =\n",
       "          document.querySelector('#df-47f03e15-3cfd-43c1-9020-31a9f0f5f35a button.colab-df-convert');\n",
       "        buttonEl.style.display =\n",
       "          google.colab.kernel.accessAllowed ? 'block' : 'none';\n",
       "\n",
       "        async function convertToInteractive(key) {\n",
       "          const element = document.querySelector('#df-47f03e15-3cfd-43c1-9020-31a9f0f5f35a');\n",
       "          const dataTable =\n",
       "            await google.colab.kernel.invokeFunction('convertToInteractive',\n",
       "                                                     [key], {});\n",
       "          if (!dataTable) return;\n",
       "\n",
       "          const docLinkHtml = 'Like what you see? Visit the ' +\n",
       "            '<a target=\"_blank\" href=https://colab.research.google.com/notebooks/data_table.ipynb>data table notebook</a>'\n",
       "            + ' to learn more about interactive tables.';\n",
       "          element.innerHTML = '';\n",
       "          dataTable['output_type'] = 'display_data';\n",
       "          await google.colab.output.renderOutput(dataTable, element);\n",
       "          const docLink = document.createElement('div');\n",
       "          docLink.innerHTML = docLinkHtml;\n",
       "          element.appendChild(docLink);\n",
       "        }\n",
       "      </script>\n",
       "    </div>\n",
       "  </div>\n",
       "  "
      ],
      "text/plain": [
       "  school_state teacher_prefix  ... essay_sentiment_pos  essay_sentiment_comp\n",
       "0           ca            mrs  ...               0.205                0.9867\n",
       "\n",
       "[1 rows x 12 columns]"
      ]
     },
     "execution_count": 21,
     "metadata": {},
     "output_type": "execute_result"
    }
   ],
   "source": [
    "Y = data['project_is_approved']\n",
    "X = data.drop(['project_is_approved'], axis=1)\n",
    "X.head(1)"
   ]
  },
  {
   "cell_type": "code",
   "execution_count": 22,
   "metadata": {
    "colab": {
     "base_uri": "https://localhost:8080/"
    },
    "id": "ndt72Yl7-q4a",
    "outputId": "697a4970-2ff2-4313-9195-9341d1679a42"
   },
   "outputs": [
    {
     "data": {
      "text/plain": [
       "(40000, 12)"
      ]
     },
     "execution_count": 22,
     "metadata": {},
     "output_type": "execute_result"
    }
   ],
   "source": [
    "X.shape"
   ]
  },
  {
   "cell_type": "code",
   "execution_count": 23,
   "metadata": {
    "id": "ZBS0ry6m-q4b"
   },
   "outputs": [],
   "source": [
    "X_train, X_test, y_train, y_test = train_test_split(X, Y, test_size=0.20, stratify=Y)"
   ]
  },
  {
   "cell_type": "code",
   "execution_count": 24,
   "metadata": {
    "colab": {
     "base_uri": "https://localhost:8080/"
    },
    "id": "vgaR7puI-q4b",
    "outputId": "0518c3b9-61ff-460c-bac8-28e6e601ee91"
   },
   "outputs": [
    {
     "name": "stdout",
     "output_type": "stream",
     "text": [
      "(32000, 12) (32000,)\n",
      "(8000, 12) (8000,)\n",
      "========================================================================================================================\n"
     ]
    }
   ],
   "source": [
    "print(X_train.shape, y_train.shape)\n",
    "print(X_test.shape, y_test.shape)\n",
    "print('='*120)"
   ]
  },
  {
   "cell_type": "markdown",
   "metadata": {
    "id": "vsALgl5Asc3u"
   },
   "source": [
    "<h2>1.3 Make Data Model Ready: encoding eassay, and project_title</h2>"
   ]
  },
  {
   "cell_type": "code",
   "execution_count": 25,
   "metadata": {
    "colab": {
     "base_uri": "https://localhost:8080/"
    },
    "id": "DwsSCaJ5-q4c",
    "outputId": "927a0f3a-cdc2-4eee-a8a5-0d5e4079b7c7"
   },
   "outputs": [
    {
     "name": "stdout",
     "output_type": "stream",
     "text": [
      "After TF-IDF vectorizations\n",
      "(32000, 10163) (32000,)\n",
      "(8000, 10163) (8000,)\n",
      "========================================================================================================================\n"
     ]
    }
   ],
   "source": [
    "# Apply TF-IDF vectorization on 'Preprocessed_Essay'\n",
    "vectorizer_essay_tfidf = TfidfVectorizer(min_df=10)\n",
    "vectorizer_essay_tfidf.fit(X_train['essay'])\n",
    "\n",
    "X_train_essay_tfidf = vectorizer_essay_tfidf.transform(X_train['essay'])\n",
    "X_test_essay_tfidf = vectorizer_essay_tfidf.transform(X_test['essay'])\n",
    "\n",
    "print('After TF-IDF vectorizations')\n",
    "print(X_train_essay_tfidf.shape, y_train.shape)\n",
    "print(X_test_essay_tfidf.shape, y_test.shape)\n",
    "print('='*120)"
   ]
  },
  {
   "cell_type": "markdown",
   "metadata": {
    "id": "S3Vxxv2Hsc31"
   },
   "source": [
    "<h2>1.4 Make Data Model Ready: encoding numerical, categorical features</h2>"
   ]
  },
  {
   "cell_type": "markdown",
   "metadata": {
    "id": "rf4DmO9W-q4d"
   },
   "source": [
    "<h2>1.4.1. Make Data, Model Ready: Encoding categorical features</h2>"
   ]
  },
  {
   "cell_type": "markdown",
   "metadata": {
    "id": "RAtihVPqsc33"
   },
   "source": [
    "#### The function to implement response-encoding:-"
   ]
  },
  {
   "cell_type": "code",
   "execution_count": 27,
   "metadata": {
    "id": "cRB5Uvso-q4d"
   },
   "outputs": [],
   "source": [
    "def response_encoding_fit(x_train_feature_total, x_train_feature_0, x_train_feature_1):\n",
    "    \n",
    "    '''\n",
    "    Fuction for response-encode categorical features\n",
    "    \n",
    "    '''\n",
    "    \n",
    "    feature_counter_total = Counter()\n",
    "    feature_counter_total.update([i for i in x_train_feature_total])\n",
    "    # e.g For 'school_state' feature, above will generate a counter dict like below\n",
    "    # i.e. Counter({'ca': 528, 'tx': 248, 'ny': 240, ..., wy': 2})\n",
    "    \n",
    "    feature_counter_0 = Counter()\n",
    "    feature_counter_0.update([i for i in x_train_feature_0])    # adding values to the Counter from x_train_feature_0\n",
    "    #  Counter({'ca': 69, 'tx': 44, 'nc': 28, ..., 'hi': 1})\n",
    "    \n",
    "    # Now update feature_counter_0 with all the non-existing keys\n",
    "    # i.e. keys that exist in feature_counter_total but NOT in feature_counter_0\n",
    "    for i in feature_counter_total:        # i is each key (e.g. 'ca', 'tx' etc for school_state)\n",
    "        if i not in feature_counter_0:     # If key is not in feature_counter_0\n",
    "            feature_counter_0[i] = 0       # set the value of that key be 0 in dict feature_counter_0\n",
    "\n",
    "    # Similary do the same for x_train_feature_1\n",
    "    feature_counter_1 = Counter()\n",
    "    feature_counter_1.update([i for i in x_train_feature_1])\n",
    "    \n",
    "    for i in feature_counter_total:\n",
    "        if i not in feature_counter_1:\n",
    "            feature_counter_1[i] = 0 \n",
    "    \n",
    "    return feature_counter_total, feature_counter_0, feature_counter_1"
   ]
  },
  {
   "cell_type": "code",
   "execution_count": 28,
   "metadata": {
    "id": "3sKOJ6mw-q4d"
   },
   "outputs": [],
   "source": [
    "def response_encoding_transform(x_feature_train, feature_counter_total, feature_counter_0, feature_counter_1):\n",
    "    \n",
    "    '''\n",
    "    Function for generate proba array for response-encoded categorical features\n",
    "    \n",
    "    returns:\n",
    "        List of Probabilities\n",
    "    '''\n",
    "    \n",
    "    feature_proba_arr_0 = []\n",
    "    feature_proba_arr_1 = []\n",
    "    \n",
    "    for i in x_feature_train:\n",
    "        # Now loop over each feature-name e.g. 'ca', 'tx', 'fl' etc for school_state\n",
    "        if i in feature_counter_total.keys(): # if the specific unique feature-names exist in train data \n",
    "            # x_feature_train.get(i) will give us the value of the key,\n",
    "            # i.e. the number count for each key(which represent the feature-name)\n",
    "            proba_0 = feature_counter_0.get(i) / feature_counter_total.get(i)\n",
    "            proba_1 = feature_counter_1.get(i) / feature_counter_total.get(i)\n",
    "\n",
    "            feature_proba_arr_0.append(proba_0)\n",
    "            feature_proba_arr_1.append(proba_1)\n",
    "        \n",
    "        else:   #Laplase smoothing\n",
    "            feature_proba_arr_0.append(0.5)\n",
    "            feature_proba_arr_1.append(0.5)\n",
    "    \n",
    "    # Have to convert to array so we can invoke reshape() on these\n",
    "    feature_proba_arr_0 = np.array(feature_proba_arr_0)\n",
    "    feature_proba_arr_1 = np.array(feature_proba_arr_1)\n",
    "    \n",
    "    return feature_proba_arr_0.reshape(-1, 1), feature_proba_arr_1.reshape(-1, 1)"
   ]
  },
  {
   "cell_type": "code",
   "execution_count": 29,
   "metadata": {
    "colab": {
     "base_uri": "https://localhost:8080/",
     "height": 112
    },
    "id": "GcdbO6XA-q4e",
    "outputId": "68931c65-7294-4146-ddd6-2892e9b2208d"
   },
   "outputs": [
    {
     "data": {
      "text/html": [
       "\n",
       "  <div id=\"df-ed5f0bfa-4778-424e-8bdb-9bd420f4b510\">\n",
       "    <div class=\"colab-df-container\">\n",
       "      <div>\n",
       "<style scoped>\n",
       "    .dataframe tbody tr th:only-of-type {\n",
       "        vertical-align: middle;\n",
       "    }\n",
       "\n",
       "    .dataframe tbody tr th {\n",
       "        vertical-align: top;\n",
       "    }\n",
       "\n",
       "    .dataframe thead th {\n",
       "        text-align: right;\n",
       "    }\n",
       "</style>\n",
       "<table border=\"1\" class=\"dataframe\">\n",
       "  <thead>\n",
       "    <tr style=\"text-align: right;\">\n",
       "      <th></th>\n",
       "      <th>project_is_approved</th>\n",
       "      <th>school_state</th>\n",
       "      <th>teacher_prefix</th>\n",
       "      <th>project_grade_category</th>\n",
       "      <th>clean_categories</th>\n",
       "      <th>clean_subcategories</th>\n",
       "    </tr>\n",
       "  </thead>\n",
       "  <tbody>\n",
       "    <tr>\n",
       "      <th>15600</th>\n",
       "      <td>1</td>\n",
       "      <td>az</td>\n",
       "      <td>mrs</td>\n",
       "      <td>grades_6_8</td>\n",
       "      <td>health_sports</td>\n",
       "      <td>health_wellness</td>\n",
       "    </tr>\n",
       "    <tr>\n",
       "      <th>21360</th>\n",
       "      <td>1</td>\n",
       "      <td>tx</td>\n",
       "      <td>ms</td>\n",
       "      <td>grades_prek_2</td>\n",
       "      <td>literacy_language</td>\n",
       "      <td>literacy</td>\n",
       "    </tr>\n",
       "  </tbody>\n",
       "</table>\n",
       "</div>\n",
       "      <button class=\"colab-df-convert\" onclick=\"convertToInteractive('df-ed5f0bfa-4778-424e-8bdb-9bd420f4b510')\"\n",
       "              title=\"Convert this dataframe to an interactive table.\"\n",
       "              style=\"display:none;\">\n",
       "        \n",
       "  <svg xmlns=\"http://www.w3.org/2000/svg\" height=\"24px\"viewBox=\"0 0 24 24\"\n",
       "       width=\"24px\">\n",
       "    <path d=\"M0 0h24v24H0V0z\" fill=\"none\"/>\n",
       "    <path d=\"M18.56 5.44l.94 2.06.94-2.06 2.06-.94-2.06-.94-.94-2.06-.94 2.06-2.06.94zm-11 1L8.5 8.5l.94-2.06 2.06-.94-2.06-.94L8.5 2.5l-.94 2.06-2.06.94zm10 10l.94 2.06.94-2.06 2.06-.94-2.06-.94-.94-2.06-.94 2.06-2.06.94z\"/><path d=\"M17.41 7.96l-1.37-1.37c-.4-.4-.92-.59-1.43-.59-.52 0-1.04.2-1.43.59L10.3 9.45l-7.72 7.72c-.78.78-.78 2.05 0 2.83L4 21.41c.39.39.9.59 1.41.59.51 0 1.02-.2 1.41-.59l7.78-7.78 2.81-2.81c.8-.78.8-2.07 0-2.86zM5.41 20L4 18.59l7.72-7.72 1.47 1.35L5.41 20z\"/>\n",
       "  </svg>\n",
       "      </button>\n",
       "      \n",
       "  <style>\n",
       "    .colab-df-container {\n",
       "      display:flex;\n",
       "      flex-wrap:wrap;\n",
       "      gap: 12px;\n",
       "    }\n",
       "\n",
       "    .colab-df-convert {\n",
       "      background-color: #E8F0FE;\n",
       "      border: none;\n",
       "      border-radius: 50%;\n",
       "      cursor: pointer;\n",
       "      display: none;\n",
       "      fill: #1967D2;\n",
       "      height: 32px;\n",
       "      padding: 0 0 0 0;\n",
       "      width: 32px;\n",
       "    }\n",
       "\n",
       "    .colab-df-convert:hover {\n",
       "      background-color: #E2EBFA;\n",
       "      box-shadow: 0px 1px 2px rgba(60, 64, 67, 0.3), 0px 1px 3px 1px rgba(60, 64, 67, 0.15);\n",
       "      fill: #174EA6;\n",
       "    }\n",
       "\n",
       "    [theme=dark] .colab-df-convert {\n",
       "      background-color: #3B4455;\n",
       "      fill: #D2E3FC;\n",
       "    }\n",
       "\n",
       "    [theme=dark] .colab-df-convert:hover {\n",
       "      background-color: #434B5C;\n",
       "      box-shadow: 0px 1px 3px 1px rgba(0, 0, 0, 0.15);\n",
       "      filter: drop-shadow(0px 1px 2px rgba(0, 0, 0, 0.3));\n",
       "      fill: #FFFFFF;\n",
       "    }\n",
       "  </style>\n",
       "\n",
       "      <script>\n",
       "        const buttonEl =\n",
       "          document.querySelector('#df-ed5f0bfa-4778-424e-8bdb-9bd420f4b510 button.colab-df-convert');\n",
       "        buttonEl.style.display =\n",
       "          google.colab.kernel.accessAllowed ? 'block' : 'none';\n",
       "\n",
       "        async function convertToInteractive(key) {\n",
       "          const element = document.querySelector('#df-ed5f0bfa-4778-424e-8bdb-9bd420f4b510');\n",
       "          const dataTable =\n",
       "            await google.colab.kernel.invokeFunction('convertToInteractive',\n",
       "                                                     [key], {});\n",
       "          if (!dataTable) return;\n",
       "\n",
       "          const docLinkHtml = 'Like what you see? Visit the ' +\n",
       "            '<a target=\"_blank\" href=https://colab.research.google.com/notebooks/data_table.ipynb>data table notebook</a>'\n",
       "            + ' to learn more about interactive tables.';\n",
       "          element.innerHTML = '';\n",
       "          dataTable['output_type'] = 'display_data';\n",
       "          await google.colab.output.renderOutput(dataTable, element);\n",
       "          const docLink = document.createElement('div');\n",
       "          docLink.innerHTML = docLinkHtml;\n",
       "          element.appendChild(docLink);\n",
       "        }\n",
       "      </script>\n",
       "    </div>\n",
       "  </div>\n",
       "  "
      ],
      "text/plain": [
       "       project_is_approved school_state  ...   clean_categories clean_subcategories\n",
       "15600                    1           az  ...      health_sports     health_wellness\n",
       "21360                    1           tx  ...  literacy_language            literacy\n",
       "\n",
       "[2 rows x 6 columns]"
      ]
     },
     "execution_count": 29,
     "metadata": {},
     "output_type": "execute_result"
    }
   ],
   "source": [
    "# A new dataframe for all the categorical feature from only the train dataset\n",
    "# And then response-encoded the dataset.\n",
    "\n",
    "df_cat_train_before_response_coding = pd.DataFrame(y_train, columns=['project_is_approved'])\n",
    "df_cat_train_before_response_coding['school_state'] = X_train['school_state'].values\n",
    "df_cat_train_before_response_coding['teacher_prefix'] = X_train['teacher_prefix'].values\n",
    "df_cat_train_before_response_coding['project_grade_category'] = X_train['project_grade_category'].values\n",
    "df_cat_train_before_response_coding['clean_categories'] = X_train['clean_categories'].values\n",
    "df_cat_train_before_response_coding['clean_subcategories'] = X_train['clean_subcategories'].values\n",
    "\n",
    "df_cat_train_before_response_coding.head(2)"
   ]
  },
  {
   "cell_type": "code",
   "execution_count": 30,
   "metadata": {
    "colab": {
     "base_uri": "https://localhost:8080/"
    },
    "id": "v1SMNzN2-q4e",
    "outputId": "65481051-bc41-4148-b1e8-032f59e20f3b"
   },
   "outputs": [
    {
     "name": "stdout",
     "output_type": "stream",
     "text": [
      "[0.153375]\n",
      "(32000, 1) (32000,)\n",
      "(8000, 1) (8000,)\n",
      "========================================================================================================================\n"
     ]
    }
   ],
   "source": [
    "x_train_feature_total = df_cat_train_before_response_coding['school_state']\n",
    "\n",
    "x_train_feature_0 = df_cat_train_before_response_coding.loc[df_cat_train_before_response_coding['project_is_approved']==0]['school_state']\n",
    "x_train_feature_1 = df_cat_train_before_response_coding.loc[df_cat_train_before_response_coding['project_is_approved']==1]['school_state']\n",
    "\n",
    "total_counter, counter_0, counter_1 = response_encoding_fit(x_train_feature_total, x_train_feature_0, x_train_feature_1 )\n",
    "\n",
    "X_train_school_state_response_proba_0, X_train_school_state_response_proba_1 = response_encoding_transform(X_train['school_state'], total_counter, counter_0, counter_1)\n",
    "\n",
    "X_test_school_state_response_proba_0, X_test_school_state_response_proba_1 = response_encoding_transform(X_test['school_state'], total_counter, counter_0, counter_1)\n",
    "\n",
    "print(np.mean(X_train_school_state_response_proba_0, axis=0))\n",
    "print(X_train_school_state_response_proba_0.shape, y_train.shape)\n",
    "print(X_test_school_state_response_proba_0.shape, y_test.shape)\n",
    "print('='*120)"
   ]
  },
  {
   "cell_type": "code",
   "execution_count": 31,
   "metadata": {
    "colab": {
     "base_uri": "https://localhost:8080/"
    },
    "id": "iutpGKB2-q4f",
    "outputId": "02f518e1-7c42-442d-b573-7dca10aa1a5c"
   },
   "outputs": [
    {
     "name": "stdout",
     "output_type": "stream",
     "text": [
      "[0.153375]\n",
      "(32000, 1) (32000,)\n",
      "(8000, 1) (8000,)\n",
      "========================================================================================================================\n"
     ]
    }
   ],
   "source": [
    "x_train_feature_total = df_cat_train_before_response_coding['teacher_prefix']\n",
    "\n",
    "x_train_feature_0 = df_cat_train_before_response_coding.loc[df_cat_train_before_response_coding['project_is_approved']==0]['teacher_prefix']\n",
    "x_train_feature_1 = df_cat_train_before_response_coding.loc[df_cat_train_before_response_coding['project_is_approved']==1]['teacher_prefix']\n",
    "\n",
    "total_counter, counter_0, counter_1 = response_encoding_fit(x_train_feature_total, x_train_feature_0, x_train_feature_1 )\n",
    "\n",
    "X_train_teacher_prefix_response_proba_0, X_train_teacher_prefix_response_proba_1 = response_encoding_transform(X_train['teacher_prefix'], total_counter, counter_0, counter_1)\n",
    "\n",
    "X_test_teacher_prefix_response_proba_0, X_test_teacher_prefix_response_proba_1 = response_encoding_transform(X_test['teacher_prefix'], total_counter, counter_0, counter_1)\n",
    "\n",
    "print(np.mean(X_train_teacher_prefix_response_proba_0, axis=0))\n",
    "print(X_train_teacher_prefix_response_proba_0.shape, y_train.shape)\n",
    "print(X_test_teacher_prefix_response_proba_0.shape, y_test.shape)\n",
    "print('='*120)"
   ]
  },
  {
   "cell_type": "code",
   "execution_count": 32,
   "metadata": {
    "colab": {
     "base_uri": "https://localhost:8080/"
    },
    "id": "3lfP0Jt0-q4f",
    "outputId": "3b5dd344-d0fa-463d-98bd-68edb10af23d"
   },
   "outputs": [
    {
     "name": "stdout",
     "output_type": "stream",
     "text": [
      "[0.153375]\n",
      "(32000, 1) (32000,)\n",
      "(8000, 1) (8000,)\n",
      "========================================================================================================================\n"
     ]
    }
   ],
   "source": [
    "x_train_feature_total = df_cat_train_before_response_coding['project_grade_category']\n",
    "\n",
    "x_train_feature_0 = df_cat_train_before_response_coding.loc[df_cat_train_before_response_coding['project_is_approved']==0]['project_grade_category']\n",
    "x_train_feature_1 = df_cat_train_before_response_coding.loc[df_cat_train_before_response_coding['project_is_approved']==1]['project_grade_category']\n",
    "\n",
    "total_counter, counter_0, counter_1 = response_encoding_fit(x_train_feature_total, x_train_feature_0, x_train_feature_1 )\n",
    "\n",
    "X_train_project_grade_category_response_proba_0, X_train_project_grade_category_response_proba_1 = response_encoding_transform(X_train['project_grade_category'], total_counter, counter_0, counter_1)\n",
    "\n",
    "X_test_project_grade_category_response_proba_0, X_test_project_grade_category_response_proba_1 = response_encoding_transform(X_test['project_grade_category'], total_counter, counter_0, counter_1)\n",
    "\n",
    "print(np.mean(X_train_project_grade_category_response_proba_0, axis=0))\n",
    "print(X_train_project_grade_category_response_proba_0.shape, y_train.shape)\n",
    "print(X_test_project_grade_category_response_proba_0.shape, y_test.shape)\n",
    "print('='*120)"
   ]
  },
  {
   "cell_type": "code",
   "execution_count": 33,
   "metadata": {
    "colab": {
     "base_uri": "https://localhost:8080/"
    },
    "id": "iYU0PRco-q4g",
    "outputId": "29e6e0ed-80b5-4cd2-f976-329f25f1f9ff"
   },
   "outputs": [
    {
     "name": "stdout",
     "output_type": "stream",
     "text": [
      "[0.153375]\n",
      "(32000, 1) (32000,)\n",
      "(8000, 1) (8000,)\n",
      "========================================================================================================================\n"
     ]
    }
   ],
   "source": [
    "x_train_feature_total = df_cat_train_before_response_coding['clean_categories']\n",
    "\n",
    "x_train_feature_0 = df_cat_train_before_response_coding.loc[df_cat_train_before_response_coding['project_is_approved']==0]['clean_categories']\n",
    "x_train_feature_1 = df_cat_train_before_response_coding.loc[df_cat_train_before_response_coding['project_is_approved']==1]['clean_categories']\n",
    "\n",
    "total_counter, counter_0, counter_1 = response_encoding_fit(x_train_feature_total, x_train_feature_0, x_train_feature_1 )\n",
    "\n",
    "X_train_clean_categories_response_proba_0, X_test_clean_categoris_response_proba_1 = response_encoding_transform(X_train['clean_categories'], total_counter, counter_0, counter_1)\n",
    "\n",
    "X_test_clean_categories_response_proba_0, X_test_clean_categoris_response_proba_1 = response_encoding_transform(X_test['clean_categories'], total_counter, counter_0, counter_1)\n",
    "\n",
    "print(np.mean(X_train_clean_categories_response_proba_0, axis=0))\n",
    "print(X_train_clean_categories_response_proba_0.shape, y_train.shape)\n",
    "print(X_test_clean_categories_response_proba_0.shape, y_test.shape)\n",
    "print('='*120)"
   ]
  },
  {
   "cell_type": "code",
   "execution_count": 34,
   "metadata": {
    "colab": {
     "base_uri": "https://localhost:8080/"
    },
    "id": "ozcAYuzm-q4g",
    "outputId": "083d7946-e67e-416a-e31a-8f5056052f5e"
   },
   "outputs": [
    {
     "name": "stdout",
     "output_type": "stream",
     "text": [
      "[0.153375]\n",
      "(32000, 1) (32000,)\n",
      "(8000, 1) (8000,)\n",
      "========================================================================================================================\n"
     ]
    }
   ],
   "source": [
    "x_train_feature_total = df_cat_train_before_response_coding['clean_subcategories']\n",
    "\n",
    "x_train_feature_0 = df_cat_train_before_response_coding.loc[df_cat_train_before_response_coding['project_is_approved']==0]['clean_subcategories']\n",
    "x_train_feature_1 = df_cat_train_before_response_coding.loc[df_cat_train_before_response_coding['project_is_approved']==1]['clean_subcategories']\n",
    "\n",
    "total_counter, counter_0, counter_1 = response_encoding_fit(x_train_feature_total, x_train_feature_0, x_train_feature_1 )\n",
    "\n",
    "X_train_clean_subcategories_response_proba_0, X_train_clean_subcategories_response_proba_1 = response_encoding_transform(X_train['clean_subcategories'], total_counter, counter_0, counter_1)\n",
    "\n",
    "X_test_clean_subcategories_response_proba_0, X_test_clean_subcategories_response_proba_1 = response_encoding_transform(X_test['clean_subcategories'], total_counter, counter_0, counter_1)\n",
    "\n",
    "print(np.mean(X_train_clean_subcategories_response_proba_0, axis=0))\n",
    "print(X_train_clean_subcategories_response_proba_0.shape, y_train.shape)\n",
    "print(X_test_clean_subcategories_response_proba_0.shape, y_test.shape)\n",
    "print('='*120)"
   ]
  },
  {
   "cell_type": "markdown",
   "metadata": {
    "id": "c0Z7BWgG-q4h"
   },
   "source": [
    "<h2>1.4.2. Make Data, Model Ready: Encoding numerical features</h2>"
   ]
  },
  {
   "cell_type": "code",
   "execution_count": 35,
   "metadata": {
    "colab": {
     "base_uri": "https://localhost:8080/"
    },
    "id": "Z329twqo-q4h",
    "outputId": "ca46306b-0cac-4526-ca38-adca0b1ee44a"
   },
   "outputs": [
    {
     "name": "stdout",
     "output_type": "stream",
     "text": [
      "After normalisation\n",
      "(32000, 1) (32000,)\n",
      "(8000, 1) (8000,)\n",
      "========================================================================================================================\n"
     ]
    }
   ],
   "source": [
    "from sklearn.preprocessing import Normalizer\n",
    "normalizer = Normalizer()\n",
    "# normalizer.fit(X_train['price'].values)\n",
    "# this will rise an error Expected 2D array, got 1D array instead: \n",
    "# array=[105.22 215.96  96.01 ... 368.98  80.53 709.67].\n",
    "# Reshape your data either using \n",
    "# array.reshape(-1, 1) if your data has a single feature \n",
    "# array.reshape(1, -1)  if it contains a single sample.\n",
    "normalizer.fit(X_train['price'].values.reshape(-1, 1))\n",
    "\n",
    "X_train_price_norm = normalizer.transform(X_train['price'].values.reshape(-1, 1))\n",
    "X_test_price_norm = normalizer.transform(X_test['price'].values.reshape(-1, 1))\n",
    "\n",
    "print('After normalisation')\n",
    "print(X_train_price_norm.shape, y_train.shape)\n",
    "print(X_test_price_norm.shape, y_test.shape)\n",
    "print('='*120)"
   ]
  },
  {
   "cell_type": "code",
   "execution_count": 36,
   "metadata": {
    "colab": {
     "base_uri": "https://localhost:8080/"
    },
    "id": "cwfB0SL5-q4h",
    "outputId": "98184075-6afd-4fd9-db1a-910ccf394523"
   },
   "outputs": [
    {
     "name": "stdout",
     "output_type": "stream",
     "text": [
      "After normalisation\n",
      "(32000, 1) (32000,)\n",
      "(8000, 1) (8000,)\n",
      "========================================================================================================================\n"
     ]
    }
   ],
   "source": [
    "normalizer = Normalizer()\n",
    "# normalizer.fit(X_train['price'].values)\n",
    "# this will rise an error Expected 2D array, got 1D array instead: \n",
    "# array=[105.22 215.96  96.01 ... 368.98  80.53 709.67].\n",
    "# Reshape your data either using \n",
    "# array.reshape(-1, 1) if your data has a single feature \n",
    "# array.reshape(1, -1)  if it contains a single sample.\n",
    "normalizer.fit(X_train['teacher_number_of_previously_posted_projects'].values.reshape(-1,1))\n",
    "\n",
    "X_train_previously_posted_projects_norm = normalizer.transform(X_train['teacher_number_of_previously_posted_projects'].values.reshape(-1,1))\n",
    "X_test_previously_posted_projects_norm = normalizer.transform(X_test['teacher_number_of_previously_posted_projects'].values.reshape(-1,1))\n",
    "\n",
    "print('After normalisation')\n",
    "print(X_train_previously_posted_projects_norm.shape, y_train.shape)\n",
    "print(X_test_previously_posted_projects_norm.shape, y_test.shape)\n",
    "print('='*120)"
   ]
  },
  {
   "cell_type": "markdown",
   "metadata": {
    "id": "OyModkpS-q4i"
   },
   "source": [
    "#### Reshaping sentiment scores"
   ]
  },
  {
   "cell_type": "code",
   "execution_count": 37,
   "metadata": {
    "colab": {
     "base_uri": "https://localhost:8080/"
    },
    "id": "Ula9Ew4U-q4i",
    "outputId": "20ee7329-399c-408a-8f28-9859445a8e17"
   },
   "outputs": [
    {
     "name": "stdout",
     "output_type": "stream",
     "text": [
      "After reshaping\n",
      "(32000, 1) (32000,)\n",
      "(32000, 1) (8000,)\n",
      "========================================================================================================================\n"
     ]
    }
   ],
   "source": [
    "X_train_essay_sentiment_neg = X_train['essay_sentiment_neg'].values.reshape(-1,1)\n",
    "X_test_essay_sentiment_neg = X_test['essay_sentiment_neg'].values.reshape(-1,1)\n",
    "\n",
    "print('After reshaping')\n",
    "print(X_train_essay_sentiment_neg.shape, y_train.shape)\n",
    "print(X_train_essay_sentiment_neg.shape, y_test.shape)\n",
    "print('='*120)"
   ]
  },
  {
   "cell_type": "code",
   "execution_count": 38,
   "metadata": {
    "colab": {
     "base_uri": "https://localhost:8080/"
    },
    "id": "NiB3Fb72-q4i",
    "outputId": "af263bea-c943-41a4-89a8-a6214ddfe122"
   },
   "outputs": [
    {
     "name": "stdout",
     "output_type": "stream",
     "text": [
      "After reshaping\n",
      "(32000, 1) (32000,)\n",
      "(8000, 1) (8000,)\n",
      "========================================================================================================================\n"
     ]
    }
   ],
   "source": [
    "X_train_essay_sentiment_neu = X_train['essay_sentiment_neu'].values.reshape(-1,1)\n",
    "X_test_essay_sentiment_neu = X_test['essay_sentiment_neu'].values.reshape(-1,1)\n",
    "\n",
    "print('After reshaping')\n",
    "print(X_train_essay_sentiment_neu.shape, y_train.shape)\n",
    "print(X_test_essay_sentiment_neu.shape, y_test.shape)\n",
    "print('='*120)"
   ]
  },
  {
   "cell_type": "code",
   "execution_count": 39,
   "metadata": {
    "colab": {
     "base_uri": "https://localhost:8080/"
    },
    "id": "94Xlr57j-q4i",
    "outputId": "1e14ff10-38e2-45d9-c3cc-d97410a7feef"
   },
   "outputs": [
    {
     "name": "stdout",
     "output_type": "stream",
     "text": [
      "After reshaping\n",
      "(32000, 1) (32000,)\n",
      "(8000, 1) (8000,)\n",
      "========================================================================================================================\n"
     ]
    }
   ],
   "source": [
    "X_train_essay_sentiment_pos = X_train['essay_sentiment_pos'].values.reshape(-1,1)\n",
    "X_test_essay_sentiment_pos = X_test['essay_sentiment_pos'].values.reshape(-1,1)\n",
    "\n",
    "print('After reshaping')\n",
    "print(X_train_essay_sentiment_pos.shape, y_train.shape)\n",
    "print(X_test_essay_sentiment_pos.shape, y_test.shape)\n",
    "print('='*120)"
   ]
  },
  {
   "cell_type": "code",
   "execution_count": 40,
   "metadata": {
    "colab": {
     "base_uri": "https://localhost:8080/"
    },
    "id": "r4CsBvoi-q4j",
    "outputId": "7c766835-f577-497b-940d-5de36c04b1bc"
   },
   "outputs": [
    {
     "name": "stdout",
     "output_type": "stream",
     "text": [
      "After reshaping\n",
      "(32000, 1) (32000,)\n",
      "(8000, 1) (8000,)\n",
      "========================================================================================================================\n"
     ]
    }
   ],
   "source": [
    "X_train_essay_sentiment_comp = X_train['essay_sentiment_comp'].values.reshape(-1,1)\n",
    "X_test_essay_sentiment_comp = X_test['essay_sentiment_comp'].values.reshape(-1,1)\n",
    "\n",
    "print('After reshaping')\n",
    "print(X_train_essay_sentiment_comp.shape, y_train.shape)\n",
    "print(X_test_essay_sentiment_comp.shape, y_test.shape)\n",
    "print('='*120)"
   ]
  },
  {
   "cell_type": "markdown",
   "metadata": {
    "id": "I5wDFj17sc3-"
   },
   "source": [
    "<h2>1.5 Appling Models on different kind of featurization as mentioned in the instructions</h2>"
   ]
  },
  {
   "cell_type": "markdown",
   "metadata": {
    "id": "O5tWox1jsc3_"
   },
   "source": [
    "<br>Apply GBDT on different kind of featurization as mentioned in the instructions\n",
    "<br> For Every model that you work on make sure you do the step 2 and step 3 of instrucations"
   ]
  },
  {
   "cell_type": "markdown",
   "metadata": {
    "id": "QT7IZgQYtUhS"
   },
   "source": [
    "# SET 1"
   ]
  },
  {
   "cell_type": "code",
   "execution_count": 42,
   "metadata": {
    "colab": {
     "base_uri": "https://localhost:8080/"
    },
    "id": "EkzZcOlU-q4k",
    "outputId": "b7fdd985-a9b5-40d4-a76c-674b015fde48"
   },
   "outputs": [
    {
     "name": "stdout",
     "output_type": "stream",
     "text": [
      "Final Data Matrix\n",
      "(32000, 10174) (32000,)\n",
      "(8000, 10174) (8000,)\n",
      "========================================================================================================================\n"
     ]
    }
   ],
   "source": [
    "# merge two sparse matrices: https://stackoverflow.com/a/19710648/4084039\n",
    "# from scipy.sparse import hstack\n",
    "X_tr_set1 = hstack((X_train_essay_tfidf,\n",
    "                    X_train_clean_categories_response_proba_0,\n",
    "                    X_train_clean_subcategories_response_proba_0,\n",
    "                    X_train_project_grade_category_response_proba_0,\n",
    "                    X_train_school_state_response_proba_0,\n",
    "                    X_train_teacher_prefix_response_proba_0,\n",
    "                    X_train_price_norm,\n",
    "                    X_train_previously_posted_projects_norm,\n",
    "                    X_train_essay_sentiment_neg,\n",
    "                    X_train_essay_sentiment_neu,\n",
    "                    X_train_essay_sentiment_pos,\n",
    "                    X_train_essay_sentiment_comp)).tocsr()\n",
    "\n",
    "X_te_set1 = hstack((X_test_essay_tfidf,\n",
    "                    X_test_clean_categories_response_proba_0,\n",
    "                    X_test_clean_subcategories_response_proba_0,\n",
    "                    X_test_project_grade_category_response_proba_0,\n",
    "                    X_test_school_state_response_proba_0,\n",
    "                    X_test_teacher_prefix_response_proba_0,\n",
    "                    X_test_price_norm,\n",
    "                    X_test_previously_posted_projects_norm,\n",
    "                    X_test_essay_sentiment_neg,\n",
    "                    X_test_essay_sentiment_neu,\n",
    "                    X_test_essay_sentiment_pos,\n",
    "                    X_test_essay_sentiment_comp)).tocsr()\n",
    "\n",
    "print('Final Data Matrix')\n",
    "print(X_tr_set1.shape, y_train.shape)\n",
    "print(X_te_set1.shape, y_test.shape)\n",
    "print('='*120)"
   ]
  },
  {
   "cell_type": "markdown",
   "metadata": {
    "id": "hGaN5a3V-q4k"
   },
   "source": [
    "<h1>GBDT (xgboost/lightgbm) </h1>"
   ]
  },
  {
   "cell_type": "code",
   "execution_count": 43,
   "metadata": {
    "id": "QdzWwqQ2-q4k"
   },
   "outputs": [],
   "source": [
    "# Create the parameter grid based on the results of random search \n",
    "params = {\n",
    "'eta': [0.0001, 0.001, 0.01, 0.1, 0.2],\n",
    "'n_estimators': [30, 40, 50, 60],\n",
    "}\n",
    "# 'tree_method':['gpu_hist']"
   ]
  },
  {
   "cell_type": "code",
   "execution_count": 44,
   "metadata": {
    "id": "s8nw7x02-q4k"
   },
   "outputs": [],
   "source": [
    "# https://stackoverflow.com/questions/66097701/how-can-i-fix-this-warning-in-xgboost\n",
    "xgb_clf_s1 = XGBClassifier(eval_metric='mlogloss') # using 'mlogloss' otherwise giving too many warnings"
   ]
  },
  {
   "cell_type": "code",
   "execution_count": 45,
   "metadata": {
    "colab": {
     "base_uri": "https://localhost:8080/"
    },
    "id": "SDX8CqXZ-q4k",
    "outputId": "8785d9a1-eeab-4169-8e76-8dc5135fcc0f"
   },
   "outputs": [
    {
     "name": "stdout",
     "output_type": "stream",
     "text": [
      "CPU times: user 14min 51s, sys: 7.35 s, total: 14min 58s\n",
      "Wall time: 14min 54s\n"
     ]
    }
   ],
   "source": [
    "%%time\n",
    "grid_search_s1 = GridSearchCV(xgb_clf_s1, params, cv=3, scoring='roc_auc', return_train_score=True)\n",
    "grid_search_s1.fit(X_tr_set1, y_train)"
   ]
  },
  {
   "cell_type": "code",
   "execution_count": 46,
   "metadata": {
    "colab": {
     "base_uri": "https://localhost:8080/"
    },
    "id": "s4Py9OQw-q4l",
    "outputId": "4498a74d-5d21-47c6-e339-78b67e9c55c1"
   },
   "outputs": [
    {
     "data": {
      "text/plain": [
       "{'eta': 0.0001, 'n_estimators': 60}"
      ]
     },
     "execution_count": 46,
     "metadata": {},
     "output_type": "execute_result"
    }
   ],
   "source": [
    "grid_search_s1.best_params_"
   ]
  },
  {
   "cell_type": "code",
   "execution_count": 47,
   "metadata": {
    "id": "i4uDDwGD-q4l"
   },
   "outputs": [],
   "source": [
    "best_param_eta_s1, best_param_n_estimators_s1 = grid_search_s1.best_params_.values()"
   ]
  },
  {
   "cell_type": "code",
   "execution_count": 63,
   "metadata": {
    "colab": {
     "base_uri": "https://localhost:8080/"
    },
    "id": "r6LK1un20N6d",
    "outputId": "213619ff-0b96-4b7e-9602-b0df1d83ebb3"
   },
   "outputs": [
    {
     "data": {
      "text/plain": [
       "float"
      ]
     },
     "execution_count": 63,
     "metadata": {},
     "output_type": "execute_result"
    }
   ],
   "source": [
    "best_param_eta_s1 = 0.001\n",
    "type(best_param_eta_s1)"
   ]
  },
  {
   "cell_type": "markdown",
   "metadata": {
    "id": "GxNcW4Je-q4l"
   },
   "source": [
    "#### AUC for SET - 1"
   ]
  },
  {
   "cell_type": "code",
   "execution_count": 48,
   "metadata": {
    "id": "FrekbzbC-q4l"
   },
   "outputs": [],
   "source": [
    "learning_rates = [0.0001, 0.001, 0.01, 0.1, 0.2]\n",
    "n_estimators = [30, 40, 50, 60]"
   ]
  },
  {
   "cell_type": "code",
   "execution_count": 53,
   "metadata": {
    "id": "6GAS5XG6-q4m"
   },
   "outputs": [],
   "source": [
    "def get_auc_matrix(x_train, x_test, y_train, y_test ):    \n",
    "\n",
    "    train_auc_final_arr = []\n",
    "    test_auc_final_arr = []\n",
    "\n",
    "    for learning_rate in tqdm(learning_rates):\n",
    "        train_auc_batch = []\n",
    "        test_auc_batch =  []\n",
    "        \n",
    "        for num in n_estimators:\n",
    "            # parameter learning_rate is now eta\n",
    "            xgb_clf = XGBClassifier(n_estimators=num, eval_metric='mlogloss', eta=learning_rate, reg_alpha=0, reg_lambda=0)\n",
    "            \n",
    "            xgb_clf.fit(x_train, y_train)\n",
    "\n",
    "            # Now we've to predict probabilities (clf.predict_proba) instead of classes for calculating of ROC AUC score\n",
    "            y_train_predicted = xgb_clf.predict_proba(x_train)[:, 1]\n",
    "            y_test_predicted = xgb_clf.predict_proba(x_test)[:, 1]\n",
    "\n",
    "            train_auc = roc_auc_score(y_train, y_train_predicted)\n",
    "            test_auc = roc_auc_score(y_test, y_test_predicted)\n",
    "\n",
    "            train_auc_batch.append(train_auc)\n",
    "            test_auc_batch.append(test_auc)\n",
    "        \n",
    "        train_auc_final_arr.append(train_auc_batch)\n",
    "        test_auc_final_arr.append(test_auc_batch)\n",
    "\n",
    "    return train_auc_final_arr, test_auc_final_arr\n"
   ]
  },
  {
   "cell_type": "code",
   "execution_count": 54,
   "metadata": {
    "colab": {
     "base_uri": "https://localhost:8080/"
    },
    "id": "4iMwmX56-q4m",
    "outputId": "15792f90-3b9c-48b3-89f7-9866480b898d"
   },
   "outputs": [
    {
     "name": "stderr",
     "output_type": "stream",
     "text": [
      "100%|██████████| 5/5 [07:04<00:00, 84.93s/it]\n"
     ]
    }
   ],
   "source": [
    "train_auc_final_arr_s1, test_auc_final_arr_s1 = get_auc_matrix(X_tr_set1, X_te_set1, y_train, y_test)"
   ]
  },
  {
   "cell_type": "code",
   "execution_count": 64,
   "metadata": {
    "colab": {
     "base_uri": "https://localhost:8080/",
     "height": 295
    },
    "id": "CmgUBKOu-q4m",
    "outputId": "27faa1b0-e7fc-45d7-a024-1dbba233080f"
   },
   "outputs": [
    {
     "data": {
      "image/png": "[encoded data removed]",
      "text/plain": [
       "<Figure size 432x288 with 1 Axes>"
      ]
     },
     "metadata": {
      "needs_background": "light"
     },
     "output_type": "display_data"
    }
   ],
   "source": [
    "xgb_clf = XGBClassifier(n_estimators= best_param_n_estimators_s1,\n",
    "                        learning_rate= best_param_eta_s1,\n",
    "                        reg_alpha=0, reg_lambda=0, booster='gblinear')\n",
    "xgb_clf.fit(X_tr_set1, y_train)\n",
    "\n",
    "# Now we've to predict probabilities (clf.predict_proba) instead of classes for calculating of ROC AUC score\n",
    "y_train_predicted = xgb_clf.predict_proba(X_tr_set1)[:, 1]\n",
    "y_test_predicted = xgb_clf.predict_proba(X_te_set1)[:, 1]\n",
    "\n",
    "train_fpr_s1, train_tpr_s1, train_thresholds_s1 = roc_curve(y_train, y_train_predicted)\n",
    "\n",
    "test_fpr_s1, test_tpr_s1, test_thresholds_s1 = roc_curve(y_test, y_test_predicted)\n",
    "\n",
    "plt.plot(train_fpr_s1, train_tpr_s1, label=\"Train AUC: \"+str(auc(train_fpr_s1, train_tpr_s1)))\n",
    "plt.plot(test_fpr_s1, test_tpr_s1, label=\"Test AUC: \"+str(auc(test_fpr_s1, test_tpr_s1)))\n",
    "\n",
    "plt.legend()\n",
    "plt.xlabel(\"False Positive Rate(FPR)\")\n",
    "plt.ylabel(\"True Positive Rate(TPR)\")\n",
    "plt.title(\"AUC\")\n",
    "plt.grid(b=True, which='major', color='k', linestyle=':')\n",
    "plt.show()"
   ]
  },
  {
   "cell_type": "markdown",
   "metadata": {
    "id": "WnbJO8W6-q4n"
   },
   "source": [
    "#### Heat map or 3-D plot for SET - 1"
   ]
  },
  {
   "cell_type": "code",
   "execution_count": 65,
   "metadata": {
    "colab": {
     "base_uri": "https://localhost:8080/",
     "height": 282
    },
    "id": "llphne0a-q4n",
    "outputId": "8fdcfa91-ae25-4335-d9cd-febbe1fc5163"
   },
   "outputs": [
    {
     "data": {
      "text/plain": [
       "<matplotlib.axes._subplots.AxesSubplot at 0x7f324b1a5390>"
      ]
     },
     "execution_count": 65,
     "metadata": {},
     "output_type": "execute_result"
    },
    {
     "data": {
      "image/png": "[encoded data removed]",
      "text/plain": [
       "<Figure size 432x288 with 2 Axes>"
      ]
     },
     "metadata": {
      "needs_background": "light"
     },
     "output_type": "display_data"
    }
   ],
   "source": [
    "# Heatmap for train\n",
    "train_auc_final_df_s1 = pd.DataFrame(train_auc_final_arr_s1, columns=n_estimators, index=learning_rates)\n",
    "sns.heatmap(train_auc_final_df_s1, annot=True, fmt='.3g')\n",
    "#title"
   ]
  },
  {
   "cell_type": "code",
   "execution_count": 66,
   "metadata": {
    "colab": {
     "base_uri": "https://localhost:8080/",
     "height": 282
    },
    "id": "T-0adl9L-q4n",
    "outputId": "685fd82b-1dfe-4156-94c5-c364c4384723"
   },
   "outputs": [
    {
     "data": {
      "text/plain": [
       "<matplotlib.axes._subplots.AxesSubplot at 0x7f324b228bd0>"
      ]
     },
     "execution_count": 66,
     "metadata": {},
     "output_type": "execute_result"
    },
    {
     "data": {
      "image/png": "[encoded data removed]",
      "text/plain": [
       "<Figure size 432x288 with 2 Axes>"
      ]
     },
     "metadata": {
      "needs_background": "light"
     },
     "output_type": "display_data"
    }
   ],
   "source": [
    "# Heatmap for test\n",
    "test_auc_final_df_s1 = pd.DataFrame(test_auc_final_arr_s1, columns=n_estimators, index=learning_rates)\n",
    "sns.heatmap(test_auc_final_df_s1, annot=True, fmt='.3g')\n",
    "#title"
   ]
  },
  {
   "cell_type": "code",
   "execution_count": 67,
   "metadata": {
    "id": "6OWcYDzt-q4n"
   },
   "outputs": [],
   "source": [
    "# we are writing our own function for predict, with defined threshold\n",
    "# we will pick a threshold that will give the least fpr\n",
    "def find_best_threshold(threshold, fpr, tpr):\n",
    "    t = threshold[np.argmax(tpr*(1-fpr))]\n",
    "    # (tpr*(1-fpr)) will be maximum if your fpr is very low and tpr is very high\n",
    "    print(\"the maximum value of tpr*(1-fpr)\", max(tpr*(1-fpr)), \"for threshold\", np.round(t,3))\n",
    "    return t\n",
    "\n",
    "def predict_with_best_t(proba, threshold):\n",
    "    predictions = []\n",
    "    for i in proba:\n",
    "        if i>= threshold:\n",
    "            predictions.append(1)\n",
    "        else:\n",
    "            predictions.append(0)\n",
    "    return predictions"
   ]
  },
  {
   "cell_type": "code",
   "execution_count": 68,
   "metadata": {
    "colab": {
     "base_uri": "https://localhost:8080/",
     "height": 366
    },
    "id": "3-zamn8i-q4n",
    "outputId": "b0c10912-133d-4e11-ba2d-0bc7373131fd"
   },
   "outputs": [
    {
     "name": "stdout",
     "output_type": "stream",
     "text": [
      "the maximum value of tpr*(1-fpr) 0.4885268235699276 for threshold 0.833\n",
      "Train confusion matrix\n",
      "[[ 3372  1536]\n",
      " [ 7828 19264]]\n"
     ]
    },
    {
     "data": {
      "text/plain": [
       "[Text(33.0, 0.5, 'Actual'), Text(0.5, 15.0, 'Predected')]"
      ]
     },
     "execution_count": 68,
     "metadata": {},
     "output_type": "execute_result"
    },
    {
     "data": {
      "image/png": "[encoded data removed]",
      "text/plain": [
       "<Figure size 432x288 with 2 Axes>"
      ]
     },
     "metadata": {
      "needs_background": "light"
     },
     "output_type": "display_data"
    }
   ],
   "source": [
    "# Pick the best threshold among the probability estimates, such that it has to yield maximum value for TPR*(1-FPR)\n",
    "# Plot the confusion matrices(each for train and test data) afer encoding the predicted class labels, on the basis of the best threshod probability estimate.\n",
    "\n",
    "best_t = find_best_threshold(train_thresholds_s1, train_fpr_s1, train_tpr_s1)\n",
    "print(\"Train confusion matrix\")\n",
    "cm_train_s1 = confusion_matrix(y_train, predict_with_best_t(y_train_predicted, best_t))\n",
    "print(cm_train_s1)\n",
    "p = sns.heatmap(cm_train_s1, annot=True, fmt=\"d\", cmap='Blues')\n",
    "p.set(xlabel='Predected', ylabel='Actual')"
   ]
  },
  {
   "cell_type": "code",
   "execution_count": 69,
   "metadata": {
    "colab": {
     "base_uri": "https://localhost:8080/",
     "height": 348
    },
    "id": "kZ78l16r-q4o",
    "outputId": "2dc48bdc-990a-48df-ac87-a089e9867f8f"
   },
   "outputs": [
    {
     "name": "stdout",
     "output_type": "stream",
     "text": [
      "Test confusion matrix\n",
      "[[ 667  560]\n",
      " [2157 4616]]\n"
     ]
    },
    {
     "data": {
      "text/plain": [
       "[Text(33.0, 0.5, 'Actual'), Text(0.5, 15.0, 'Predected')]"
      ]
     },
     "execution_count": 69,
     "metadata": {},
     "output_type": "execute_result"
    },
    {
     "data": {
      "image/png": "[encoded data removed]",
      "text/plain": [
       "<Figure size 432x288 with 2 Axes>"
      ]
     },
     "metadata": {
      "needs_background": "light"
     },
     "output_type": "display_data"
    }
   ],
   "source": [
    "print(\"Test confusion matrix\")\n",
    "cm_test_s1 = confusion_matrix(y_test, predict_with_best_t(y_test_predicted, best_t))\n",
    "print(cm_test_s1)\n",
    "p = sns.heatmap(cm_test_s1, annot=True, fmt=\"d\", cmap='Blues')\n",
    "p.set(xlabel='Predected', ylabel='Actual') "
   ]
  },
  {
   "cell_type": "markdown",
   "metadata": {
    "id": "MJfQ1W9K-q4o"
   },
   "source": [
    "# SET 2"
   ]
  },
  {
   "cell_type": "markdown",
   "metadata": {
    "id": "24x81zoC-q4o"
   },
   "source": [
    "## 2.1. Using Pretrained Model: TFIDF weighted W2V"
   ]
  },
  {
   "cell_type": "code",
   "execution_count": 70,
   "metadata": {
    "id": "Up1jBrge-q4p"
   },
   "outputs": [],
   "source": [
    "dictionary = dict(zip(vectorizer_essay_tfidf.get_feature_names(), list(vectorizer_essay_tfidf.idf_)))\n",
    "tfidf_words = set(vectorizer_essay_tfidf.get_feature_names())"
   ]
  },
  {
   "cell_type": "code",
   "execution_count": 71,
   "metadata": {
    "id": "vwZ3BpyL-q4p"
   },
   "outputs": [],
   "source": [
    "# Function to generate Word2Vec\n",
    "def generate_w2v_from_text(essays_text_arr):\n",
    "  # compute average word2vec for each review.\n",
    "    tfidf_w2v_vectors = []\n",
    "    # the avg-w2v for each sentence/review is stored in this list\n",
    "\n",
    "    for sentence in tqdm(essays_text_arr):  # for each sentence\n",
    "        vector = np.zeros(300)  # as word vectors are of zero length\n",
    "        tf_idf_weight = 0\n",
    "        # num of words with a valid vector in the sentence\n",
    "        for word in sentence.split():  # for each word in a sentence\n",
    "            if (word in glove_words) and (word in tfidf_words):\n",
    "                vec = model[word]  # getting the vector for each word\n",
    "                # here we are multiplying idf value(dictionary[word]) and the tf value((sentence.count(word)/len(sentence.split())))\n",
    "                tf_idf = dictionary[word] * (\n",
    "                    sentence.count(word) / len(sentence.split())\n",
    "                )  # getting the tfidf value for each word\n",
    "                vector += vec * tf_idf  # calculating tfidf weighted w2v\n",
    "                tf_idf_weight += tf_idf\n",
    "        if tf_idf_weight != 0:\n",
    "            vector /= tf_idf_weight\n",
    "        tfidf_w2v_vectors.append(vector)\n",
    "    return tfidf_w2v_vectors\n"
   ]
  },
  {
   "cell_type": "code",
   "execution_count": 72,
   "metadata": {
    "colab": {
     "base_uri": "https://localhost:8080/"
    },
    "id": "nsgY-p0L-q4p",
    "outputId": "97e7ee3f-038a-4bef-e038-dfd8f8743a7a"
   },
   "outputs": [
    {
     "name": "stderr",
     "output_type": "stream",
     "text": [
      "100%|██████████| 32000/32000 [01:07<00:00, 476.05it/s]\n"
     ]
    }
   ],
   "source": [
    "X_train_vectorized_tfidf_w2v_essay = generate_w2v_from_text(X_train['essay'].values)"
   ]
  },
  {
   "cell_type": "code",
   "execution_count": 73,
   "metadata": {
    "colab": {
     "base_uri": "https://localhost:8080/"
    },
    "id": "S1HvkL1--q4q",
    "outputId": "abaf03ee-47bb-4a3c-fb16-32e231727f03"
   },
   "outputs": [
    {
     "name": "stderr",
     "output_type": "stream",
     "text": [
      "100%|██████████| 8000/8000 [00:17<00:00, 466.61it/s]\n"
     ]
    }
   ],
   "source": [
    "X_test_vectorized_tfidf_w2v_essay = generate_w2v_from_text(X_test['essay'].values)"
   ]
  },
  {
   "cell_type": "code",
   "execution_count": 74,
   "metadata": {
    "colab": {
     "base_uri": "https://localhost:8080/"
    },
    "id": "TEmXv3ET-q4q",
    "outputId": "d4e3a28c-dc87-46d5-a17a-2834535ab090"
   },
   "outputs": [
    {
     "name": "stdout",
     "output_type": "stream",
     "text": [
      "Final Data Matrix\n",
      "(32000, 311) (32000,)\n",
      "(8000, 311) (8000,)\n",
      "========================================================================================================================\n"
     ]
    }
   ],
   "source": [
    "# merge two sparse matrices: https://stackoverflow.com/a/19710648/4084039\n",
    "# from scipy.sparse import hstack\n",
    "X_tr_set2 = np.hstack((X_train_vectorized_tfidf_w2v_essay,\n",
    "                    X_train_clean_categories_response_proba_0,\n",
    "                    X_train_clean_subcategories_response_proba_0,\n",
    "                    X_train_project_grade_category_response_proba_0,\n",
    "                    X_train_school_state_response_proba_0,\n",
    "                    X_train_teacher_prefix_response_proba_0,\n",
    "                    X_train_price_norm,\n",
    "                    X_train_previously_posted_projects_norm,\n",
    "                    X_train_essay_sentiment_neg,\n",
    "                    X_train_essay_sentiment_neu,\n",
    "                    X_train_essay_sentiment_pos,\n",
    "                    X_train_essay_sentiment_comp))\n",
    "\n",
    "\n",
    "X_te_set2 = np.hstack((X_test_vectorized_tfidf_w2v_essay,\n",
    "                    X_test_clean_categories_response_proba_0,\n",
    "                    X_test_clean_subcategories_response_proba_0,\n",
    "                    X_test_project_grade_category_response_proba_0,\n",
    "                    X_test_school_state_response_proba_0,\n",
    "                    X_test_teacher_prefix_response_proba_0,\n",
    "                    X_test_price_norm,\n",
    "                    X_test_previously_posted_projects_norm,\n",
    "                    X_test_essay_sentiment_neg,\n",
    "                    X_test_essay_sentiment_neu,\n",
    "                    X_test_essay_sentiment_pos,\n",
    "                    X_test_essay_sentiment_comp))\n",
    "\n",
    "print('Final Data Matrix')\n",
    "print(X_tr_set2.shape, y_train.shape)\n",
    "print(X_te_set2.shape, y_test.shape)\n",
    "print('='*120)"
   ]
  },
  {
   "cell_type": "markdown",
   "metadata": {
    "id": "OAAZCVnt-q4r"
   },
   "source": [
    "#### GridSearch on Set S2"
   ]
  },
  {
   "cell_type": "code",
   "execution_count": 75,
   "metadata": {
    "id": "cHh0BpUG-q4r"
   },
   "outputs": [],
   "source": [
    "xgb_clf_s2 = XGBClassifier(eval_metric='mlogloss')"
   ]
  },
  {
   "cell_type": "code",
   "execution_count": 76,
   "metadata": {
    "colab": {
     "base_uri": "https://localhost:8080/"
    },
    "id": "lG0fiTOx-q4r",
    "outputId": "1d3c5f1e-a43b-48e7-dcf6-da1fd65e0528"
   },
   "outputs": [
    {
     "name": "stdout",
     "output_type": "stream",
     "text": [
      "CPU times: user 18min 36s, sys: 1.36 s, total: 18min 37s\n",
      "Wall time: 18min 31s\n"
     ]
    }
   ],
   "source": [
    "%%time\n",
    "grid_search_s2 = GridSearchCV(xgb_clf_s2, params, cv=3, scoring='roc_auc', return_train_score=True)\n",
    "grid_search_s2.fit(X_tr_set2, y_train)"
   ]
  },
  {
   "cell_type": "code",
   "execution_count": 77,
   "metadata": {
    "colab": {
     "base_uri": "https://localhost:8080/"
    },
    "id": "kuRVcx26-q4r",
    "outputId": "2b644f22-bdfe-4715-fe07-a1046b60156f"
   },
   "outputs": [
    {
     "data": {
      "text/plain": [
       "{'eta': 0.0001, 'n_estimators': 60}"
      ]
     },
     "execution_count": 77,
     "metadata": {},
     "output_type": "execute_result"
    }
   ],
   "source": [
    "grid_search_s2.best_params_"
   ]
  },
  {
   "cell_type": "code",
   "execution_count": 78,
   "metadata": {
    "id": "d2Js-dsO-q4s"
   },
   "outputs": [],
   "source": [
    "best_param_eta_s2, best_param_n_estimators_s2 = grid_search_s2.best_params_.values()"
   ]
  },
  {
   "cell_type": "code",
   "execution_count": 89,
   "metadata": {
    "id": "zbe_tq7S7AmI"
   },
   "outputs": [],
   "source": [
    "best_param_eta_s2 = 0.1"
   ]
  },
  {
   "cell_type": "markdown",
   "metadata": {
    "id": "V0x-uRjf-q4s"
   },
   "source": [
    "#### AUC for SET - 2"
   ]
  },
  {
   "cell_type": "code",
   "execution_count": 90,
   "metadata": {
    "colab": {
     "base_uri": "https://localhost:8080/",
     "height": 295
    },
    "id": "y_kklvBq-q4s",
    "outputId": "2e2128b1-b477-49f7-9e7d-d7fbe1cda2a4"
   },
   "outputs": [
    {
     "data": {
      "image/png": "[encoded data removed]",
      "text/plain": [
       "<Figure size 432x288 with 1 Axes>"
      ]
     },
     "metadata": {
      "needs_background": "light"
     },
     "output_type": "display_data"
    }
   ],
   "source": [
    "xgb_tfidf_w2v_clf = XGBClassifier(n_estimators=best_param_n_estimators_s2,\n",
    "                        learning_rate=best_param_eta_s2,\n",
    "                        reg_alpha=0, reg_lambda=0, booster='gblinear')\n",
    "xgb_tfidf_w2v_clf.fit(X_tr_set2, y_train)\n",
    "\n",
    "# I have to predict probabilities (clf.predict_proba) instead of classes for calculating of ROC AUC score:\n",
    "y_train_predicted = xgb_tfidf_w2v_clf.predict_proba(X_tr_set2)[:, 1]\n",
    "y_test_predicted = xgb_tfidf_w2v_clf.predict_proba(X_te_set2)[:, 1]\n",
    "\n",
    "train_fpr_s2, train_tpr_s2, train_thresholds_s2 = roc_curve(y_train, y_train_predicted)\n",
    "\n",
    "test_fpr_s2, test_tpr_s2, test_thresholds_s2 = roc_curve(y_test, y_test_predicted)\n",
    "\n",
    "plt.plot(train_fpr_s2, train_tpr_s2, label=\"Train AUC: \"+str(auc(train_fpr_s2, train_tpr_s2)))\n",
    "plt.plot(test_fpr_s2, test_tpr_s2, label=\"Test AUC: \"+str(auc(test_fpr_s2, test_tpr_s2)))\n",
    "\n",
    "plt.legend()\n",
    "plt.xlabel(\"False Positive Rate(FPR)\")\n",
    "plt.ylabel(\"True Positive Rate(TPR)\")\n",
    "plt.title(\"AUC\")\n",
    "plt.grid(b=True, which='major', color='k', linestyle=':')\n",
    "plt.show()"
   ]
  },
  {
   "cell_type": "code",
   "execution_count": 91,
   "metadata": {
    "colab": {
     "base_uri": "https://localhost:8080/"
    },
    "id": "B7uG8p_e-q4s",
    "outputId": "dd3a01f7-d013-4606-f7f8-e787deacd302"
   },
   "outputs": [
    {
     "name": "stderr",
     "output_type": "stream",
     "text": [
      "100%|██████████| 5/5 [08:56<00:00, 107.29s/it]\n"
     ]
    }
   ],
   "source": [
    "train_auc_final_arr_s2, test_auc_final_arr_s2 = get_auc_matrix(X_tr_set2, X_te_set2, y_train, y_test)\n",
    "#print('Train_auc_final_arr_s2: ', train_auc_final_arr_s2)\n",
    "#print('Test_auc_final_arr_s2: ', test_auc_final_arr_s2)"
   ]
  },
  {
   "cell_type": "code",
   "execution_count": 92,
   "metadata": {
    "colab": {
     "base_uri": "https://localhost:8080/",
     "height": 282
    },
    "id": "gmq0mZoZ-q4s",
    "outputId": "8e63c512-01d3-4031-f1dc-9fd60da63cc8"
   },
   "outputs": [
    {
     "data": {
      "text/plain": [
       "<matplotlib.axes._subplots.AxesSubplot at 0x7f32424920d0>"
      ]
     },
     "execution_count": 92,
     "metadata": {},
     "output_type": "execute_result"
    },
    {
     "data": {
      "image/png": "[encoded data removed]",
      "text/plain": [
       "<Figure size 432x288 with 2 Axes>"
      ]
     },
     "metadata": {
      "needs_background": "light"
     },
     "output_type": "display_data"
    }
   ],
   "source": [
    "# Heatmap for train\n",
    "train_auc_final_df_s2 = pd.DataFrame(train_auc_final_arr_s2, columns=n_estimators, index=learning_rates)\n",
    "sns.heatmap(train_auc_final_df_s2, annot = True, fmt='.3g')\n",
    "#title"
   ]
  },
  {
   "cell_type": "code",
   "execution_count": 93,
   "metadata": {
    "colab": {
     "base_uri": "https://localhost:8080/",
     "height": 282
    },
    "id": "zoHGEFaj-q4t",
    "outputId": "b468518e-f8c9-4a7d-f38f-849507e3e1bb"
   },
   "outputs": [
    {
     "data": {
      "text/plain": [
       "<matplotlib.axes._subplots.AxesSubplot at 0x7f3241fd5b50>"
      ]
     },
     "execution_count": 93,
     "metadata": {},
     "output_type": "execute_result"
    },
    {
     "data": {
      "image/png": "[encoded data removed]",
      "text/plain": [
       "<Figure size 432x288 with 2 Axes>"
      ]
     },
     "metadata": {
      "needs_background": "light"
     },
     "output_type": "display_data"
    }
   ],
   "source": [
    "# Heatmap for test\n",
    "test_auc_final_df_s2 = pd.DataFrame(test_auc_final_arr_s2, columns=n_estimators, index=learning_rates)\n",
    "sns.heatmap(test_auc_final_df_s2, annot = True, fmt='.3g')\n",
    "#title"
   ]
  },
  {
   "cell_type": "code",
   "execution_count": 94,
   "metadata": {
    "colab": {
     "base_uri": "https://localhost:8080/",
     "height": 366
    },
    "id": "3CM9iqAz-q4t",
    "outputId": "9b6646f0-caaa-4ad6-86df-cfa09d6bf914"
   },
   "outputs": [
    {
     "name": "stdout",
     "output_type": "stream",
     "text": [
      "the maximum value of tpr*(1-fpr) 0.44510942881576754 for threshold 0.829\n",
      "Train confusion matrix\n",
      "[[ 3152  1756]\n",
      " [ 8315 18777]]\n"
     ]
    },
    {
     "data": {
      "text/plain": [
       "[Text(33.0, 0.5, 'Actual'), Text(0.5, 15.0, 'Predected')]"
      ]
     },
     "execution_count": 94,
     "metadata": {},
     "output_type": "execute_result"
    },
    {
     "data": {
      "image/png": "[encoded data removed]",
      "text/plain": [
       "<Figure size 432x288 with 2 Axes>"
      ]
     },
     "metadata": {
      "needs_background": "light"
     },
     "output_type": "display_data"
    }
   ],
   "source": [
    "# Pick the best threshold among the probability estimates, such that it has to yield maximum value for TPR*(1-FPR)\n",
    "# Plot the confusion matrices(each for train and test data) afer encoding the predicted class labels, on the basis of the best threshod probability estimate.\n",
    "\n",
    "best_t = find_best_threshold(train_thresholds_s2, train_fpr_s2, train_tpr_s2)\n",
    "print(\"Train confusion matrix\")\n",
    "cm_train_s2 = confusion_matrix(y_train, predict_with_best_t(y_train_predicted, best_t))\n",
    "print(cm_train_s2)\n",
    "p = sns.heatmap(cm_train_s2, annot=True, fmt=\"d\", cmap='Blues')\n",
    "p.set(xlabel='Predected', ylabel='Actual')"
   ]
  },
  {
   "cell_type": "code",
   "execution_count": 95,
   "metadata": {
    "colab": {
     "base_uri": "https://localhost:8080/",
     "height": 348
    },
    "id": "B7r9F9h5-q4t",
    "outputId": "56320fee-6209-4654-e2a1-d7b10299cd96"
   },
   "outputs": [
    {
     "name": "stdout",
     "output_type": "stream",
     "text": [
      "Test confusion matrix\n",
      "[[ 742  485]\n",
      " [2144 4629]]\n"
     ]
    },
    {
     "data": {
      "text/plain": [
       "[Text(33.0, 0.5, 'Actual'), Text(0.5, 15.0, 'Predected')]"
      ]
     },
     "execution_count": 95,
     "metadata": {},
     "output_type": "execute_result"
    },
    {
     "data": {
      "image/png": "[encoded data removed]",
      "text/plain": [
       "<Figure size 432x288 with 2 Axes>"
      ]
     },
     "metadata": {
      "needs_background": "light"
     },
     "output_type": "display_data"
    }
   ],
   "source": [
    "print(\"Test confusion matrix\")\n",
    "cm_test_s2 = confusion_matrix(y_test, predict_with_best_t(y_test_predicted, best_t))\n",
    "print(cm_test_s2)\n",
    "p = sns.heatmap(cm_test_s2, annot=True, fmt=\"d\", cmap='Blues')\n",
    "p.set(xlabel='Predected', ylabel='Actual')"
   ]
  },
  {
   "cell_type": "markdown",
   "metadata": {
    "id": "YhFN-lDWsc4G"
   },
   "source": [
    "<h1>3. Summary</h1>\n",
    "\n",
    "<br> as mentioned in the step 4 of instructions"
   ]
  },
  {
   "cell_type": "code",
   "execution_count": 96,
   "metadata": {
    "colab": {
     "base_uri": "https://localhost:8080/"
    },
    "id": "Jj1fULSu-q4u",
    "outputId": "175ed68f-db9d-41fa-805f-ed95ce1edbb4"
   },
   "outputs": [
    {
     "name": "stdout",
     "output_type": "stream",
     "text": [
      "+------------+---------+---------------+----------------+-----------+----------+\n",
      "| Vectorizer |  Model  | Learning Rate | Max Tree Depth | Train AUC | Test AUC |\n",
      "+------------+---------+---------------+----------------+-----------+----------+\n",
      "|   TF-IDF   | XGBoost |     0.001     |       60       |    0.76   |   0.65   |\n",
      "| TF-IDF W2V | XGBoost |      0.1      |       60       |    0.72   |   0.69   |\n",
      "+------------+---------+---------------+----------------+-----------+----------+\n"
     ]
    }
   ],
   "source": [
    "# Summarize your assignment work here in a few points, and also compare the final models (from set 1 and set 2), in terms of optimal hyperparameter values, training AUC and test AUC scores.\n",
    "# You can either use a pretty table or any other tabular structure.\n",
    "# Reference Link for Pretty table:  https://pypi.org/project/prettytable/\n",
    "from prettytable import PrettyTable\n",
    "\n",
    "x = PrettyTable()\n",
    "\n",
    "x.field_names = [\"Vectorizer\", \"Model\", \"Learning Rate\", \"Max Tree Depth\", \"Train AUC\", \"Test AUC\"]\n",
    "\n",
    "\n",
    "x.add_row([\"TF-IDF\",     \"XGBoost\", best_param_eta_s1, best_param_n_estimators_s1, round(auc(train_fpr_s1, train_tpr_s1), 2), round(auc(test_fpr_s1, test_tpr_s1), 2)])\n",
    "x.add_row([\"TF-IDF W2V\", \"XGBoost\", best_param_eta_s2, best_param_n_estimators_s2, round(auc(train_fpr_s2, train_tpr_s2), 2), round(auc(test_fpr_s2, test_tpr_s2), 2)])\n",
    "\n",
    "print(x)"
   ]
  },
  {
   "cell_type": "code",
   "execution_count": 97,
   "metadata": {
    "colab": {
     "base_uri": "https://localhost:8080/"
    },
    "id": "Hjf_wxfJ-q4v",
    "outputId": "3d42229b-2ada-4fb6-b341-d6b6cfbe1b15"
   },
   "outputs": [
    {
     "name": "stdout",
     "output_type": "stream",
     "text": [
      "Drive not mounted, so nothing to flush and unmount.\n",
      "All changes made in this colab session should now be visible in Drive.\n"
     ]
    }
   ],
   "source": [
    "drive.flush_and_unmount()\n",
    "print('All changes made in this colab session should now be visible in Drive.')"
   ]
  },
  {
   "cell_type": "code",
   "execution_count": 86,
   "metadata": {
    "id": "m_cy3A7r0wEZ"
   },
   "outputs": [],
   "source": []
  }
 ],
 "metadata": {
  "colab": {
   "collapsed_sections": [],
   "name": "Assignment_GBDT_Instructions_with_GPU.ipynb",
   "provenance": []
  },
  "kernelspec": {
   "display_name": "Python 3",
   "language": "python",
   "name": "python3"
  },
  "language_info": {
   "codemirror_mode": {
    "name": "ipython",
    "version": 3
   },
   "file_extension": ".py",
   "mimetype": "text/x-python",
   "name": "python",
   "nbconvert_exporter": "python",
   "pygments_lexer": "ipython3",
   "version": "3.8.8"
  }
 },
 "nbformat": 4,
 "nbformat_minor": 1
}
