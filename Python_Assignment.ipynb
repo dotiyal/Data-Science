{
 "cells": [
  {
   "cell_type": "markdown",
   "metadata": {
    "id": "l0ZzOlyxB-kf"
   },
   "source": [
    "<h1>Python: without numpy or sklearn </h1>"
   ]
  },
  {
   "cell_type": "markdown",
   "metadata": {
    "id": "C0xO8JV9B-ki"
   },
   "source": [
    "<h3> Q1: Given two matrices please print the product of those two matrices </h3>\n",
    "<pre>\n",
    "\n",
    "Ex 1: A   = [[1 3 4]\n",
    "             [2 5 7]\n",
    "             [5 9 6]]\n",
    "      B   = [[1 0 0]\n",
    "             [0 1 0]\n",
    "             [0 0 1]]\n",
    "      A*B = [[1 3 4]\n",
    "             [2 5 7]\n",
    "             [5 9 6]]\n",
    "\n",
    "     \n",
    "Ex 2: A   = [[1 2]\n",
    "             [3 4]]\n",
    "      B   = [[1 2 3 4 5]\n",
    "             [5 6 7 8 9]]\n",
    "      A*B = [[11 14 17 20 23]\n",
    "             [23 30 36 42 51]]\n",
    "             \n",
    "Ex 3: A   = [[1 2]\n",
    "             [3 4]]\n",
    "      B   = [[1 4]\n",
    "             [5 6]\n",
    "             [7 8]\n",
    "             [9 6]]\n",
    "      A*B =Not possible\n",
    "</pre>"
   ]
  },
  {
   "cell_type": "code",
   "execution_count": 1,
   "metadata": {
    "colab": {
     "base_uri": "https://localhost:8080/"
    },
    "id": "rnssAfpgB-kj",
    "outputId": "971bd832-7e7b-41fb-d414-a0c02478fb7b"
   },
   "outputs": [
    {
     "name": "stdout",
     "output_type": "stream",
     "text": [
      "[[11, 14, 17, 20, 23], [23, 30, 37, 44, 51]]\n"
     ]
    }
   ],
   "source": [
    "# write your python code here\n",
    "# you can take the above example as sample input for your program to test\n",
    "# it should work for any general input try not to hard code for only given input examples\n",
    "\n",
    "\n",
    "# you can free to change all these codes/structure\n",
    "# here A and B are list of lists\n",
    "\n",
    "\n",
    "def matrix_mul(a, b):\n",
    "    mm = []\n",
    "    for i in range(len(a)):\n",
    "        temp = []   # It will save new row\n",
    "        for j in range(len(b[0])):\n",
    "            s = 0   # s: sum\n",
    "            for _ in range(len(b)):\n",
    "                s += int(a[i][_]) * int(b[_][j])\n",
    "            temp.append(s)\n",
    "        mm.append(temp)\n",
    "    return mm\n",
    "\n",
    "\n",
    "A = [[1, 2],\n",
    "     [3, 4]]\n",
    "\n",
    "B = [[1, 2, 3, 4, 5],\n",
    "     [5, 6, 7, 8, 9]]\n",
    "\n",
    "if len(A[0]) == len(B):\n",
    "    print(matrix_mul(A, B))\n",
    "else:\n",
    "    print(\"Not possible\")\n"
   ]
  },
  {
   "cell_type": "markdown",
   "metadata": {
    "id": "at4VwLggB-kn"
   },
   "source": [
    "<h3> Q2: Select a number randomly with probability proportional to its magnitude from the given array of n elements</h3>\n",
    "\n",
    "consider an experiment, selecting an element from the list A randomly with probability proportional to its magnitude.\n",
    "assume we are doing the same experiment for 100 times with replacement, in each experiment you will print a number that is selected randomly from A.\n",
    "\n",
    "<pre>\n",
    "Ex 1: A = [0 5 27 6 13 28 100 45 10 79]\n",
    "let f(x) denote the number of times x getting selected in 100 experiments.\n",
    "f(100) > f(79) > f(45) > f(28) > f(27) > f(13) > f(10) > f(6) > f(5) > f(0)\n",
    "</pre>"
   ]
  },
  {
   "cell_type": "code",
   "execution_count": 2,
   "metadata": {
    "colab": {
     "base_uri": "https://localhost:8080/"
    },
    "id": "B6S2dpBhB-kn",
    "outputId": "d8f72521-8209-421c-9033-559621021eab"
   },
   "outputs": [
    {
     "name": "stdout",
     "output_type": "stream",
     "text": [
      "27\n",
      "100\n",
      "100\n",
      "100\n",
      "45\n",
      "45\n",
      "100\n",
      "13\n",
      "28\n",
      "5\n",
      "28\n",
      "27\n",
      "100\n",
      "45\n",
      "100\n",
      "79\n",
      "100\n",
      "100\n",
      "45\n",
      "79\n",
      "28\n",
      "100\n",
      "79\n",
      "100\n",
      "100\n",
      "100\n",
      "100\n",
      "100\n",
      "100\n",
      "100\n",
      "79\n",
      "45\n",
      "28\n",
      "100\n",
      "100\n",
      "100\n",
      "79\n",
      "79\n",
      "100\n",
      "79\n",
      "45\n",
      "79\n",
      "45\n",
      "100\n",
      "79\n",
      "45\n",
      "45\n",
      "79\n",
      "100\n",
      "79\n",
      "100\n",
      "79\n",
      "28\n",
      "100\n",
      "6\n",
      "45\n",
      "27\n",
      "28\n",
      "45\n",
      "45\n",
      "79\n",
      "79\n",
      "28\n",
      "45\n",
      "79\n",
      "45\n",
      "79\n",
      "100\n",
      "100\n",
      "100\n",
      "79\n",
      "45\n",
      "13\n",
      "100\n",
      "79\n",
      "10\n",
      "100\n",
      "79\n",
      "45\n",
      "79\n",
      "100\n",
      "100\n",
      "28\n",
      "45\n",
      "100\n",
      "10\n",
      "28\n",
      "45\n",
      "79\n",
      "27\n",
      "100\n",
      "45\n",
      "100\n",
      "10\n",
      "45\n",
      "27\n",
      "79\n",
      "100\n",
      "100\n"
     ]
    }
   ],
   "source": [
    "import random\n",
    "\n",
    "\n",
    "def pick_a_number_from_list(A):\n",
    "    # your code here for picking an element from with the probability proportional to its magnitude\n",
    "    s = sum(A)\n",
    "    d_dash = list()\n",
    "    for i in A:\n",
    "        d_dash.append(i/s)\n",
    "\n",
    "    d_bar = list()  # for cumulative sum\n",
    "    d_bar.append(0)\n",
    "    for j in range(len(A)):\n",
    "        d_bar.append(d_bar[j] + d_dash[j])\n",
    "\n",
    "    r = random.uniform(0.0, 1.0)\n",
    "    number = 0\n",
    "\n",
    "    for k in range(1, len(d_bar)):\n",
    "        if r <= d_bar[k]:\n",
    "            number = A[k-1]\n",
    "            return number\n",
    "\n",
    "\n",
    "def sampling_based_on_magnitued():\n",
    "    for i in range(1, 100):\n",
    "        number = pick_a_number_from_list(A)\n",
    "        print(number)\n",
    "\n",
    "\n",
    "A = [0, 5, 27, 6, 13, 28, 100, 45, 10, 79]\n",
    "# A = [2.0, 6.0, 1.2, 5.8, 20.0]\n",
    "sampling_based_on_magnitued()\n"
   ]
  },
  {
   "cell_type": "markdown",
   "metadata": {
    "id": "D1xQy2WWB-kq"
   },
   "source": [
    "<h3> Q3: Replace the digits in the string with #</h3>\n",
    "\n",
    "consider a string that will have digits in that, we need to remove all the not digits and replace the digits with #\n",
    "<pre>\n",
    "Ex 1: A = 234                Output: ###\n",
    "Ex 2: A = a2b3c4             Output: ###\n",
    "Ex 3: A = abc                Output:   (empty string)\n",
    "Ex 5: A = #2a$#b%c%561#      Output: ####\n",
    "</pre>"
   ]
  },
  {
   "cell_type": "code",
   "execution_count": 3,
   "metadata": {
    "colab": {
     "base_uri": "https://localhost:8080/"
    },
    "id": "fxczi2jzB-kr",
    "outputId": "ea0de501-f513-4a58-adb0-f9f76e80ce28"
   },
   "outputs": [
    {
     "name": "stdout",
     "output_type": "stream",
     "text": [
      "###\n",
      "###\n",
      "\n",
      "####\n"
     ]
    }
   ],
   "source": [
    "import re\n",
    "# write your python code here\n",
    "# you can take the above example as sample input for your program to test\n",
    "# it should work for any general input try not to hard code for only given input examples\n",
    "\n",
    "# you can free to change all these codes/structure\n",
    "# String: it will be the input to your program\n",
    "\n",
    "\n",
    "def replace_digits(s):\n",
    "    x = re.sub(r'\\D', '', s)\n",
    "    x = re.sub(r'\\d', '#', x)\n",
    "    return x    # modified string which is after replacing the # with digits\n",
    "\n",
    "\n",
    "string1 = '234'\n",
    "string2 = 'a2b3c4'\n",
    "string3 = 'abc'\n",
    "string4 = '#2a$#b%c%561#'\n",
    "\n",
    "print(replace_digits(string1))\n",
    "print(replace_digits(string2))\n",
    "print(replace_digits(string3))\n",
    "print(replace_digits(string4))\n"
   ]
  },
  {
   "cell_type": "markdown",
   "metadata": {
    "id": "j7h0Ywg7B-kw"
   },
   "source": [
    "<h3> Q4: Students marks dashboard</h3>\n",
    "\n",
    "consider the marks list of class students given two lists <br>\n",
    "Students = ['student1','student2','student3','student4','student5','student6','student7','student8','student9','student10'] <br>\n",
    "Marks = [45, 78, 12, 14, 48, 43, 45, 98, 35, 80] <br>\n",
    "from the above two lists the Student[0] got Marks[0],  Student[1] got Marks[1] and so on <br><br>\n",
    "your task is to print the name of students\n",
    "<strong>a. Who got top 5 ranks, in the descending order of marks</strong> <br>\n",
    "<strong>b. Who got least 5 ranks, in the increasing order of marks</strong><br>\n",
    "<strong>d. Who got marks between  &gt;25th percentile &lt;75th percentile, in the increasing order of marks</strong>\n",
    "\n",
    "<pre>\n",
    "Ex 1: \n",
    "Students=['student1','student2','student3','student4','student5','student6','student7','student8','student9','student10'] \n",
    "Marks = [45, 78, 12, 14, 48, 43, 47, 98, 35, 80]\n",
    "a. \n",
    "student8  98\n",
    "student10 80\n",
    "student2  78\n",
    "student5  48\n",
    "student7  47\n",
    "b.\n",
    "student3 12\n",
    "student4 14\n",
    "student9 35\n",
    "student6 43\n",
    "student1 45\n",
    "c.\n",
    "student9 35\n",
    "student6 43\n",
    "student1 45\n",
    "student7 47\n",
    "student5 48\n",
    "</pre>"
   ]
  },
  {
   "cell_type": "code",
   "execution_count": 4,
   "metadata": {
    "colab": {
     "base_uri": "https://localhost:8080/"
    },
    "id": "cxPJgItsB-kx",
    "outputId": "234d4f89-874e-468d-b8a6-02268b7723e4"
   },
   "outputs": [
    {
     "name": "stdout",
     "output_type": "stream",
     "text": [
      "student8 98\n",
      "student10 80\n",
      "student2 78\n",
      "student5 48\n",
      "student7 47\n",
      "--------------------\n",
      "student3 12\n",
      "student4 14\n",
      "student9 35\n",
      "student6 43\n",
      "student1 45\n",
      "--------------------\n",
      "student9 35\n",
      "student6 43\n",
      "student1 45\n",
      "student7 47\n",
      "student5 48\n"
     ]
    }
   ],
   "source": [
    "import math\n",
    "\n",
    "\n",
    "def display_dash_board(students, marks):\n",
    "    students_marks_zipped_list = list(zip(students, marks))\n",
    "    students_marks_zipped_list = sorted(students_marks_zipped_list, key=lambda x: x[1])    # x[1]: Marks\n",
    "\n",
    "    # write code for computing top 5 students\n",
    "    top_5_students = students_marks_zipped_list[-5:]\n",
    "\n",
    "    # write code for computing least 5 students\n",
    "    least_5_students = students_marks_zipped_list[:5]\n",
    "\n",
    "    length = len(students_marks_zipped_list)\n",
    "    a = math.floor(0.25 * length)\n",
    "    b = math.floor(0.75 * length)\n",
    "    students_within_25_and_75 = students_marks_zipped_list[a:b]\n",
    "\n",
    "    return top_5_students, least_5_students, students_within_25_and_75\n",
    "\n",
    "\n",
    "if __name__ == '__main__':\n",
    "    students = ['student1', 'student2', 'student3', 'student4', 'student5', 'student6', 'student7', 'student8',\n",
    "                'student9', 'student10']\n",
    "    marks = [45, 78, 12, 14, 48, 43, 47, 98, 35, 80]\n",
    "\n",
    "    if len(students) > 5 and len(marks) > 5:\n",
    "        top_5_students, least_5_students, students_within_25_and_75 = display_dash_board(students, marks)\n",
    "\n",
    "    for i in range(4, -1, -1):\n",
    "        print(\"{} {}\".format(top_5_students[i][0], top_5_students[i][1]))\n",
    "\n",
    "    print(\"-\"*20)\n",
    "\n",
    "    for ele in least_5_students:\n",
    "        print(\"{} {}\".format(ele[0], ele[1]))\n",
    "\n",
    "    print(\"-\"*20)\n",
    "\n",
    "    for ele in students_within_25_and_75:\n",
    "        print(\"{} {}\".format(ele[0], ele[1]))\n"
   ]
  },
  {
   "cell_type": "markdown",
   "metadata": {
    "id": "qha0OhQHB-k1"
   },
   "source": [
    "<h3> Q5: Find the closest points</h3>\n",
    "\n",
    "consider you have given n data points in the form of list of tuples like S=[(x1,y1),(x2,y2),(x3,y3),(x4,y4),(x5,y5),..,(xn,yn)] and a point P=(p,q) <br> your task is to find 5 closest points(based on cosine distance) in S from P\n",
    "<br>cosine distance between two points (x,y) and (p,q) is defind as $cos^{-1}(\\frac{(x\\cdot p+y\\cdot q)}{\\sqrt(x^2+y^2)\\cdot\\sqrt(p^2+q^2)})$\n",
    "<pre>\n",
    "Ex:\n",
    "\n",
    "S= [(1,2),(3,4),(-1,1),(6,-7),(0, 6),(-5,-8),(-1,-1)(6,0),(1,-1)]\n",
    "P= (3,-4)\n",
    "<img src='https://i.imgur.com/vIFPOcG.jpg', width=300>\n",
    "Output:\n",
    "(6,-7)\n",
    "(1,-1)\n",
    "(6,0)\n",
    "(-5,-8)\n",
    "(-1,-1)\n",
    "</pre>"
   ]
  },
  {
   "cell_type": "code",
   "execution_count": 5,
   "metadata": {
    "colab": {
     "base_uri": "https://localhost:8080/"
    },
    "id": "wA5I1g-2B-k2",
    "outputId": "977899b4-9a1d-4bf9-e384-60eb644ed785"
   },
   "outputs": [
    {
     "name": "stdout",
     "output_type": "stream",
     "text": [
      "(6, -7)\n",
      "(1, -1)\n",
      "(6, 0)\n",
      "(-5, -8)\n",
      "(-1, -1)\n"
     ]
    }
   ],
   "source": [
    "import math\n",
    "\n",
    "# write your python code here\n",
    "# you can take the above example as sample input for your program to test\n",
    "# it should work for any general input try not to hard code for only given input examples\n",
    "# you can free to change all these codes/structure\n",
    "\n",
    "\n",
    "# here S is list of tuples and P is a tuple ot len=2\n",
    "def closest_points_to_p(S, P):\n",
    "    list_of_closest_points = list()  # write your code here\n",
    "    closest_points = list()\n",
    "\n",
    "    for point in S:\n",
    "        cos_x_y_numerator = point[0] * P[0] + point[1] * P[1]\n",
    "        cos_x_y_denominator = math.sqrt(point[0]**2 + point[1]**2) * math.sqrt(P[0]**2 + P[1]**2)\n",
    "\n",
    "        if cos_x_y_denominator != 0:\n",
    "            cosine_distance = math.acos(cos_x_y_numerator / cos_x_y_denominator)\n",
    "            list_of_closest_points.append((cosine_distance, point))\n",
    "\n",
    "    list_of_closest_points = sorted(list_of_closest_points, key=lambda x: x[0])\n",
    "    for i in range(5):\n",
    "        closest_points.append(list_of_closest_points[i][1])\n",
    "\n",
    "    return closest_points  # its list of tuples\n",
    "\n",
    "\n",
    "if __name__ == '__main__':\n",
    "    S = [(1, 2), (3, 4), (-1, 1), (6, -7), (0, 6), (-5, -8), (-1, -1), (6, 0), (1, -1)]\n",
    "    P = (3, -4)\n",
    "    points = closest_points_to_p(S, P)\n",
    "    for p in points:\n",
    "        print(p)   # print the returned values\n"
   ]
  },
  {
   "cell_type": "markdown",
   "metadata": {
    "id": "-g11jeAiB-k5"
   },
   "source": [
    "<h3> Q6: Find Which line separates oranges and apples</h3>\n",
    "consider you have given two set of data points in the form of list of tuples like \n",
    "<pre>\n",
    "Red =[(R11,R12),(R21,R22),(R31,R32),(R41,R42),(R51,R52),..,(Rn1,Rn2)]\n",
    "Blue=[(B11,B12),(B21,B22),(B31,B32),(B41,B42),(B51,B52),..,(Bm1,Bm2)]\n",
    "</pre>\n",
    "and set of line equations(in the string formate, i.e list of strings)\n",
    "<pre>\n",
    "Lines = [a1x+b1y+c1,a2x+b2y+c2,a3x+b3y+c3,a4x+b4y+c4,..,K lines]\n",
    "Note: you need to string parsing here and get the coefficients of x,y and intercept\n",
    "</pre>\n",
    "your task is to for each line that is given print \"YES\"/\"NO\", you will print yes, if all the red points are one side of the line and blue points are other side of the line, otherwise no\n",
    "<pre>\n",
    "Ex:\n",
    "Red= [(1,1),(2,1),(4,2),(2,4), (-1,4)]\n",
    "Blue= [(-2,-1),(-1,-2),(-3,-2),(-3,-1),(1,-3)]\n",
    "Lines=[\"1x+1y+0\",\"1x-1y+0\",\"1x+0y-3\",\"0x+1y-0.5\"]\n",
    "<img src='https://i.imgur.com/DoQf7mE.jpg' width=400>\n",
    "Output:\n",
    "YES\n",
    "NO\n",
    "NO\n",
    "YES\n",
    "</pre>"
   ]
  },
  {
   "cell_type": "code",
   "execution_count": 6,
   "metadata": {
    "colab": {
     "base_uri": "https://localhost:8080/"
    },
    "id": "eRxExaTRB-k6",
    "outputId": "9d9b55a9-e97c-4cc5-81a7-a21103fde0c2"
   },
   "outputs": [
    {
     "name": "stdout",
     "output_type": "stream",
     "text": [
      "YES\n",
      "NO\n",
      "NO\n",
      "YES\n"
     ]
    }
   ],
   "source": [
    "def i_am_the_one(red, blue, line):\n",
    "    eq = line.replace('x', '*{}'.format(red[0][0])).replace('y', '*{}'.format(red[0][1]))\n",
    "    sign = 1\n",
    "    if eval(eq) < 0:\n",
    "        sign = -1\n",
    "\n",
    "    for point in red:\n",
    "        eqn = line.replace('x', '*{}'.format(point[0])).replace('y', '*{}'.format(point[1]))\n",
    "        if sign == 1 and eval(eqn) < 0:\n",
    "            return 'NO'\n",
    "        if sign == -1 and eval(eqn) > 0:\n",
    "            return 'NO'\n",
    "\n",
    "    sign_for_blue_points = -sign\n",
    "\n",
    "    for point in blue:\n",
    "        eqn = line.replace('x', '*{}'.format(point[0])).replace('y', '*{}'.format(point[1]))\n",
    "        if sign_for_blue_points == 1 and eval(eqn) < 0:\n",
    "            return 'NO'\n",
    "        if sign_for_blue_points == -1 and eval(eqn) > 0:\n",
    "            return 'NO'\n",
    "\n",
    "    return 'YES'    # yes/no\n",
    "\n",
    "\n",
    "if __name__ == '__main__':\n",
    "    Red = [(1, 1), (2, 1), (4, 2), (2, 4), (-1, 4)]\n",
    "    Blue = [(-2, -1), (-1, -2), (-3, -2), (-3, -1), (1, -3)]\n",
    "    Lines = [\"1x+1y+0\", \"1x-1y+0\", \"1x+0y-3\", \"0x+1y-0.5\"]\n",
    "\n",
    "    for i in Lines:\n",
    "        yes_or_no = i_am_the_one(Red, Blue, i)\n",
    "        print(yes_or_no)  # the returned value\n"
   ]
  },
  {
   "cell_type": "markdown",
   "metadata": {
    "id": "9OBpURbNB-k9"
   },
   "source": [
    "<h3> Q7: Filling the missing values in the specified formate</h3>\n",
    "You will be given a string with digits and '\\_'(missing value) symbols you have to replace the '\\_' symbols as explained \n",
    "<pre>\n",
    "Ex 1: _, _, _, 24 ==> 24/4, 24/4, 24/4, 24/4 i.e we. have distributed the 24 equally to all 4 places <br>\n",
    "Ex 2: 40, _, _, _, 60 ==> (60+40)/5,(60+40)/5,(60+40)/5,(60+40)/5,(60+40)/5 ==> 20, 20, 20, 20, 20 i.e. the sum of (60+40) is distributed qually to all 5 places<br>\n",
    "Ex 3: 80, _, _, _, _  ==> 80/5,80/5,80/5,80/5,80/5 ==> 16, 16, 16, 16, 16 i.e. the 80 is distributed qually to all 5 missing values that are right to it<br>\n",
    "Ex 4: _, _, 30, _, _, _, 50, _, _  \n",
    "==> we will fill the missing values from left to right \n",
    "    a. first we will distribute the 30 to left two missing values (10, 10, 10, _, _, _, 50, _, _)\n",
    "    b. now distribute the sum (10+50) missing values in between (10, 10, 12, 12, 12, 12, 12, _, _) \n",
    "    c. now we will distribute 12 to right side missing values (10, 10, 12, 12, 12, 12, 4, 4, 4)\n",
    "</pre>\n",
    "for a given string with comma seprate values, which will have both missing values numbers like ex: \"_, _, x, _, _, _\"\n",
    "you need fill the missing values\n",
    "\n",
    "Q: your program reads a string like ex: \"_, _, x, _, _, _\" and returns the filled sequence\n",
    "\n",
    "Ex: \n",
    "<pre>\n",
    "Input1: \"_,_,_,24\"\n",
    "Output1: 6,6,6,6\n",
    "\n",
    "Input2: \"40,_,_,_,60\"\n",
    "Output2: 20,20,20,20,20\n",
    "\n",
    "Input3: \"80,_,_,_,_\"\n",
    "Output3: 16,16,16,16,16\n",
    "\n",
    "Input4: \"_,_,30,_,_,_,50,_,_\"\n",
    "Output4: 10,10,12,12,12,12,4,4,4\n",
    "</pre>\n",
    "\n"
   ]
  },
  {
   "cell_type": "code",
   "execution_count": 7,
   "metadata": {
    "colab": {
     "base_uri": "https://localhost:8080/"
    },
    "id": "nZmpzHs_B-k-",
    "outputId": "327856d9-1619-47fb-82e1-24ccdfaa8bcd"
   },
   "outputs": [
    {
     "name": "stdout",
     "output_type": "stream",
     "text": [
      "[6, 6, 6, 6]\n",
      "[20, 20, 20, 20, 20]\n",
      "[16, 16, 16, 16, 16]\n",
      "[10, 10, 12, 12, 12, 12, 4, 4, 4]\n"
     ]
    }
   ],
   "source": [
    "def curve_smoothing(string):\n",
    "    new_string = string.split(',')\n",
    "    length_of_string = len(new_string)\n",
    "    index_of_numbers_in_list = list()\n",
    "\n",
    "    for i in range(length_of_string):\n",
    "        if new_string[i] != '_':\n",
    "            index_of_numbers_in_list.append(i)\n",
    "\n",
    "    # if len(index_of_numbers_in_list) == 1 and string[0] != '_':\n",
    "    index_of_numbers_in_list.append(length_of_string - 1)\n",
    "\n",
    "    starting_point = 0\n",
    "\n",
    "    for n in index_of_numbers_in_list:\n",
    "        if new_string[n] != '_':\n",
    "            sum_pre_post = int(new_string[n])\n",
    "        else:\n",
    "            sum_pre_post = 0\n",
    "\n",
    "        if new_string[starting_point] != '_' and starting_point != n:\n",
    "            sum_pre_post += int(new_string[starting_point])\n",
    "        else:\n",
    "            sum_pre_post += 0\n",
    "\n",
    "        replace_with = sum_pre_post // (n - starting_point + 1)\n",
    "\n",
    "        for j in range(length_of_string):\n",
    "            if starting_point <= j <= n:\n",
    "                new_string[j] = replace_with\n",
    "\n",
    "        starting_point = n\n",
    "\n",
    "    return new_string\n",
    "\n",
    "\n",
    "S1 = \"_,_,_,24\"     # Output1: 6,6,6,6\n",
    "\n",
    "S2 = \"40,_,_,_,60\"  # Output2: 20,20,20,20,20\n",
    "\n",
    "S3 = \"80,_,_,_,_\"   # Output3: 16,16,16,16,16\n",
    "\n",
    "S4 = \"_,_,30,_,_,_,50,_,_\"  # Output4: 10,10,12,12,12,12,4,4,4\n",
    "smoothed_values = curve_smoothing(S1)\n",
    "print(smoothed_values)\n",
    "\n",
    "smoothed_values = curve_smoothing(S2)\n",
    "print(smoothed_values)\n",
    "\n",
    "smoothed_values = curve_smoothing(S3)\n",
    "print(smoothed_values)\n",
    "\n",
    "smoothed_values = curve_smoothing(S4)\n",
    "print(smoothed_values)\n"
   ]
  },
  {
   "cell_type": "markdown",
   "metadata": {
    "id": "RBz4pzlfB-lB"
   },
   "source": [
    "<h3> Q8: Filling the missing values in the specified formate</h3>\n",
    "You will be given a list of lists, each sublist will be of length 2 i.e. [[x,y],[p,q],[l,m]..[r,s]]\n",
    "consider its like a martrix of n rows and two columns\n",
    "1. the first column F will contain only 5 uniques values (F1, F2, F3, F4, F5)\n",
    "2. the second column S will contain only 3 uniques values (S1, S2, S3)\n",
    "<pre>\n",
    "your task is to find\n",
    "a. Probability of P(F=F1|S==S1), P(F=F1|S==S2), P(F=F1|S==S3)\n",
    "b. Probability of P(F=F2|S==S1), P(F=F2|S==S2), P(F=F2|S==S3)\n",
    "c. Probability of P(F=F3|S==S1), P(F=F3|S==S2), P(F=F3|S==S3)\n",
    "d. Probability of P(F=F4|S==S1), P(F=F4|S==S2), P(F=F4|S==S3)\n",
    "e. Probability of P(F=F5|S==S1), P(F=F5|S==S2), P(F=F5|S==S3)\n",
    "</pre>\n",
    "Ex:\n",
    "\n",
    "<pre>\n",
    "[[F1,S1],[F2,S2],[F3,S3],[F1,S2],[F2,S3],[F3,S2],[F2,S1],[F4,S1],[F4,S3],[F5,S1]]\n",
    "\n",
    "a. P(F=F1|S==S1)=1/4, P(F=F1|S==S2)=1/3, P(F=F1|S==S3)=0/3\n",
    "b. P(F=F2|S==S1)=1/4, P(F=F2|S==S2)=1/3, P(F=F2|S==S3)=1/3\n",
    "c. P(F=F3|S==S1)=0/4, P(F=F3|S==S2)=1/3, P(F=F3|S==S3)=1/3\n",
    "d. P(F=F4|S==S1)=1/4, P(F=F4|S==S2)=0/3, P(F=F4|S==S3)=1/3\n",
    "e. P(F=F5|S==S1)=1/4, P(F=F5|S==S2)=0/3, P(F=F5|S==S3)=0/3\n",
    "</pre>\n",
    "\n",
    "\n"
   ]
  },
  {
   "cell_type": "code",
   "execution_count": 8,
   "metadata": {
    "colab": {
     "base_uri": "https://localhost:8080/"
    },
    "id": "e-1giz1MB-lC",
    "outputId": "744cf39b-7c01-4be0-c365-273cbf936f7d"
   },
   "outputs": [
    {
     "name": "stdout",
     "output_type": "stream",
     "text": [
      "P(F=F1|S==S1)=1/4, P(F=F1|S==S2)=1/3, P(F=F1|S==S3)=0/3\n",
      "P(F=F2|S==S1)=1/4, P(F=F2|S==S2)=1/3, P(F=F2|S==S3)=1/3\n",
      "P(F=F3|S==S1)=0/4, P(F=F3|S==S2)=1/3, P(F=F3|S==S3)=1/3\n",
      "P(F=F4|S==S1)=1/4, P(F=F4|S==S2)=0/3, P(F=F4|S==S3)=1/3\n",
      "P(F=F5|S==S1)=1/4, P(F=F5|S==S2)=0/3, P(F=F5|S==S3)=0/3\n"
     ]
    }
   ],
   "source": [
    "def compute_conditional_probabilites(list_A):\n",
    "    s1 = s2 = s3 = 0\n",
    "    f11 = f12 = f13 = 0\n",
    "    f21 = f22 = f23 = 0\n",
    "    f31 = f32 = f33 = 0\n",
    "    f41 = f42 = f43 = 0\n",
    "    f51 = f52 = f53 = 0\n",
    "\n",
    "    for ele in list_A:\n",
    "        if 'S1' in ele:\n",
    "            s1 += 1\n",
    "        elif 'S2' in ele:\n",
    "            s2 += 1\n",
    "        elif 'S3' in ele:\n",
    "            s3 += 1\n",
    "\n",
    "    for ele in list_A:\n",
    "        if ele[0] == 'F1':\n",
    "            if ele[1] == 'S1':\n",
    "                f11 += 1\n",
    "            elif ele[1] == 'S2':\n",
    "                f12 += 1\n",
    "            elif ele[1] == 'S3':\n",
    "                f13 += 1\n",
    "\n",
    "    print(\"P(F=F1|S==S1)={}/{}, P(F=F1|S==S2)={}/{}, P(F=F1|S==S3)={}/{}\".format(f11, s1, f12, s2, f13, s3))\n",
    "\n",
    "    for ele in list_A:\n",
    "        if ele[0] == 'F2':\n",
    "            if ele[1] == 'S1':\n",
    "                f21 += 1\n",
    "            elif ele[1] == 'S2':\n",
    "                f22 += 1\n",
    "            elif ele[1] == 'S3':\n",
    "                f23 += 1\n",
    "\n",
    "    print(\"P(F=F2|S==S1)={}/{}, P(F=F2|S==S2)={}/{}, P(F=F2|S==S3)={}/{}\".format(f21, s1, f22, s2, f23, s3))\n",
    "\n",
    "    for ele in list_A:\n",
    "        if ele[0] == 'F3':\n",
    "            if ele[1] == 'S1':\n",
    "                f31 += 1\n",
    "            elif ele[1] == 'S2':\n",
    "                f32 += 1\n",
    "            elif ele[1] == 'S3':\n",
    "                f33 += 1\n",
    "\n",
    "    print(\"P(F=F3|S==S1)={}/{}, P(F=F3|S==S2)={}/{}, P(F=F3|S==S3)={}/{}\".format(f31, s1, f32, s2, f33, s3))\n",
    "\n",
    "    for ele in list_A:\n",
    "        if ele[0] == 'F4':\n",
    "            if ele[1] == 'S1':\n",
    "                f41 += 1\n",
    "            elif ele[1] == 'S2':\n",
    "                f42 += 1\n",
    "            elif ele[1] == 'S3':\n",
    "                f43 += 1\n",
    "\n",
    "    print(\"P(F=F4|S==S1)={}/{}, P(F=F4|S==S2)={}/{}, P(F=F4|S==S3)={}/{}\".format(f41, s1, f42, s2, f43, s3))\n",
    "\n",
    "    for ele in list_A:\n",
    "        if ele[0] == 'F5':\n",
    "            if ele[1] == 'S1':\n",
    "                f51 += 1\n",
    "            elif ele[1] == 'S2':\n",
    "                f52 += 1\n",
    "            elif ele[1] == 'S3':\n",
    "                f53 += 1\n",
    "\n",
    "    print(\"P(F=F5|S==S1)={}/{}, P(F=F5|S==S2)={}/{}, P(F=F5|S==S3)={}/{}\".format(f51, s1, f52, s2, f53, s3))\n",
    "\n",
    "\n",
    "if __name__ == '__main__':\n",
    "    A = [['F1', 'S1'], ['F2', 'S2'], ['F3', 'S3'], ['F1', 'S2'], ['F2', 'S3'], ['F3', 'S2'], ['F2', 'S1'], ['F4', 'S1'],\n",
    "         ['F4', 'S3'], ['F5', 'S1']]\n",
    "\n",
    "    compute_conditional_probabilites(A)\n"
   ]
  },
  {
   "cell_type": "markdown",
   "metadata": {
    "id": "n4HS87QmB-lF"
   },
   "source": [
    "<h3> Q9: Given two sentances S1, S2</h3>\n",
    "You will be given two sentances S1, S2 your task is to find \n",
    "<pre>\n",
    "a. Number of common words between S1, S2\n",
    "b. Words in S1 but not in S2\n",
    "c. Words in S2 but not in S1\n",
    "</pre>\n",
    "\n",
    "Ex: \n",
    "<pre>\n",
    "S1= \"the first column F will contain only 5 uniques values\"\n",
    "S2= \"the second column S will contain only 3 uniques values\"\n",
    "Output:\n",
    "a. 7\n",
    "b. ['first','F','5']\n",
    "c. ['second','S','3']\n",
    "</pre>"
   ]
  },
  {
   "cell_type": "code",
   "execution_count": 9,
   "metadata": {
    "colab": {
     "base_uri": "https://localhost:8080/"
    },
    "id": "Ez7hlHK0B-lG",
    "outputId": "0212f056-2d55-485e-b953-057e588d2bce"
   },
   "outputs": [
    {
     "name": "stdout",
     "output_type": "stream",
     "text": [
      "7\n",
      "['first', 'F', '5']\n",
      "['second', 'S', '3']\n"
     ]
    }
   ],
   "source": [
    "def string_features(S1, S2):\n",
    "    a = 0\n",
    "    b = []\n",
    "    c = []\n",
    "\n",
    "    txt1 = S1.split(' ')\n",
    "    txt2 = S2.split(' ')\n",
    "    for ele in txt1:\n",
    "        if ele in txt2:\n",
    "            a += 1\n",
    "\n",
    "    for ele in txt1:\n",
    "        if ele not in txt2:\n",
    "            b.append(ele)\n",
    "\n",
    "    for ele in txt2:\n",
    "        if ele not in txt1:\n",
    "            c.append(ele)\n",
    "\n",
    "    return a, b, c\n",
    "\n",
    "\n",
    "S1 = \"the first column F will contain only 5 uniques values\"\n",
    "S2 = \"the second column S will contain only 3 uniques values\"\n",
    "a, b, c = string_features(S1, S2)\n",
    "print(a, b, c, sep='\\n')\n"
   ]
  },
  {
   "cell_type": "markdown",
   "metadata": {
    "id": "XefXVEjCB-lI"
   },
   "source": [
    "<h3> Q10: Given two sentances S1, S2</h3>\n",
    "You will be given a list of lists, each sublist will be of length 2 i.e. [[x,y],[p,q],[l,m]..[r,s]]\n",
    "consider its like a martrix of n rows and two columns\n",
    "\n",
    "a. the first column Y will contain interger values <br>\n",
    "b. the second column $Y_{score}$ will be having float values <br>\n",
    "Your task is to find the value of $f(Y,Y_{score}) = -1*\\frac{1}{n}\\Sigma_{for each Y,Y_{score} pair}(Ylog10(Y_{score})+(1-Y)log10(1-Y_{score}))$ here n is the number of rows in the matrix\n",
    "<pre>\n",
    "Ex:\n",
    "[[1, 0.4], [0, 0.5], [0, 0.9], [0, 0.3], [0, 0.6], [1, 0.1], [1, 0.9], [1, 0.8]]\n",
    "output:\n",
    "0.4243099\n",
    "</pre>\n",
    "$\\frac{-1}{8}\\cdot((1\\cdot log_{10}(0.4)+0\\cdot log_{10}(0.6))+(0\\cdot log_{10}(0.5)+1\\cdot log_{10}(0.5)) + ... + (1\\cdot log_{10}(0.8)+0\\cdot log_{10}(0.2)) )$"
   ]
  },
  {
   "cell_type": "code",
   "execution_count": 10,
   "metadata": {
    "colab": {
     "base_uri": "https://localhost:8080/"
    },
    "id": "N9zkagyNB-lJ",
    "outputId": "a8ef2d65-0d0a-45e6-a43e-6b13fed549b6"
   },
   "outputs": [
    {
     "name": "stdout",
     "output_type": "stream",
     "text": [
      "0.4243099\n"
     ]
    }
   ],
   "source": [
    "from math import log\n",
    "# write your python code here\n",
    "# you can take the above example as sample input for your program to test\n",
    "# it should work for any general input try not to hard code for only given input strings\n",
    "\n",
    "\n",
    "# you can free to change all these codes/structure\n",
    "def compute_log_loss(A):\n",
    "    len_A = len(A)\n",
    "    ce = 0    # ce: Cross Entropy\n",
    "    for row in A:\n",
    "        ce += (row[0] * log(row[1], 10) + ((1 - row[0]) * log(1 - row[1], 10)))\n",
    "        loss = -1 * ce / len(A)\n",
    "    # value = -1 / ce * len_A\n",
    "    return loss\n",
    "\n",
    "\n",
    "A = [[1, 0.4], [0, 0.5], [0, 0.9], [0, 0.3], [0, 0.6], [1, 0.1], [1, 0.9], [1, 0.8]]\n",
    "loss = compute_log_loss(A)\n",
    "print(round(loss, 7))\n"
   ]
  },
  {
   "cell_type": "code",
   "execution_count": null,
   "metadata": {},
   "outputs": [],
   "source": []
  }
 ],
 "metadata": {
  "colab": {
   "collapsed_sections": [],
   "name": "1.Python Assignment.ipynb",
   "provenance": []
  },
  "kernelspec": {
   "display_name": "Python 3",
   "language": "python",
   "name": "python3"
  },
  "language_info": {
   "codemirror_mode": {
    "name": "ipython",
    "version": 3
   },
   "file_extension": ".py",
   "mimetype": "text/x-python",
   "name": "python",
   "nbconvert_exporter": "python",
   "pygments_lexer": "ipython3",
   "version": "3.8.8"
  }
 },
 "nbformat": 4,
 "nbformat_minor": 1
}
