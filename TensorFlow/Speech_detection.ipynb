{
 "cells": [
  {
   "cell_type": "markdown",
   "metadata": {
    "id": "ZwoTWIysaNmc"
   },
   "source": [
    "# <font color='red'> Spoken Digit Recognition</font>"
   ]
  },
  {
   "cell_type": "code",
   "execution_count": 1,
   "metadata": {
    "colab": {
     "base_uri": "https://localhost:8080/"
    },
    "id": "qkHfDt_L9GWB",
    "outputId": "b1fe7328-b6a5-45ec-ff08-715fe4a806f0"
   },
   "outputs": [
    {
     "name": "stdout",
     "output_type": "stream",
     "text": [
      "Mounted at /content/drive\n"
     ]
    }
   ],
   "source": [
    "from google.colab import drive\n",
    "drive.mount('/content/drive')"
   ]
  },
  {
   "cell_type": "markdown",
   "metadata": {
    "id": "rPO3mjDDaNmf"
   },
   "source": [
    "\n",
    "In this notebook, You will do Spoken Digit Recognition. \n",
    "\n",
    "Input - speech signal, output - digit number\n",
    "\n",
    "\n",
    "\n",
    "It contains  \n",
    "\n",
    "1. Reading the dataset. and Preprocess the data set. Detailed instrctions are given below. You have to write the code in the same cell which contains the instrction. \n",
    "2. Training the LSTM with RAW data\n",
    "3. Converting to spectrogram and Training the LSTM network\n",
    "4. Creating the augmented data and doing step 2 and 3 again.  \n",
    "\n",
    "<font size=5>Instructions:</font>\n",
    "\n",
    "    1. Don't change any Grader Functions. Don't manipulate any Grader functions. If you manipulate any, it will be considered as plagiarised. \n",
    "    \n",
    "    2. Please read the instructions on the code cells and markdown cells. We will explain what to write. \n",
    "    \n",
    "    3. Please return outputs in the same format what we asked. Eg. Don't return List of we are asking for a numpy array.\n",
    "    \n",
    "    4. Please read the external links that we are given so that you will learn the concept behind the code that you are writing.\n",
    "    \n",
    "    5. We are giving instructions at each section if necessary, please follow them. \n",
    "\n",
    "<font size=5>Every Grader function has to return True. </font>\n",
    "\n"
   ]
  },
  {
   "cell_type": "code",
   "execution_count": 2,
   "metadata": {
    "id": "_qGuPcj-aNmh"
   },
   "outputs": [],
   "source": [
    "import numpy as np\n",
    "import pandas as pd\n",
    "import librosa\n",
    "import os\n",
    "##if you need any imports you can do that here.\n",
    "import tensorflow as tf\n",
    "from tensorflow import keras\n",
    "from keras.callbacks import Callback\n",
    "from keras.layers import GlobalAveragePooling1D\n",
    "\n",
    "%matplotlib inline\n",
    "import matplotlib.pyplot as plt\n",
    "\n",
    "import warnings\n",
    "warnings.filterwarnings(\"ignore\")"
   ]
  },
  {
   "cell_type": "markdown",
   "metadata": {
    "id": "PdhFzGK1aNmo"
   },
   "source": [
    "We shared recordings.zip, please unzip those. "
   ]
  },
  {
   "cell_type": "code",
   "execution_count": null,
   "metadata": {
    "id": "3K2zq4Lm9Wie"
   },
   "outputs": [],
   "source": [
    "!unzip '/content/drive/MyDrive/Datasets/recordings.zip' -d '/content/'"
   ]
  },
  {
   "cell_type": "code",
   "execution_count": 5,
   "metadata": {
    "id": "HDBcl_PUaNmp"
   },
   "outputs": [],
   "source": [
    "#read the all file names in the recordings folder given by us\n",
    "#(if you get entire path, it is very useful in future)\n",
    "#save those files names as list in \"all_files\"\n",
    "# here dir_path is the route directory\n",
    "dir_path = '/content/recordings/'\n",
    "all_files = []\n",
    "label = []\n",
    "for i in os.listdir(dir_path):\n",
    "    path = dir_path + i\n",
    "    label.append(int(path[20:21]))\n",
    "    all_files.append(path)"
   ]
  },
  {
   "cell_type": "markdown",
   "metadata": {
    "id": "8NYYpfqoaNmv"
   },
   "source": [
    "<font size=4>Grader function 1 </font>"
   ]
  },
  {
   "cell_type": "code",
   "execution_count": 6,
   "metadata": {
    "colab": {
     "base_uri": "https://localhost:8080/"
    },
    "id": "2oJSOmYBaNmx",
    "outputId": "eb057660-b389-4195-ef18-35f2629700ea"
   },
   "outputs": [
    {
     "data": {
      "text/plain": [
       "True"
      ]
     },
     "execution_count": 6,
     "metadata": {},
     "output_type": "execute_result"
    }
   ],
   "source": [
    "def grader_files():\n",
    "    temp = len(all_files)==2000\n",
    "    temp1 = all([x[-3:]==\"wav\" for x in all_files])\n",
    "    temp = temp and temp1\n",
    "    return temp\n",
    "grader_files()"
   ]
  },
  {
   "cell_type": "markdown",
   "metadata": {
    "id": "MhvSIN6raNm3"
   },
   "source": [
    "Create a dataframe(name=df_audio) with two columns(path, label).   \n",
    "You can get the label from the first letter of name.  \n",
    "Eg: 0_jackson_0 --> 0  \n",
    "0_jackson_43 --> 0"
   ]
  },
  {
   "cell_type": "markdown",
   "metadata": {
    "id": "LZbhCvvRPPMw"
   },
   "source": [
    "## Exploring the sound dataset"
   ]
  },
  {
   "cell_type": "code",
   "execution_count": null,
   "metadata": {
    "id": "ilJsqdhhPMed"
   },
   "outputs": [],
   "source": [
    "#It is a good programming practise to explore the dataset that you are dealing with. This dataset is unique in itself because it has sounds as input\n",
    "#https://colab.research.google.com/github/Tyler-Hilbert/AudioProcessingInPythonWorkshop/blob/master/AudioProcessingInPython.ipynb\n",
    "#visualize the data and write code to play 2-3 sound samples in the notebook for better understanding.\n",
    "#please go through the following reference video https://www.youtube.com/watch?v=37zCgCdV468"
   ]
  },
  {
   "cell_type": "code",
   "execution_count": 7,
   "metadata": {
    "colab": {
     "base_uri": "https://localhost:8080/"
    },
    "id": "w2cXDKWoEaYC",
    "outputId": "3e97dbf0-e8ce-43aa-a7eb-2dea4a6a4d12"
   },
   "outputs": [
    {
     "name": "stdout",
     "output_type": "stream",
     "text": [
      "Cloning into 'ThinkDSP'...\n",
      "remote: Enumerating objects: 2469, done.\u001b[K\n",
      "remote: Counting objects: 100% (48/48), done.\u001b[K\n",
      "remote: Compressing objects: 100% (39/39), done.\u001b[K\n",
      "remote: Total 2469 (delta 23), reused 20 (delta 9), pack-reused 2421\u001b[K\n",
      "Receiving objects: 100% (2469/2469), 215.71 MiB | 26.81 MiB/s, done.\n",
      "Resolving deltas: 100% (1343/1343), done.\n"
     ]
    }
   ],
   "source": [
    "!git clone https://github.com/AllenDowney/ThinkDSP.git"
   ]
  },
  {
   "cell_type": "code",
   "execution_count": 8,
   "metadata": {
    "colab": {
     "base_uri": "https://localhost:8080/"
    },
    "id": "IY9XFtSFEpZx",
    "outputId": "925e1bbb-aad6-4c61-c974-468ed8ecc0ca"
   },
   "outputs": [
    {
     "name": "stdout",
     "output_type": "stream",
     "text": [
      "Cloning into 'AudioProcessingInPythonWorkshop'...\n",
      "remote: Enumerating objects: 40, done.\u001b[K\n",
      "remote: Total 40 (delta 0), reused 0 (delta 0), pack-reused 40\u001b[K\n",
      "Unpacking objects: 100% (40/40), done.\n"
     ]
    }
   ],
   "source": [
    "!git clone https://github.com/Tyler-Hilbert/AudioProcessingInPythonWorkshop.git"
   ]
  },
  {
   "cell_type": "code",
   "execution_count": 9,
   "metadata": {
    "colab": {
     "base_uri": "https://localhost:8080/",
     "height": 341
    },
    "id": "7Wx5tOjSPX2Y",
    "outputId": "2bc70d7c-c929-4136-ee19-a0d7313851fb"
   },
   "outputs": [
    {
     "data": {
      "image/png": "[encoded data removed]",
      "text/plain": [
       "<Figure size 432x288 with 1 Axes>"
      ]
     },
     "metadata": {
      "needs_background": "light"
     },
     "output_type": "display_data"
    },
    {
     "name": "stdout",
     "output_type": "stream",
     "text": [
      "Writing sound.wav\n"
     ]
    },
    {
     "data": {
      "text/html": [
       "\n",
       "                <audio controls=\"controls\" >\n",
       "                    <source src=\"data:audio/x-wav;base64,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\" type=\"audio/x-wav\" />\n",
       "                    Your browser does not support the audio element.\n",
       "                </audio>\n",
       "              "
      ],
      "text/plain": [
       "<IPython.lib.display.Audio object>"
      ]
     },
     "execution_count": 9,
     "metadata": {},
     "output_type": "execute_result"
    }
   ],
   "source": [
    "import sys\n",
    "sys.path.insert(0, 'ThinkDSP/code/') \n",
    "import thinkdsp\n",
    "import matplotlib.pyplot as pyplot\n",
    "import IPython\n",
    "\n",
    "# Read in audio file\n",
    "# FIXME - will this work for non wav files\n",
    "wave = thinkdsp.read_wave('/content/recordings/0_jackson_0.wav')\n",
    "\n",
    "# Plot spectrum of audio file\n",
    "spectrum = wave.make_spectrum()\n",
    "spectrum.plot()\n",
    "pyplot.show()\n",
    "\n",
    "# Play audio file\n",
    "wave.play()\n",
    "IPython.display.Audio('sound.wav')"
   ]
  },
  {
   "cell_type": "code",
   "execution_count": 10,
   "metadata": {
    "colab": {
     "base_uri": "https://localhost:8080/",
     "height": 341
    },
    "id": "3cs8z-y8FQDT",
    "outputId": "4f228c41-8ee0-459e-aeb5-7732640b0da7"
   },
   "outputs": [
    {
     "data": {
      "image/png": "[encoded data removed]",
      "text/plain": [
       "<Figure size 432x288 with 1 Axes>"
      ]
     },
     "metadata": {
      "needs_background": "light"
     },
     "output_type": "display_data"
    },
    {
     "name": "stdout",
     "output_type": "stream",
     "text": [
      "Writing sound.wav\n"
     ]
    },
    {
     "data": {
      "text/html": [
       "\n",
       "                <audio controls=\"controls\" >\n",
       "                    <source src=\"data:audio/x-wav;base64,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\" type=\"audio/x-wav\" />\n",
       "                    Your browser does not support the audio element.\n",
       "                </audio>\n",
       "              "
      ],
      "text/plain": [
       "<IPython.lib.display.Audio object>"
      ]
     },
     "execution_count": 10,
     "metadata": {},
     "output_type": "execute_result"
    }
   ],
   "source": [
    "# Read in audio file\n",
    "# FIXME - will this work for non wav files\n",
    "wave = thinkdsp.read_wave('/content/recordings/0_yweweler_0.wav')\n",
    "\n",
    "# Plot spectrum of audio file\n",
    "spectrum = wave.make_spectrum()\n",
    "spectrum.plot()\n",
    "pyplot.show()\n",
    "\n",
    "# Play audio file\n",
    "wave.play()\n",
    "IPython.display.Audio('sound.wav')"
   ]
  },
  {
   "cell_type": "markdown",
   "metadata": {
    "id": "AA0nAtjbQLmu"
   },
   "source": [
    "## Creating dataframe"
   ]
  },
  {
   "cell_type": "code",
   "execution_count": null,
   "metadata": {
    "id": "fWP6vXBeaNm3"
   },
   "outputs": [],
   "source": [
    "#Create a dataframe(name=df_audio) with two columns(path, label).   \n",
    "#You can get the label from the first letter of name.  \n",
    "#Eg: 0_jackson_0 --> 0  \n",
    "#0_jackson_43 --> 0"
   ]
  },
  {
   "cell_type": "code",
   "execution_count": 6,
   "metadata": {
    "id": "bX_umjikPy5Y"
   },
   "outputs": [],
   "source": [
    "df_audio = pd.DataFrame({'path' : all_files, 'label' : label})"
   ]
  },
  {
   "cell_type": "code",
   "execution_count": 7,
   "metadata": {
    "colab": {
     "base_uri": "https://localhost:8080/"
    },
    "id": "qeQMx5wmFwBe",
    "outputId": "771776f4-a204-4d66-a9d5-c533a1fe9ae4"
   },
   "outputs": [
    {
     "name": "stdout",
     "output_type": "stream",
     "text": [
      "<class 'pandas.core.frame.DataFrame'>\n",
      "RangeIndex: 2000 entries, 0 to 1999\n",
      "Data columns (total 2 columns):\n",
      " #   Column  Non-Null Count  Dtype \n",
      "---  ------  --------------  ----- \n",
      " 0   path    2000 non-null   object\n",
      " 1   label   2000 non-null   int64 \n",
      "dtypes: int64(1), object(1)\n",
      "memory usage: 31.4+ KB\n"
     ]
    }
   ],
   "source": [
    "#info\n",
    "df_audio.info()"
   ]
  },
  {
   "cell_type": "markdown",
   "metadata": {
    "id": "VOKpYJ_LaNnD"
   },
   "source": [
    "<font size=4>Grader function 2 </font>"
   ]
  },
  {
   "cell_type": "code",
   "execution_count": 13,
   "metadata": {
    "colab": {
     "base_uri": "https://localhost:8080/"
    },
    "id": "7Q8r_T8-aNnE",
    "outputId": "6785bc98-e81f-4df7-c0ac-37d26b7359fb"
   },
   "outputs": [
    {
     "data": {
      "text/plain": [
       "True"
      ]
     },
     "execution_count": 13,
     "metadata": {},
     "output_type": "execute_result"
    }
   ],
   "source": [
    "def grader_df():\n",
    "    flag_shape = df_audio.shape==(2000,2)\n",
    "    flag_columns = all(df_audio.columns==['path', 'label'])\n",
    "    list_values = list(df_audio.label.value_counts())\n",
    "    flag_label = len(list_values)==10\n",
    "    flag_label2 = all([i==200 for i in list_values])\n",
    "    final_flag = flag_shape and flag_columns and flag_label and flag_label2\n",
    "    return final_flag\n",
    "grader_df()"
   ]
  },
  {
   "cell_type": "code",
   "execution_count": 8,
   "metadata": {
    "id": "PlfssCc3aNnL"
   },
   "outputs": [],
   "source": [
    "from sklearn.utils import shuffle\n",
    "df_audio = shuffle(df_audio, random_state=33) #don't change the random state"
   ]
  },
  {
   "cell_type": "markdown",
   "metadata": {
    "id": "PZ448aENaNnR"
   },
   "source": [
    "<pre><font size=4>Train and Validation split</font></pre>"
   ]
  },
  {
   "cell_type": "code",
   "execution_count": 9,
   "metadata": {
    "id": "vSPy-Ln6aNnS"
   },
   "outputs": [],
   "source": [
    "#split the data into train and validation and save in X_train, X_test, y_train, y_test\n",
    "#use stratify sampling\n",
    "#use random state of 45\n",
    "#use test size of 30%\n",
    "from sklearn.model_selection import train_test_split\n",
    "X = df_audio['path']\n",
    "y = df_audio['label']\n",
    "X_train, X_test, y_train, y_test = train_test_split(X, y, test_size=0.3, random_state=45, stratify=y)"
   ]
  },
  {
   "cell_type": "markdown",
   "metadata": {
    "id": "YPK3sbzUaNnW"
   },
   "source": [
    "<font size=4>Grader function 3 </font>"
   ]
  },
  {
   "cell_type": "code",
   "execution_count": 16,
   "metadata": {
    "colab": {
     "base_uri": "https://localhost:8080/"
    },
    "id": "chZzntKUaNnX",
    "outputId": "58c6b30e-9455-4da5-a13e-82cc90007333"
   },
   "outputs": [
    {
     "data": {
      "text/plain": [
       "True"
      ]
     },
     "execution_count": 16,
     "metadata": {},
     "output_type": "execute_result"
    }
   ],
   "source": [
    "def grader_split():\n",
    "    flag_len = (len(X_train)==1400) and (len(X_test)==600) and (len(y_train)==1400) and (len(y_test)==600)\n",
    "    values_ytrain = list(y_train.value_counts())\n",
    "    flag_ytrain = (len(values_ytrain)==10) and (all([i==140 for i in values_ytrain]))\n",
    "    values_ytest = list(y_test.value_counts())\n",
    "    flag_ytest = (len(values_ytest)==10) and (all([i==60 for i in values_ytest]))\n",
    "    final_flag = flag_len and flag_ytrain and flag_ytest\n",
    "    return final_flag\n",
    "grader_split()"
   ]
  },
  {
   "cell_type": "markdown",
   "metadata": {
    "id": "LGhh-39vaNnb"
   },
   "source": [
    "<pre><font size=4>Preprocessing</font>\n",
    "\n",
    "All files are in the \"WAV\" format. We will read those raw data files using the librosa</pre>"
   ]
  },
  {
   "cell_type": "code",
   "execution_count": 10,
   "metadata": {
    "id": "i99JacQSaNnc"
   },
   "outputs": [],
   "source": [
    "sample_rate = 22050\n",
    "def load_wav(x, get_duration=True):\n",
    "    '''This return the array values of audio with sampling rate of 22050 and Duration'''\n",
    "    # loading the wav file with sampling rate of 22050\n",
    "    samples, sample_rate = librosa.load(x, sr=22050)\n",
    "    if get_duration:\n",
    "        duration = librosa.get_duration(samples, sample_rate)\n",
    "        return [samples, duration]\n",
    "    else:\n",
    "        return samples"
   ]
  },
  {
   "cell_type": "code",
   "execution_count": 18,
   "metadata": {
    "id": "Rx97f8GGaNnh"
   },
   "outputs": [],
   "source": [
    "#use load_wav function that was written above to get every wave. \n",
    "#save it in X_train_processed and X_test_processed\n",
    "# X_train_processed/X_test_processed should be dataframes with two columns(raw_data, duration) with same index of X_train/y_train\n",
    "raw_data = []\n",
    "duration = []\n",
    "\n",
    "for path in X_train:\n",
    "    raw, dur = load_wav(path)\n",
    "    raw_data.append(raw)\n",
    "    duration.append(dur)\n",
    "\n",
    "X_train_processed = pd.DataFrame({'raw_data' : raw_data, 'duration' : duration}, index=X_train.index)"
   ]
  },
  {
   "cell_type": "code",
   "execution_count": 19,
   "metadata": {
    "id": "zDOQ0-rP_hay"
   },
   "outputs": [],
   "source": [
    "raw_data = []\n",
    "duration = []\n",
    "\n",
    "for path in X_test:\n",
    "    raw, dur = load_wav(path)\n",
    "    raw_data.append(raw)\n",
    "    duration.append(dur)\n",
    "\n",
    "X_test_processed = pd.DataFrame({'raw_data' : raw_data, 'duration' : duration}, index=X_test.index)"
   ]
  },
  {
   "cell_type": "code",
   "execution_count": 20,
   "metadata": {
    "colab": {
     "base_uri": "https://localhost:8080/",
     "height": 265
    },
    "id": "fwJp7zfYAXYF",
    "outputId": "6627f5ca-f094-49a4-dab3-f7700618ac56"
   },
   "outputs": [
    {
     "data": {
      "image/png": "[encoded data removed]",
      "text/plain": [
       "<Figure size 432x288 with 1 Axes>"
      ]
     },
     "metadata": {
      "needs_background": "light"
     },
     "output_type": "display_data"
    }
   ],
   "source": [
    "#plot the histogram of the duration for trian\n",
    "plt.hist(X_train_processed['duration'])\n",
    "plt.xticks(np.arange(0, 2.50, 0.25))\n",
    "plt.yticks(np.arange(0, 700, 100))\n",
    "plt.show()"
   ]
  },
  {
   "cell_type": "code",
   "execution_count": 21,
   "metadata": {
    "colab": {
     "base_uri": "https://localhost:8080/",
     "height": 265
    },
    "id": "M2mqdJwfD_rb",
    "outputId": "a5b606e6-a52f-4531-b093-4e81d92fd37d"
   },
   "outputs": [
    {
     "data": {
      "image/png": "[encoded data removed]",
      "text/plain": [
       "<Figure size 432x288 with 1 Axes>"
      ]
     },
     "metadata": {
      "needs_background": "light"
     },
     "output_type": "display_data"
    }
   ],
   "source": [
    "# plot the histogram of the duration for test\n",
    "plt.hist(X_test_processed['duration'])\n",
    "plt.xticks(np.arange(0, 2.50, 0.5))\n",
    "plt.yticks(np.arange(0, 400, 100))\n",
    "plt.show()"
   ]
  },
  {
   "cell_type": "code",
   "execution_count": 22,
   "metadata": {
    "colab": {
     "base_uri": "https://localhost:8080/"
    },
    "id": "ijFWTDGXElK3",
    "outputId": "4df1bcdc-0cbb-4dcc-c9fa-90502e79772e"
   },
   "outputs": [
    {
     "name": "stdout",
     "output_type": "stream",
     "text": [
      "0th percentile is: 0.16104308390022676\n",
      "10th percentile is: 0.2608934240362812\n",
      "20th percentile is: 0.2980680272108844\n",
      "30th percentile is: 0.3309115646258503\n",
      "40th percentile is: 0.3582222222222222\n",
      "50th percentile is: 0.38834467120181404\n",
      "60th percentile is: 0.41551020408163264\n",
      "70th percentile is: 0.44616780045351473\n",
      "80th percentile is: 0.48431746031746037\n",
      "90th percentile is: 0.5557097505668934\n",
      "100th percentile is: 2.195918367346939\n"
     ]
    }
   ],
   "source": [
    "for i in range(0, 101, 10):\n",
    "    print('{}th percentile is: {}'.format(i, np.percentile(X_train_processed['duration'], i)))"
   ]
  },
  {
   "cell_type": "code",
   "execution_count": 23,
   "metadata": {
    "colab": {
     "base_uri": "https://localhost:8080/"
    },
    "id": "r64khQcmHGxM",
    "outputId": "692fb4dc-aafe-4332-b442-4e7bef75fba5"
   },
   "outputs": [
    {
     "name": "stdout",
     "output_type": "stream",
     "text": [
      "90th percentile is: 0.5557097505668934\n",
      "91th percentile is: 0.5698648526077099\n",
      "92th percentile is: 0.5815492063492064\n",
      "93th percentile is: 0.5975705215419505\n",
      "94th percentile is: 0.6143537414965986\n",
      "95th percentile is: 0.6269614512471655\n",
      "96th percentile is: 0.6420807256235828\n",
      "97th percentile is: 0.6586693877551021\n",
      "98th percentile is: 0.6883972789115647\n",
      "99th percentile is: 0.7907138321995464\n",
      "100th percentile is: 2.195918367346939\n"
     ]
    }
   ],
   "source": [
    "# print 90 to 100 percentile values with step size of 1. \n",
    "for i in range(90, 101):\n",
    "    print('{}th percentile is: {}'.format(i, np.percentile(X_train_processed['duration'], i)))"
   ]
  },
  {
   "cell_type": "markdown",
   "metadata": {
    "id": "JbMb4Y0RaNoA"
   },
   "source": [
    "<font size=4>Grader function 4 </font>"
   ]
  },
  {
   "cell_type": "code",
   "execution_count": 24,
   "metadata": {
    "colab": {
     "base_uri": "https://localhost:8080/"
    },
    "id": "UMoyLLSAaNoF",
    "outputId": "50afdcb0-da23-413f-d535-ad710bdff312"
   },
   "outputs": [
    {
     "data": {
      "text/plain": [
       "True"
      ]
     },
     "execution_count": 24,
     "metadata": {},
     "output_type": "execute_result"
    }
   ],
   "source": [
    "def grader_processed():\n",
    "    flag_columns = (all(X_train_processed.columns==['raw_data', 'duration'])) and (all(X_test_processed.columns==['raw_data', 'duration']))\n",
    "    flag_shape = (X_train_processed.shape==(1400, 2)) and (X_test_processed.shape==(600,2))\n",
    "    return flag_columns and flag_shape\n",
    "grader_processed()"
   ]
  },
  {
   "cell_type": "markdown",
   "metadata": {
    "id": "Cux3_jfcaNoM"
   },
   "source": [
    "<b>Based on our analysis 99 percentile values are less than 0.8sec so we will limit maximum length of X_train_processed and X_test_processed to 0.8 sec. It is similar to pad_sequence for a text dataset.</b>\n",
    "\n",
    "<b>While loading the audio files, we are using sampling rate of 22050 so one sec will give array of length 22050. so, our maximum length is 0.8*22050 = 17640\n",
    "</b>\n",
    "<b>Pad with Zero if length of sequence is less than 17640 else Truncate the number. </b>\n",
    "\n",
    "<b> Also create a masking vector for train and test. </b>\n",
    "\n",
    "<b> masking vector value = 1 if it is real value, 0 if it is pad value. Masking vector data type must be bool.</b>\n"
   ]
  },
  {
   "cell_type": "code",
   "execution_count": 16,
   "metadata": {
    "id": "voqSEyvcaNoO"
   },
   "outputs": [],
   "source": [
    "max_length  = 17640"
   ]
  },
  {
   "cell_type": "code",
   "execution_count": 26,
   "metadata": {
    "id": "B1-_r20BaNoW"
   },
   "outputs": [],
   "source": [
    "## as discussed above, Pad with Zero if length of sequence is less than 17640 else Truncate the number. \n",
    "## save in the X_train_pad_seq, X_test_pad_seq\n",
    "## also Create masking vector X_train_mask, X_test_mask\n",
    "\n",
    "## all the X_train_pad_seq, X_test_pad_seq, X_train_mask, X_test_mask will be numpy arrays, mask vector dtype must be bool.\n",
    "X_train_pad_seq = tf.keras.preprocessing.sequence.pad_sequences(\n",
    "    X_train_processed['raw_data'],\n",
    "    maxlen=max_length,\n",
    "    dtype='float32',\n",
    "    padding='post',\n",
    "    truncating='post'\n",
    "    )"
   ]
  },
  {
   "cell_type": "code",
   "execution_count": 27,
   "metadata": {
    "id": "TtYyB97Dujou"
   },
   "outputs": [],
   "source": [
    "X_test_pad_seq = tf.keras.preprocessing.sequence.pad_sequences(\n",
    "    X_test_processed['raw_data'],\n",
    "    maxlen=max_length,\n",
    "    dtype='float32',\n",
    "    padding='post',\n",
    "    truncating='post'\n",
    "    )"
   ]
  },
  {
   "cell_type": "code",
   "execution_count": 28,
   "metadata": {
    "id": "2I_eY2rilAvV"
   },
   "outputs": [],
   "source": [
    "X_train_mask = []\n",
    "for ele in X_train_pad_seq:\n",
    "    b = []\n",
    "    for i in ele:\n",
    "        if i != 0:\n",
    "            b.append(bool(1))\n",
    "        else:\n",
    "            b.append(bool(0))\n",
    "    X_train_mask.append((b))\n",
    "\n",
    "# masks = np.array( [1]*token_length + [0]*(max_length-token_length))"
   ]
  },
  {
   "cell_type": "code",
   "execution_count": 29,
   "metadata": {
    "id": "fNricpK0CPFL"
   },
   "outputs": [],
   "source": [
    "X_test_mask = []\n",
    "\n",
    "for ele in X_test_pad_seq:\n",
    "    b = []\n",
    "    for i in ele:\n",
    "        if i != 0:\n",
    "            b.append(bool(1))\n",
    "        else:\n",
    "            b.append(bool(0))\n",
    "    X_test_mask.append((b))"
   ]
  },
  {
   "cell_type": "code",
   "execution_count": 30,
   "metadata": {
    "id": "FiyLfUW-CdGl"
   },
   "outputs": [],
   "source": [
    "X_train_mask = np.array(X_train_mask)\n",
    "X_test_mask = np.array(X_test_mask)"
   ]
  },
  {
   "cell_type": "markdown",
   "metadata": {
    "id": "zEHMgm4DaNoe"
   },
   "source": [
    "<font size=4>Grader function 5 </font>"
   ]
  },
  {
   "cell_type": "code",
   "execution_count": 31,
   "metadata": {
    "colab": {
     "base_uri": "https://localhost:8080/"
    },
    "id": "Th3KhplGaNof",
    "outputId": "35b98da3-a103-47ed-a925-9135225622f1"
   },
   "outputs": [
    {
     "data": {
      "text/plain": [
       "True"
      ]
     },
     "execution_count": 31,
     "metadata": {},
     "output_type": "execute_result"
    }
   ],
   "source": [
    "def grader_padoutput():\n",
    "    flag_padshape = (X_train_pad_seq.shape==(1400, 17640)) and (X_test_pad_seq.shape==(600, 17640)) and (y_train.shape==(1400,))\n",
    "    flag_maskshape = (X_train_mask.shape==(1400, 17640)) and (X_test_mask.shape==(600, 17640)) and (y_test.shape==(600,))\n",
    "    flag_dtype = (X_train_mask.dtype==bool) and (X_test_mask.dtype==bool)\n",
    "    return flag_padshape and flag_maskshape and flag_dtype\n",
    "grader_padoutput()"
   ]
  },
  {
   "cell_type": "markdown",
   "metadata": {
    "id": "K0kaYQ1jaNop"
   },
   "source": [
    "### 1. Giving Raw data directly. "
   ]
  },
  {
   "cell_type": "markdown",
   "metadata": {
    "id": "xGHxh3jTaNoq"
   },
   "source": [
    "\n",
    "Now we have\n",
    "\n",
    "Train data: X_train_pad_seq, X_train_mask and y_train  \n",
    "Test data: X_test_pad_seq, X_test_mask and y_test   \n",
    "\n",
    "We will create a LSTM model which takes this input. \n",
    "\n",
    "Task:\n",
    "\n",
    "1. Create an LSTM network which takes \"X_train_pad_seq\" as input, \"X_train_mask\" as mask input. You can use any number of LSTM cells. Please read LSTM documentation(https://www.tensorflow.org/api_docs/python/tf/keras/layers/LSTM) in tensorflow to know more about mask and also https://www.tensorflow.org/guide/keras/masking_and_padding \n",
    "2. Get the final output of the LSTM and give it to Dense layer of any size and then give it to Dense layer of size 10(because we have 10 outputs) and then compile with the sparse categorical cross entropy( because we are not converting it to one hot vectors). Also check the datatype of class labels(y_values) and make sure that you convert your class labels  to integer datatype before fitting in the model.\n",
    "3. While defining your model make sure that you pass both the input layer and mask input layer as input to lstm layer as follows\n",
    "<img src='https://i.imgur.com/FvcgvbY.jpg'>\n",
    "4. Use tensorboard to plot the graphs of loss and metric(use custom micro F1 score as metric) and histograms of gradients. You can write your code for computing F1 score using this <a  href='https://i.imgur.com/8YULUcu.jpg'>link</a> \n",
    "\n",
    "5. make sure that it won't overfit. \n",
    "6. You are free to include any regularization\n"
   ]
  },
  {
   "cell_type": "code",
   "execution_count": 11,
   "metadata": {
    "id": "X8yg951AaNor"
   },
   "outputs": [],
   "source": [
    "import tensorflow as tf\n",
    "from tensorflow import keras\n",
    "from keras import layers\n",
    "from keras.layers import Input, LSTM, Dense\n",
    "from keras.models import Model\n",
    "import datetime"
   ]
  },
  {
   "cell_type": "code",
   "execution_count": null,
   "metadata": {
    "id": "d8y1sgeVaNoy"
   },
   "outputs": [],
   "source": [
    "## as discussed above, please write the architecture of the model.\n",
    "## you will have two input layers in your model (data input layer and mask input layer)\n",
    "## make sure that you have defined the data type of masking layer as bool"
   ]
  },
  {
   "cell_type": "code",
   "execution_count": 12,
   "metadata": {
    "id": "kkWGYahS9mgw"
   },
   "outputs": [],
   "source": [
    "# Load the TensorBoard notebook extension\n",
    "%load_ext tensorboard"
   ]
  },
  {
   "cell_type": "code",
   "execution_count": 13,
   "metadata": {
    "id": "nyoGnY4A94qg"
   },
   "outputs": [],
   "source": [
    "log_dir = \"logs/fit/\" + datetime.datetime.now().strftime(\"%Y%m%d-%H%M%S\")\n",
    "tensorboard_callback = tf.keras.callbacks.TensorBoard(log_dir=log_dir, histogram_freq=1)"
   ]
  },
  {
   "cell_type": "code",
   "execution_count": 26,
   "metadata": {
    "id": "3S_nAnPcFmr0"
   },
   "outputs": [],
   "source": [
    "from sklearn.metrics import f1_score\n",
    "\n",
    "class Metrics(tf.keras.callbacks.Callback):\n",
    "    def __init__(self, validation_data):\n",
    "        super().__init__()\n",
    "        self.x_test = validation_data[0]\n",
    "        self.y_test = validation_data[1]\n",
    "    \n",
    "    def on_epoch_end(self, epoch, logs={}):\n",
    "        val_predict =  (np.asarray(self.model.predict(self.x_test)))\n",
    "        val_label = np.argmax(val_predict, axis=1)\n",
    "        val_targ = self.y_test\n",
    "        val_f1 = f1_score(val_targ, val_label, average='micro')\n",
    "        \n",
    "        print(' - Val_F1_score: ', round(val_f1, 4))"
   ]
  },
  {
   "cell_type": "code",
   "execution_count": 36,
   "metadata": {
    "id": "bPK0r1L-Ec8m"
   },
   "outputs": [],
   "source": [
    "f1_call = Metrics(validation_data=([X_test_pad_seq, X_test_mask], y_test))"
   ]
  },
  {
   "cell_type": "code",
   "execution_count": 39,
   "metadata": {
    "id": "chaRWxzZoTzB"
   },
   "outputs": [],
   "source": [
    "class myCallback(tf.keras.callbacks.Callback):\n",
    "      def on_epoch_end(self, epoch, logs={}):\n",
    "        if(logs.get('val_accuracy') >= 0.1):\n",
    "          print(\"\\n Val_accuracy Reached 10% so cancelling training!\")\n",
    "          self.model.stop_training = True"
   ]
  },
  {
   "cell_type": "code",
   "execution_count": 40,
   "metadata": {
    "id": "ijSy_pcdoWWh"
   },
   "outputs": [],
   "source": [
    "stop_here = myCallback()"
   ]
  },
  {
   "cell_type": "code",
   "execution_count": 39,
   "metadata": {
    "colab": {
     "base_uri": "https://localhost:8080/"
    },
    "id": "C1tPf50FMWsj",
    "outputId": "e60071fd-b26e-4f96-994f-e42a6eb8cea3"
   },
   "outputs": [
    {
     "data": {
      "text/plain": [
       "(17640,)"
      ]
     },
     "execution_count": 39,
     "metadata": {},
     "output_type": "execute_result"
    }
   ],
   "source": [
    "X_train_pad_seq[1].shape"
   ]
  },
  {
   "cell_type": "code",
   "execution_count": 44,
   "metadata": {
    "id": "Fl4fG4oaEd5A"
   },
   "outputs": [],
   "source": [
    "input_layer = tf.keras.layers.Input(shape=(X_train_pad_seq.shape[1],1), dtype=float )\n",
    "input_mask = tf.keras.layers.Input(shape=(X_train_mask.shape[1]), dtype=bool)\n",
    "\n",
    "lstm = tf.keras.layers.LSTM(64)\n",
    "#lstm_output = lstm(input_layer)\n",
    "\n",
    "lstm_layer = lstm(inputs=input_layer, mask=input_mask)\n",
    "dense_1 = tf.keras.layers.Dense(64, activation='relu', kernel_initializer=tf.keras.initializers.he_uniform(seed=46))(lstm_layer)\n",
    "dense_2 = tf.keras.layers.Dense(10, activation='softmax', kernel_initializer=keras.initializers.GlorotUniform(seed=46))(dense_1)"
   ]
  },
  {
   "cell_type": "code",
   "execution_count": 45,
   "metadata": {
    "colab": {
     "base_uri": "https://localhost:8080/"
    },
    "id": "LKUx1cfvHj8W",
    "outputId": "aa91b014-a7d3-4903-8763-733a40975ac1"
   },
   "outputs": [
    {
     "name": "stdout",
     "output_type": "stream",
     "text": [
      "Model: \"model_1\"\n",
      "__________________________________________________________________________________________________\n",
      " Layer (type)                   Output Shape         Param #     Connected to                     \n",
      "==================================================================================================\n",
      " input_3 (InputLayer)           [(None, 17640, 1)]   0           []                               \n",
      "                                                                                                  \n",
      " input_4 (InputLayer)           [(None, 17640)]      0           []                               \n",
      "                                                                                                  \n",
      " lstm_1 (LSTM)                  (None, 64)           16896       ['input_3[0][0]',                \n",
      "                                                                  'input_4[0][0]']                \n",
      "                                                                                                  \n",
      " dense_2 (Dense)                (None, 64)           4160        ['lstm_1[0][0]']                 \n",
      "                                                                                                  \n",
      " dense_3 (Dense)                (None, 10)           650         ['dense_2[0][0]']                \n",
      "                                                                                                  \n",
      "==================================================================================================\n",
      "Total params: 21,706\n",
      "Trainable params: 21,706\n",
      "Non-trainable params: 0\n",
      "__________________________________________________________________________________________________\n"
     ]
    }
   ],
   "source": [
    "model_one = Model(inputs=[input_layer, input_mask], outputs=dense_2)\n",
    "model_one.compile(optimizer='adam',\n",
    "              loss=tf.keras.losses.sparse_categorical_crossentropy,\n",
    "              metrics=['accuracy'])\n",
    "model_one.summary()"
   ]
  },
  {
   "cell_type": "code",
   "execution_count": 46,
   "metadata": {
    "colab": {
     "base_uri": "https://localhost:8080/"
    },
    "id": "MzpPjxvHaNpJ",
    "outputId": "260213de-a30b-47a6-8cc2-4156ba46f94a"
   },
   "outputs": [
    {
     "name": "stdout",
     "output_type": "stream",
     "text": [
      "Epoch 1/3\n",
      "140/140 [==============================] - ETA: 0s - loss: 2.3039 - accuracy: 0.0921 - Val_F1_score:  0.1\n",
      "\n",
      " Val_accuracy Reached 10% so cancelling training!\n",
      "140/140 [==============================] - 224s 2s/step - loss: 2.3039 - accuracy: 0.0921 - val_loss: 2.3026 - val_accuracy: 0.1000\n"
     ]
    },
    {
     "data": {
      "text/plain": [
       "<keras.callbacks.History at 0x7f03eb849990>"
      ]
     },
     "execution_count": 46,
     "metadata": {},
     "output_type": "execute_result"
    }
   ],
   "source": [
    "#train your model\n",
    "model_one.fit([X_train_pad_seq, X_train_mask], y_train,\n",
    "          validation_data=([X_test_pad_seq, X_test_mask], y_test),\n",
    "          epochs=3,\n",
    "          verbose=1,\n",
    "          batch_size=10,\n",
    "          callbacks=[f1_call, stop_here, tensorboard_callback])"
   ]
  },
  {
   "cell_type": "code",
   "execution_count": 2,
   "metadata": {},
   "outputs": [],
   "source": [
    "accuracy_m1, val_accuracy_m1 = 0.0921 , 0.1000"
   ]
  },
  {
   "cell_type": "code",
   "execution_count": null,
   "metadata": {
    "id": "XdZora81znsv"
   },
   "outputs": [],
   "source": [
    "# %tensorboard --logdir logs/fit"
   ]
  },
  {
   "cell_type": "markdown",
   "metadata": {
    "id": "2Fwk0X4zaNpR"
   },
   "source": [
    "### 2. Converting into spectrogram and giving spectrogram data as input  \n",
    "\n",
    "We can use librosa to convert raw data into spectrogram. A spectrogram shows the features in a two-dimensional representation with the\n",
    "intensity of a frequency at a point in time i.e we are converting Time domain to frequency domain. you can read more about this in https://pnsn.org/spectrograms/what-is-a-spectrogram\n"
   ]
  },
  {
   "cell_type": "code",
   "execution_count": 15,
   "metadata": {
    "id": "nb5AGzTjaNpS"
   },
   "outputs": [],
   "source": [
    "def convert_to_spectrogram(raw_data):\n",
    "    '''converting to spectrogram'''\n",
    "    spectrum = librosa.feature.melspectrogram(y=raw_data, sr=sample_rate, n_mels=64)\n",
    "    logmel_spectrum = librosa.power_to_db(S=spectrum, ref=np.max)\n",
    "    return logmel_spectrum"
   ]
  },
  {
   "cell_type": "code",
   "execution_count": 48,
   "metadata": {
    "id": "B__rN4RjaNpc"
   },
   "outputs": [],
   "source": [
    "## use convert_to_spectrogram and convert every raw sequence in X_train_pad_seq and X_test_pad_seq.\n",
    "## save those all in the X_train_spectrogram and X_test_spectrogram ( These two arrays must be numpy arrays)\n",
    "X_train_spectrogram = []\n",
    "for _ in range(len(X_train_pad_seq)):\n",
    "    X_train_spectrogram.append(convert_to_spectrogram(X_train_pad_seq[_]))\n",
    "\n",
    "X_test_spectrogram = []\n",
    "for _ in range(len(X_test_pad_seq)):\n",
    "    X_test_spectrogram.append(convert_to_spectrogram(X_test_pad_seq[_]))"
   ]
  },
  {
   "cell_type": "code",
   "execution_count": 49,
   "metadata": {
    "id": "qGJI8bAnbgpN"
   },
   "outputs": [],
   "source": [
    "X_train_spectrogram = np.array(X_train_spectrogram)\n",
    "X_test_spectrogram = np.array(X_test_spectrogram)"
   ]
  },
  {
   "cell_type": "code",
   "execution_count": 50,
   "metadata": {
    "colab": {
     "base_uri": "https://localhost:8080/",
     "height": 268
    },
    "id": "jJCm1ZeMaWmq",
    "outputId": "af24a92c-8e5f-4a5a-9358-e8f14cd7e600"
   },
   "outputs": [
    {
     "data": {
      "image/png": "[encoded data removed]",
      "text/plain": [
       "<Figure size 432x288 with 1 Axes>"
      ]
     },
     "metadata": {
      "needs_background": "light"
     },
     "output_type": "display_data"
    }
   ],
   "source": [
    "plt.imshow(X_test_spectrogram[0], interpolation='nearest')\n",
    "plt.show()"
   ]
  },
  {
   "cell_type": "markdown",
   "metadata": {
    "id": "zr1ynYZnaNpj"
   },
   "source": [
    "<font size=4>Grader function 6 </font>"
   ]
  },
  {
   "cell_type": "code",
   "execution_count": 51,
   "metadata": {
    "colab": {
     "base_uri": "https://localhost:8080/"
    },
    "id": "oniXBXcsaNpk",
    "outputId": "7942bb01-b71d-4be2-d80e-ce37105a0886"
   },
   "outputs": [
    {
     "data": {
      "text/plain": [
       "True"
      ]
     },
     "execution_count": 51,
     "metadata": {},
     "output_type": "execute_result"
    }
   ],
   "source": [
    "def grader_spectrogram():\n",
    "    flag_shape = (X_train_spectrogram.shape==(1400, 64, 35)) and (X_test_spectrogram.shape == (600, 64, 35))\n",
    "    return flag_shape\n",
    "grader_spectrogram()"
   ]
  },
  {
   "cell_type": "markdown",
   "metadata": {
    "id": "xxlEVyIYaNpt"
   },
   "source": [
    "\n",
    "Now we have\n",
    "\n",
    "Train data: X_train_spectrogram and y_train  \n",
    "Test data: X_test_spectrogram and y_test   \n",
    "\n",
    "We will create a LSTM model which takes this input. \n",
    "\n",
    "Task:\n",
    "\n",
    "1. Create an LSTM network which takes \"X_train_spectrogram\" as input and has to return output at every time step. \n",
    "2. Average the output of every time step and give this to the Dense layer of any size. <br>\n",
    "(ex: Output from LSTM will be  (None, time_steps, features) average the output of every time step i.e, you should get (None,time_steps) \n",
    "and then pass to dense layer )\n",
    "3. give the above output to Dense layer of size 10( output layer) and train the network with sparse categorical cross entropy.  \n",
    "4. Use tensorboard to plot the graphs of loss and metric(use custom micro F1 score as metric) and histograms of gradients. You can write your code for computing F1 score using this <a  href='https://i.imgur.com/8YULUcu.jpg'>link</a> \n",
    "5. make sure that it won't overfit. \n",
    "6. You are free to include any regularization\n"
   ]
  },
  {
   "cell_type": "code",
   "execution_count": 52,
   "metadata": {
    "id": "IaQjaiiGaNpv"
   },
   "outputs": [],
   "source": [
    "# write the architecture of the model\n",
    "# print model.summary and make sure that it is following point 2 mentioned above\n",
    "input_layer_m2 = tf.keras.layers.Input(shape=(64,35), dtype=float)\n",
    "\n",
    "#lstm = tf.keras.layers.LSTM(32, return_sequences=True)\n",
    "#lstm_output = lstm(input_layer)\n",
    "\n",
    "lstm_layer_m2 = tf.keras.layers.LSTM(64, return_sequences=True)(input_layer_m2)\n",
    "global_avg_pooling_layer = tf.keras.layers.GlobalAveragePooling1D()(lstm_layer_m2)\n",
    "dense_1_m2 = tf.keras.layers.Dense(64, activation='relu', kernel_initializer=tf.keras.initializers.he_uniform(seed=46))(global_avg_pooling_layer)\n",
    "dense_2_m2 = tf.keras.layers.Dense(10, activation='softmax', kernel_initializer=keras.initializers.GlorotUniform(seed=46))(dense_1_m2)"
   ]
  },
  {
   "cell_type": "code",
   "execution_count": 53,
   "metadata": {
    "id": "hBAzPFHWEkMc"
   },
   "outputs": [],
   "source": [
    "f1_call = Metrics(validation_data=(X_test_spectrogram, y_test))"
   ]
  },
  {
   "cell_type": "code",
   "execution_count": 65,
   "metadata": {
    "id": "6jp--7x-tKAN"
   },
   "outputs": [],
   "source": [
    "class myCallback(tf.keras.callbacks.Callback):\n",
    "      def on_epoch_end(self, epoch, logs={}):\n",
    "        if(logs.get('val_accuracy') >= 0.8):\n",
    "          print(\"\\n Val_accuracy Reached 80+ % so cancelling training!\")\n",
    "          self.model.stop_training = True"
   ]
  },
  {
   "cell_type": "code",
   "execution_count": 66,
   "metadata": {
    "id": "h6mBI1PutLHS"
   },
   "outputs": [],
   "source": [
    "stop_here = myCallback()"
   ]
  },
  {
   "cell_type": "code",
   "execution_count": 60,
   "metadata": {
    "colab": {
     "base_uri": "https://localhost:8080/"
    },
    "id": "862fP2e-aNp3",
    "outputId": "89d1059e-fbe0-46cc-c3cb-5e66d33b7b82"
   },
   "outputs": [
    {
     "name": "stdout",
     "output_type": "stream",
     "text": [
      "Model: \"model_4\"\n",
      "_________________________________________________________________\n",
      " Layer (type)                Output Shape              Param #   \n",
      "=================================================================\n",
      " input_5 (InputLayer)        [(None, 64, 35)]          0         \n",
      "                                                                 \n",
      " lstm_2 (LSTM)               (None, 64, 64)            25600     \n",
      "                                                                 \n",
      " global_average_pooling1d (G  (None, 64)               0         \n",
      " lobalAveragePooling1D)                                          \n",
      "                                                                 \n",
      " dense_4 (Dense)             (None, 64)                4160      \n",
      "                                                                 \n",
      " dense_5 (Dense)             (None, 10)                650       \n",
      "                                                                 \n",
      "=================================================================\n",
      "Total params: 30,410\n",
      "Trainable params: 30,410\n",
      "Non-trainable params: 0\n",
      "_________________________________________________________________\n"
     ]
    }
   ],
   "source": [
    "#compile and fit your model.\n",
    "model_two = Model(inputs=input_layer_m2, outputs=dense_2_m2)\n",
    "model_two.compile(optimizer=tf.keras.optimizers.Adam(0.0001),\n",
    "              loss=tf.keras.losses.sparse_categorical_crossentropy,\n",
    "              metrics=['accuracy'])\n",
    "model_two.summary()"
   ]
  },
  {
   "cell_type": "code",
   "execution_count": 67,
   "metadata": {
    "colab": {
     "base_uri": "https://localhost:8080/"
    },
    "id": "VtMsbGs3aNp_",
    "outputId": "226ca4f8-2555-4819-bca5-b040aab08782",
    "scrolled": true
   },
   "outputs": [
    {
     "name": "stdout",
     "output_type": "stream",
     "text": [
      "175/175 [==============================] - ETA: 0s - loss: 0.4331 - accuracy: 0.8664 - Val_F1_score:  0.7683\n",
      "175/175 [==============================] - 4s 21ms/step - loss: 0.4331 - accuracy: 0.8664 - val_loss: 0.7062 - val_accuracy: 0.7683\n",
      "Epoch 2/100\n",
      "174/175 [============================>.] - ETA: 0s - loss: 0.4304 - accuracy: 0.8714 - Val_F1_score:  0.7767\n",
      "175/175 [==============================] - 4s 23ms/step - loss: 0.4322 - accuracy: 0.8707 - val_loss: 0.7183 - val_accuracy: 0.7767\n",
      "Epoch 3/100\n",
      "173/175 [============================>.] - ETA: 0s - loss: 0.4315 - accuracy: 0.8656 - Val_F1_score:  0.77\n",
      "175/175 [==============================] - 5s 26ms/step - loss: 0.4335 - accuracy: 0.8650 - val_loss: 0.7236 - val_accuracy: 0.7700\n",
      "Epoch 4/100\n",
      "175/175 [==============================] - ETA: 0s - loss: 0.4297 - accuracy: 0.8650 - Val_F1_score:  0.7783\n",
      "175/175 [==============================] - 4s 25ms/step - loss: 0.4297 - accuracy: 0.8650 - val_loss: 0.7128 - val_accuracy: 0.7783\n",
      "Epoch 5/100\n",
      "175/175 [==============================] - ETA: 0s - loss: 0.4324 - accuracy: 0.8686 - Val_F1_score:  0.7783\n",
      "175/175 [==============================] - 4s 21ms/step - loss: 0.4324 - accuracy: 0.8686 - val_loss: 0.7171 - val_accuracy: 0.7783\n",
      "Epoch 6/100\n",
      "173/175 [============================>.] - ETA: 0s - loss: 0.4317 - accuracy: 0.8707 - Val_F1_score:  0.7817\n",
      "175/175 [==============================] - 4s 21ms/step - loss: 0.4305 - accuracy: 0.8707 - val_loss: 0.7151 - val_accuracy: 0.7817\n",
      "Epoch 7/100\n",
      "175/175 [==============================] - ETA: 0s - loss: 0.4332 - accuracy: 0.8614 - Val_F1_score:  0.7867\n",
      "175/175 [==============================] - 4s 21ms/step - loss: 0.4332 - accuracy: 0.8614 - val_loss: 0.7118 - val_accuracy: 0.7867\n",
      "Epoch 8/100\n",
      "173/175 [============================>.] - ETA: 0s - loss: 0.4377 - accuracy: 0.8613 - Val_F1_score:  0.78\n",
      "175/175 [==============================] - 4s 21ms/step - loss: 0.4354 - accuracy: 0.8629 - val_loss: 0.7145 - val_accuracy: 0.7800\n",
      "Epoch 9/100\n",
      "175/175 [==============================] - ETA: 0s - loss: 0.4289 - accuracy: 0.8607 - Val_F1_score:  0.7767\n",
      "175/175 [==============================] - 4s 22ms/step - loss: 0.4289 - accuracy: 0.8607 - val_loss: 0.7153 - val_accuracy: 0.7767\n",
      "Epoch 10/100\n",
      "173/175 [============================>.] - ETA: 0s - loss: 0.4321 - accuracy: 0.8656 - Val_F1_score:  0.7717\n",
      "175/175 [==============================] - 4s 21ms/step - loss: 0.4289 - accuracy: 0.8671 - val_loss: 0.7172 - val_accuracy: 0.7717\n",
      "Epoch 11/100\n",
      "173/175 [============================>.] - ETA: 0s - loss: 0.4310 - accuracy: 0.8627 - Val_F1_score:  0.7683\n",
      "175/175 [==============================] - 4s 21ms/step - loss: 0.4281 - accuracy: 0.8643 - val_loss: 0.7113 - val_accuracy: 0.7683\n",
      "Epoch 12/100\n",
      "173/175 [============================>.] - ETA: 0s - loss: 0.4264 - accuracy: 0.8663 - Val_F1_score:  0.7817\n",
      "175/175 [==============================] - 4s 21ms/step - loss: 0.4276 - accuracy: 0.8657 - val_loss: 0.7128 - val_accuracy: 0.7817\n",
      "Epoch 13/100\n",
      "173/175 [============================>.] - ETA: 0s - loss: 0.4233 - accuracy: 0.8678 - Val_F1_score:  0.775\n",
      "175/175 [==============================] - 4s 22ms/step - loss: 0.4254 - accuracy: 0.8671 - val_loss: 0.7148 - val_accuracy: 0.7750\n",
      "Epoch 14/100\n",
      "173/175 [============================>.] - ETA: 0s - loss: 0.4258 - accuracy: 0.8671 - Val_F1_score:  0.775\n",
      "175/175 [==============================] - 4s 21ms/step - loss: 0.4284 - accuracy: 0.8657 - val_loss: 0.7108 - val_accuracy: 0.7750\n",
      "Epoch 15/100\n",
      "175/175 [==============================] - ETA: 0s - loss: 0.4268 - accuracy: 0.8657 - Val_F1_score:  0.7767\n",
      "175/175 [==============================] - 4s 21ms/step - loss: 0.4268 - accuracy: 0.8657 - val_loss: 0.7163 - val_accuracy: 0.7767\n",
      "Epoch 16/100\n",
      "173/175 [============================>.] - ETA: 0s - loss: 0.4270 - accuracy: 0.8620 - Val_F1_score:  0.7783\n",
      "175/175 [==============================] - 4s 22ms/step - loss: 0.4258 - accuracy: 0.8629 - val_loss: 0.7108 - val_accuracy: 0.7783\n",
      "Epoch 17/100\n",
      "174/175 [============================>.] - ETA: 0s - loss: 0.4227 - accuracy: 0.8736 - Val_F1_score:  0.7783\n",
      "175/175 [==============================] - 4s 21ms/step - loss: 0.4241 - accuracy: 0.8729 - val_loss: 0.7340 - val_accuracy: 0.7783\n",
      "Epoch 18/100\n",
      "174/175 [============================>.] - ETA: 0s - loss: 0.4245 - accuracy: 0.8606 - Val_F1_score:  0.775\n",
      "175/175 [==============================] - 4s 21ms/step - loss: 0.4236 - accuracy: 0.8607 - val_loss: 0.7266 - val_accuracy: 0.7750\n",
      "Epoch 19/100\n",
      "173/175 [============================>.] - ETA: 0s - loss: 0.4244 - accuracy: 0.8634 - Val_F1_score:  0.775\n",
      "175/175 [==============================] - 4s 21ms/step - loss: 0.4232 - accuracy: 0.8636 - val_loss: 0.7121 - val_accuracy: 0.7750\n",
      "Epoch 20/100\n",
      "173/175 [============================>.] - ETA: 0s - loss: 0.4207 - accuracy: 0.8699 - Val_F1_score:  0.775\n",
      "175/175 [==============================] - 4s 22ms/step - loss: 0.4212 - accuracy: 0.8693 - val_loss: 0.7200 - val_accuracy: 0.7750\n",
      "Epoch 21/100\n",
      "174/175 [============================>.] - ETA: 0s - loss: 0.4228 - accuracy: 0.8671 - Val_F1_score:  0.7733\n",
      "175/175 [==============================] - 4s 21ms/step - loss: 0.4209 - accuracy: 0.8679 - val_loss: 0.7238 - val_accuracy: 0.7733\n",
      "Epoch 22/100\n",
      "173/175 [============================>.] - ETA: 0s - loss: 0.4206 - accuracy: 0.8699 - Val_F1_score:  0.7717\n",
      "175/175 [==============================] - 4s 21ms/step - loss: 0.4198 - accuracy: 0.8707 - val_loss: 0.7169 - val_accuracy: 0.7717\n",
      "Epoch 23/100\n",
      "173/175 [============================>.] - ETA: 0s - loss: 0.4198 - accuracy: 0.8714 - Val_F1_score:  0.775\n",
      "175/175 [==============================] - 4s 21ms/step - loss: 0.4209 - accuracy: 0.8714 - val_loss: 0.7259 - val_accuracy: 0.7750\n",
      "Epoch 24/100\n",
      "175/175 [==============================] - ETA: 0s - loss: 0.4203 - accuracy: 0.8707 - Val_F1_score:  0.7733\n",
      "175/175 [==============================] - 4s 21ms/step - loss: 0.4203 - accuracy: 0.8707 - val_loss: 0.7201 - val_accuracy: 0.7733\n",
      "Epoch 25/100\n",
      "175/175 [==============================] - ETA: 0s - loss: 0.4201 - accuracy: 0.8679 - Val_F1_score:  0.7767\n",
      "175/175 [==============================] - 4s 21ms/step - loss: 0.4201 - accuracy: 0.8679 - val_loss: 0.7276 - val_accuracy: 0.7767\n",
      "Epoch 26/100\n",
      "175/175 [==============================] - ETA: 0s - loss: 0.4216 - accuracy: 0.8700 - Val_F1_score:  0.775\n",
      "175/175 [==============================] - 4s 21ms/step - loss: 0.4216 - accuracy: 0.8700 - val_loss: 0.7154 - val_accuracy: 0.7750\n",
      "Epoch 27/100\n",
      "173/175 [============================>.] - ETA: 0s - loss: 0.4140 - accuracy: 0.8743 - Val_F1_score:  0.77\n",
      "175/175 [==============================] - 4s 21ms/step - loss: 0.4156 - accuracy: 0.8736 - val_loss: 0.7143 - val_accuracy: 0.7700\n",
      "Epoch 28/100\n",
      "173/175 [============================>.] - ETA: 0s - loss: 0.4138 - accuracy: 0.8707 - Val_F1_score:  0.775\n",
      "175/175 [==============================] - 4s 22ms/step - loss: 0.4153 - accuracy: 0.8700 - val_loss: 0.7146 - val_accuracy: 0.7750\n",
      "Epoch 29/100\n",
      "173/175 [============================>.] - ETA: 0s - loss: 0.4183 - accuracy: 0.8685 - Val_F1_score:  0.7733\n",
      "175/175 [==============================] - 4s 22ms/step - loss: 0.4166 - accuracy: 0.8686 - val_loss: 0.7231 - val_accuracy: 0.7733\n",
      "Epoch 30/100\n",
      "175/175 [==============================] - ETA: 0s - loss: 0.4161 - accuracy: 0.8679 - Val_F1_score:  0.7733\n",
      "175/175 [==============================] - 4s 21ms/step - loss: 0.4161 - accuracy: 0.8679 - val_loss: 0.7209 - val_accuracy: 0.7733\n",
      "Epoch 31/100\n",
      "173/175 [============================>.] - ETA: 0s - loss: 0.4126 - accuracy: 0.8750 - Val_F1_score:  0.77\n",
      "175/175 [==============================] - 4s 21ms/step - loss: 0.4135 - accuracy: 0.8743 - val_loss: 0.7291 - val_accuracy: 0.7700\n",
      "Epoch 32/100\n",
      "173/175 [============================>.] - ETA: 0s - loss: 0.4176 - accuracy: 0.8671 - Val_F1_score:  0.77\n",
      "175/175 [==============================] - 4s 21ms/step - loss: 0.4150 - accuracy: 0.8686 - val_loss: 0.7246 - val_accuracy: 0.7700\n",
      "Epoch 33/100\n",
      "175/175 [==============================] - ETA: 0s - loss: 0.4151 - accuracy: 0.8721 - Val_F1_score:  0.7767\n",
      "175/175 [==============================] - 4s 23ms/step - loss: 0.4151 - accuracy: 0.8721 - val_loss: 0.7153 - val_accuracy: 0.7767\n",
      "Epoch 34/100\n",
      "173/175 [============================>.] - ETA: 0s - loss: 0.4102 - accuracy: 0.8757 - Val_F1_score:  0.7767\n",
      "175/175 [==============================] - 4s 21ms/step - loss: 0.4142 - accuracy: 0.8729 - val_loss: 0.7211 - val_accuracy: 0.7767\n",
      "Epoch 35/100\n",
      "175/175 [==============================] - ETA: 0s - loss: 0.4136 - accuracy: 0.8679 - Val_F1_score:  0.7733\n",
      "175/175 [==============================] - 4s 22ms/step - loss: 0.4136 - accuracy: 0.8679 - val_loss: 0.7217 - val_accuracy: 0.7733\n",
      "Epoch 36/100\n",
      "175/175 [==============================] - ETA: 0s - loss: 0.4113 - accuracy: 0.8750 - Val_F1_score:  0.7733\n",
      "175/175 [==============================] - 4s 21ms/step - loss: 0.4113 - accuracy: 0.8750 - val_loss: 0.7187 - val_accuracy: 0.7733\n",
      "Epoch 37/100\n",
      "175/175 [==============================] - ETA: 0s - loss: 0.4132 - accuracy: 0.8714 - Val_F1_score:  0.7717\n",
      "175/175 [==============================] - 4s 22ms/step - loss: 0.4132 - accuracy: 0.8714 - val_loss: 0.7172 - val_accuracy: 0.7717\n",
      "Epoch 38/100\n",
      "174/175 [============================>.] - ETA: 0s - loss: 0.4116 - accuracy: 0.8707 - Val_F1_score:  0.7667\n",
      "175/175 [==============================] - 4s 22ms/step - loss: 0.4105 - accuracy: 0.8714 - val_loss: 0.7199 - val_accuracy: 0.7667\n",
      "Epoch 39/100\n",
      "174/175 [============================>.] - ETA: 0s - loss: 0.4099 - accuracy: 0.8714 - Val_F1_score:  0.77\n",
      "175/175 [==============================] - 4s 21ms/step - loss: 0.4090 - accuracy: 0.8721 - val_loss: 0.7192 - val_accuracy: 0.7700\n",
      "Epoch 40/100\n",
      "175/175 [==============================] - ETA: 0s - loss: 0.4085 - accuracy: 0.8707 - Val_F1_score:  0.785\n",
      "175/175 [==============================] - 4s 21ms/step - loss: 0.4085 - accuracy: 0.8707 - val_loss: 0.7251 - val_accuracy: 0.7850\n",
      "Epoch 41/100\n",
      "175/175 [==============================] - ETA: 0s - loss: 0.4106 - accuracy: 0.8757 - Val_F1_score:  0.7717\n",
      "175/175 [==============================] - 4s 22ms/step - loss: 0.4106 - accuracy: 0.8757 - val_loss: 0.7192 - val_accuracy: 0.7717\n",
      "Epoch 42/100\n",
      "174/175 [============================>.] - ETA: 0s - loss: 0.4081 - accuracy: 0.8779 - Val_F1_score:  0.77\n",
      "175/175 [==============================] - 4s 22ms/step - loss: 0.4081 - accuracy: 0.8779 - val_loss: 0.7187 - val_accuracy: 0.7700\n",
      "Epoch 43/100\n",
      "175/175 [==============================] - ETA: 0s - loss: 0.4087 - accuracy: 0.8771 - Val_F1_score:  0.7767\n",
      "175/175 [==============================] - 4s 22ms/step - loss: 0.4087 - accuracy: 0.8771 - val_loss: 0.7153 - val_accuracy: 0.7767\n",
      "Epoch 44/100\n",
      "174/175 [============================>.] - ETA: 0s - loss: 0.4060 - accuracy: 0.8750 - Val_F1_score:  0.77\n",
      "175/175 [==============================] - 4s 22ms/step - loss: 0.4059 - accuracy: 0.8750 - val_loss: 0.7163 - val_accuracy: 0.7700\n",
      "Epoch 45/100\n",
      "175/175 [==============================] - ETA: 0s - loss: 0.4062 - accuracy: 0.8714 - Val_F1_score:  0.77\n",
      "175/175 [==============================] - 4s 21ms/step - loss: 0.4062 - accuracy: 0.8714 - val_loss: 0.7170 - val_accuracy: 0.7700\n",
      "Epoch 46/100\n",
      "174/175 [============================>.] - ETA: 0s - loss: 0.4067 - accuracy: 0.8793 - Val_F1_score:  0.7767\n",
      "175/175 [==============================] - 4s 21ms/step - loss: 0.4066 - accuracy: 0.8793 - val_loss: 0.7163 - val_accuracy: 0.7767\n",
      "Epoch 47/100\n",
      "173/175 [============================>.] - ETA: 0s - loss: 0.4067 - accuracy: 0.8779 - Val_F1_score:  0.775\n",
      "175/175 [==============================] - 4s 21ms/step - loss: 0.4054 - accuracy: 0.8786 - val_loss: 0.7274 - val_accuracy: 0.7750\n",
      "Epoch 48/100\n",
      "174/175 [============================>.] - ETA: 0s - loss: 0.4037 - accuracy: 0.8772 - Val_F1_score:  0.7767\n",
      "175/175 [==============================] - 4s 22ms/step - loss: 0.4024 - accuracy: 0.8779 - val_loss: 0.7181 - val_accuracy: 0.7767\n",
      "Epoch 49/100\n",
      "174/175 [============================>.] - ETA: 0s - loss: 0.4036 - accuracy: 0.8728 - Val_F1_score:  0.7733\n",
      "175/175 [==============================] - 4s 21ms/step - loss: 0.4035 - accuracy: 0.8729 - val_loss: 0.7242 - val_accuracy: 0.7733\n",
      "Epoch 50/100\n",
      "173/175 [============================>.] - ETA: 0s - loss: 0.4012 - accuracy: 0.8786 - Val_F1_score:  0.7733\n",
      "175/175 [==============================] - 4s 22ms/step - loss: 0.3999 - accuracy: 0.8786 - val_loss: 0.7180 - val_accuracy: 0.7733\n",
      "Epoch 51/100\n",
      "175/175 [==============================] - ETA: 0s - loss: 0.3995 - accuracy: 0.8743 - Val_F1_score:  0.7683\n",
      "175/175 [==============================] - 4s 21ms/step - loss: 0.3995 - accuracy: 0.8743 - val_loss: 0.7195 - val_accuracy: 0.7683\n",
      "Epoch 52/100\n",
      "174/175 [============================>.] - ETA: 0s - loss: 0.3969 - accuracy: 0.8843 - Val_F1_score:  0.7783\n",
      "175/175 [==============================] - 4s 22ms/step - loss: 0.3990 - accuracy: 0.8829 - val_loss: 0.7212 - val_accuracy: 0.7783\n",
      "Epoch 53/100\n",
      "175/175 [==============================] - ETA: 0s - loss: 0.3991 - accuracy: 0.8764 - Val_F1_score:  0.7717\n",
      "175/175 [==============================] - 4s 21ms/step - loss: 0.3991 - accuracy: 0.8764 - val_loss: 0.7242 - val_accuracy: 0.7717\n",
      "Epoch 54/100\n",
      "175/175 [==============================] - ETA: 0s - loss: 0.3995 - accuracy: 0.8807 - Val_F1_score:  0.7767\n",
      "175/175 [==============================] - 4s 21ms/step - loss: 0.3995 - accuracy: 0.8807 - val_loss: 0.7129 - val_accuracy: 0.7767\n",
      "Epoch 55/100\n",
      "173/175 [============================>.] - ETA: 0s - loss: 0.3981 - accuracy: 0.8779 - Val_F1_score:  0.77\n",
      "175/175 [==============================] - 4s 21ms/step - loss: 0.3985 - accuracy: 0.8779 - val_loss: 0.7199 - val_accuracy: 0.7700\n",
      "Epoch 56/100\n",
      "174/175 [============================>.] - ETA: 0s - loss: 0.3964 - accuracy: 0.8750 - Val_F1_score:  0.7733\n",
      "175/175 [==============================] - 4s 21ms/step - loss: 0.3965 - accuracy: 0.8743 - val_loss: 0.7267 - val_accuracy: 0.7733\n",
      "Epoch 57/100\n",
      "172/175 [============================>.] - ETA: 0s - loss: 0.3958 - accuracy: 0.8808 - Val_F1_score:  0.7667\n",
      "175/175 [==============================] - 4s 22ms/step - loss: 0.3930 - accuracy: 0.8821 - val_loss: 0.7312 - val_accuracy: 0.7667\n",
      "Epoch 58/100\n",
      "173/175 [============================>.] - ETA: 0s - loss: 0.3920 - accuracy: 0.8822 - Val_F1_score:  0.7783\n",
      "175/175 [==============================] - 4s 21ms/step - loss: 0.3939 - accuracy: 0.8814 - val_loss: 0.7153 - val_accuracy: 0.7783\n",
      "Epoch 59/100\n",
      "173/175 [============================>.] - ETA: 0s - loss: 0.3928 - accuracy: 0.8757 - Val_F1_score:  0.765\n",
      "175/175 [==============================] - 4s 22ms/step - loss: 0.3931 - accuracy: 0.8757 - val_loss: 0.7181 - val_accuracy: 0.7650\n",
      "Epoch 60/100\n",
      "175/175 [==============================] - ETA: 0s - loss: 0.3926 - accuracy: 0.8836 - Val_F1_score:  0.775\n",
      "175/175 [==============================] - 4s 21ms/step - loss: 0.3926 - accuracy: 0.8836 - val_loss: 0.7205 - val_accuracy: 0.7750\n",
      "Epoch 61/100\n",
      "173/175 [============================>.] - ETA: 0s - loss: 0.3921 - accuracy: 0.8786 - Val_F1_score:  0.7767\n",
      "175/175 [==============================] - 4s 22ms/step - loss: 0.3923 - accuracy: 0.8786 - val_loss: 0.7157 - val_accuracy: 0.7767\n",
      "Epoch 62/100\n",
      "174/175 [============================>.] - ETA: 0s - loss: 0.3915 - accuracy: 0.8836 - Val_F1_score:  0.7717\n",
      "175/175 [==============================] - 4s 22ms/step - loss: 0.3922 - accuracy: 0.8821 - val_loss: 0.7267 - val_accuracy: 0.7717\n",
      "Epoch 63/100\n",
      "173/175 [============================>.] - ETA: 0s - loss: 0.3849 - accuracy: 0.8829 - Val_F1_score:  0.7717\n",
      "175/175 [==============================] - 4s 21ms/step - loss: 0.3892 - accuracy: 0.8836 - val_loss: 0.7290 - val_accuracy: 0.7717\n",
      "Epoch 64/100\n",
      "175/175 [==============================] - ETA: 0s - loss: 0.3915 - accuracy: 0.8779 - Val_F1_score:  0.7717\n",
      "175/175 [==============================] - 4s 21ms/step - loss: 0.3915 - accuracy: 0.8779 - val_loss: 0.7221 - val_accuracy: 0.7717\n",
      "Epoch 65/100\n",
      "175/175 [==============================] - ETA: 0s - loss: 0.3892 - accuracy: 0.8850 - Val_F1_score:  0.775\n",
      "175/175 [==============================] - 4s 22ms/step - loss: 0.3892 - accuracy: 0.8850 - val_loss: 0.7206 - val_accuracy: 0.7750\n",
      "Epoch 66/100\n",
      "175/175 [==============================] - ETA: 0s - loss: 0.3908 - accuracy: 0.8836 - Val_F1_score:  0.7733\n",
      "175/175 [==============================] - 4s 22ms/step - loss: 0.3908 - accuracy: 0.8836 - val_loss: 0.7203 - val_accuracy: 0.7733\n",
      "Epoch 67/100\n",
      "174/175 [============================>.] - ETA: 0s - loss: 0.3901 - accuracy: 0.8764 - Val_F1_score:  0.77\n",
      "175/175 [==============================] - 4s 22ms/step - loss: 0.3895 - accuracy: 0.8771 - val_loss: 0.7249 - val_accuracy: 0.7700\n",
      "Epoch 68/100\n",
      "175/175 [==============================] - ETA: 0s - loss: 0.3858 - accuracy: 0.8836 - Val_F1_score:  0.77\n",
      "175/175 [==============================] - 4s 22ms/step - loss: 0.3858 - accuracy: 0.8836 - val_loss: 0.7203 - val_accuracy: 0.7700\n",
      "Epoch 69/100\n",
      "173/175 [============================>.] - ETA: 0s - loss: 0.3862 - accuracy: 0.8808 - Val_F1_score:  0.7667\n",
      "175/175 [==============================] - 4s 21ms/step - loss: 0.3867 - accuracy: 0.8807 - val_loss: 0.7228 - val_accuracy: 0.7667\n",
      "Epoch 70/100\n",
      "174/175 [============================>.] - ETA: 0s - loss: 0.3883 - accuracy: 0.8822 - Val_F1_score:  0.7717\n",
      "175/175 [==============================] - 4s 22ms/step - loss: 0.3877 - accuracy: 0.8821 - val_loss: 0.7197 - val_accuracy: 0.7717\n",
      "Epoch 71/100\n",
      "173/175 [============================>.] - ETA: 0s - loss: 0.3867 - accuracy: 0.8808 - Val_F1_score:  0.765\n",
      "175/175 [==============================] - 4s 21ms/step - loss: 0.3865 - accuracy: 0.8800 - val_loss: 0.7251 - val_accuracy: 0.7650\n",
      "Epoch 72/100\n",
      "173/175 [============================>.] - ETA: 0s - loss: 0.3834 - accuracy: 0.8822 - Val_F1_score:  0.7733\n",
      "175/175 [==============================] - 4s 23ms/step - loss: 0.3826 - accuracy: 0.8821 - val_loss: 0.7213 - val_accuracy: 0.7733\n",
      "Epoch 73/100\n",
      "174/175 [============================>.] - ETA: 0s - loss: 0.3856 - accuracy: 0.8793 - Val_F1_score:  0.775\n",
      "175/175 [==============================] - 4s 22ms/step - loss: 0.3840 - accuracy: 0.8800 - val_loss: 0.7213 - val_accuracy: 0.7750\n",
      "Epoch 74/100\n",
      "174/175 [============================>.] - ETA: 0s - loss: 0.3868 - accuracy: 0.8851 - Val_F1_score:  0.7683\n",
      "175/175 [==============================] - 4s 23ms/step - loss: 0.3854 - accuracy: 0.8857 - val_loss: 0.7192 - val_accuracy: 0.7683\n",
      "Epoch 75/100\n",
      "174/175 [============================>.] - ETA: 0s - loss: 0.3804 - accuracy: 0.8843 - Val_F1_score:  0.7633\n",
      "175/175 [==============================] - 4s 21ms/step - loss: 0.3817 - accuracy: 0.8843 - val_loss: 0.7179 - val_accuracy: 0.7633\n",
      "Epoch 76/100\n",
      "175/175 [==============================] - ETA: 0s - loss: 0.3828 - accuracy: 0.8836 - Val_F1_score:  0.76\n",
      "175/175 [==============================] - 4s 23ms/step - loss: 0.3828 - accuracy: 0.8836 - val_loss: 0.7338 - val_accuracy: 0.7600\n",
      "Epoch 77/100\n",
      "175/175 [==============================] - ETA: 0s - loss: 0.3838 - accuracy: 0.8829 - Val_F1_score:  0.7667\n",
      "175/175 [==============================] - 4s 21ms/step - loss: 0.3838 - accuracy: 0.8829 - val_loss: 0.7233 - val_accuracy: 0.7667\n",
      "Epoch 78/100\n",
      "174/175 [============================>.] - ETA: 0s - loss: 0.3805 - accuracy: 0.8886 - Val_F1_score:  0.7717\n",
      "175/175 [==============================] - 4s 21ms/step - loss: 0.3794 - accuracy: 0.8893 - val_loss: 0.7147 - val_accuracy: 0.7717\n",
      "Epoch 79/100\n",
      "175/175 [==============================] - ETA: 0s - loss: 0.3798 - accuracy: 0.8864 - Val_F1_score:  0.7733\n",
      "175/175 [==============================] - 4s 22ms/step - loss: 0.3798 - accuracy: 0.8864 - val_loss: 0.7279 - val_accuracy: 0.7733\n",
      "Epoch 80/100\n",
      "175/175 [==============================] - ETA: 0s - loss: 0.3771 - accuracy: 0.8857 - Val_F1_score:  0.77\n",
      "175/175 [==============================] - 4s 22ms/step - loss: 0.3771 - accuracy: 0.8857 - val_loss: 0.7251 - val_accuracy: 0.7700\n",
      "Epoch 81/100\n",
      "173/175 [============================>.] - ETA: 0s - loss: 0.3773 - accuracy: 0.8887 - Val_F1_score:  0.7783\n",
      "175/175 [==============================] - 4s 21ms/step - loss: 0.3781 - accuracy: 0.8879 - val_loss: 0.7290 - val_accuracy: 0.7783\n",
      "Epoch 82/100\n",
      "175/175 [==============================] - ETA: 0s - loss: 0.3760 - accuracy: 0.8814 - Val_F1_score:  0.7633\n",
      "175/175 [==============================] - 4s 21ms/step - loss: 0.3760 - accuracy: 0.8814 - val_loss: 0.7326 - val_accuracy: 0.7633\n",
      "Epoch 83/100\n",
      "175/175 [==============================] - ETA: 0s - loss: 0.3793 - accuracy: 0.8807 - Val_F1_score:  0.775\n",
      "175/175 [==============================] - 4s 22ms/step - loss: 0.3793 - accuracy: 0.8807 - val_loss: 0.7289 - val_accuracy: 0.7750\n",
      "Epoch 84/100\n",
      "174/175 [============================>.] - ETA: 0s - loss: 0.3776 - accuracy: 0.8843 - Val_F1_score:  0.7717\n",
      "175/175 [==============================] - 4s 21ms/step - loss: 0.3776 - accuracy: 0.8850 - val_loss: 0.7198 - val_accuracy: 0.7717\n",
      "Epoch 85/100\n",
      "175/175 [==============================] - ETA: 0s - loss: 0.3753 - accuracy: 0.8886 - Val_F1_score:  0.7767\n",
      "175/175 [==============================] - 4s 21ms/step - loss: 0.3753 - accuracy: 0.8886 - val_loss: 0.7235 - val_accuracy: 0.7767\n",
      "Epoch 86/100\n",
      "173/175 [============================>.] - ETA: 0s - loss: 0.3771 - accuracy: 0.8844 - Val_F1_score:  0.775\n",
      "175/175 [==============================] - 4s 22ms/step - loss: 0.3762 - accuracy: 0.8843 - val_loss: 0.7213 - val_accuracy: 0.7750\n",
      "Epoch 87/100\n",
      "175/175 [==============================] - ETA: 0s - loss: 0.3770 - accuracy: 0.8843 - Val_F1_score:  0.7733\n",
      "175/175 [==============================] - 4s 22ms/step - loss: 0.3770 - accuracy: 0.8843 - val_loss: 0.7266 - val_accuracy: 0.7733\n",
      "Epoch 88/100\n",
      "175/175 [==============================] - ETA: 0s - loss: 0.3742 - accuracy: 0.8871 - Val_F1_score:  0.7767\n",
      "175/175 [==============================] - 4s 21ms/step - loss: 0.3742 - accuracy: 0.8871 - val_loss: 0.7199 - val_accuracy: 0.7767\n",
      "Epoch 89/100\n",
      "173/175 [============================>.] - ETA: 0s - loss: 0.3777 - accuracy: 0.8844 - Val_F1_score:  0.7717\n",
      "175/175 [==============================] - 4s 21ms/step - loss: 0.3757 - accuracy: 0.8850 - val_loss: 0.7337 - val_accuracy: 0.7717\n",
      "Epoch 90/100\n",
      "175/175 [==============================] - ETA: 0s - loss: 0.3742 - accuracy: 0.8879 - Val_F1_score:  0.77\n",
      "175/175 [==============================] - 4s 21ms/step - loss: 0.3742 - accuracy: 0.8879 - val_loss: 0.7237 - val_accuracy: 0.7700\n",
      "Epoch 91/100\n",
      "174/175 [============================>.] - ETA: 0s - loss: 0.3737 - accuracy: 0.8843 - Val_F1_score:  0.77\n",
      "175/175 [==============================] - 4s 21ms/step - loss: 0.3750 - accuracy: 0.8836 - val_loss: 0.7175 - val_accuracy: 0.7700\n",
      "Epoch 92/100\n",
      "173/175 [============================>.] - ETA: 0s - loss: 0.3713 - accuracy: 0.8858 - Val_F1_score:  0.7717\n",
      "175/175 [==============================] - 4s 22ms/step - loss: 0.3724 - accuracy: 0.8850 - val_loss: 0.7147 - val_accuracy: 0.7717\n",
      "Epoch 93/100\n",
      "174/175 [============================>.] - ETA: 0s - loss: 0.3701 - accuracy: 0.8829 - Val_F1_score:  0.7717\n",
      "175/175 [==============================] - 4s 22ms/step - loss: 0.3711 - accuracy: 0.8829 - val_loss: 0.7256 - val_accuracy: 0.7717\n",
      "Epoch 94/100\n",
      "173/175 [============================>.] - ETA: 0s - loss: 0.3712 - accuracy: 0.8858 - Val_F1_score:  0.77\n",
      "175/175 [==============================] - 4s 21ms/step - loss: 0.3712 - accuracy: 0.8857 - val_loss: 0.7195 - val_accuracy: 0.7700\n",
      "Epoch 95/100\n",
      "173/175 [============================>.] - ETA: 0s - loss: 0.3694 - accuracy: 0.8945 - Val_F1_score:  0.78\n",
      "175/175 [==============================] - 4s 22ms/step - loss: 0.3689 - accuracy: 0.8943 - val_loss: 0.7327 - val_accuracy: 0.7800\n",
      "Epoch 96/100\n",
      "173/175 [============================>.] - ETA: 0s - loss: 0.3737 - accuracy: 0.8866 - Val_F1_score:  0.7783\n",
      "175/175 [==============================] - 4s 22ms/step - loss: 0.3714 - accuracy: 0.8879 - val_loss: 0.7297 - val_accuracy: 0.7783\n",
      "Epoch 97/100\n",
      "175/175 [==============================] - ETA: 0s - loss: 0.3699 - accuracy: 0.8836 - Val_F1_score:  0.7733\n",
      "175/175 [==============================] - 4s 21ms/step - loss: 0.3699 - accuracy: 0.8836 - val_loss: 0.7306 - val_accuracy: 0.7733\n",
      "Epoch 98/100\n",
      "174/175 [============================>.] - ETA: 0s - loss: 0.3668 - accuracy: 0.8886 - Val_F1_score:  0.77\n",
      "175/175 [==============================] - 4s 21ms/step - loss: 0.3677 - accuracy: 0.8879 - val_loss: 0.7285 - val_accuracy: 0.7700\n",
      "Epoch 99/100\n",
      "173/175 [============================>.] - ETA: 0s - loss: 0.3668 - accuracy: 0.8895 - Val_F1_score:  0.77\n",
      "175/175 [==============================] - 4s 22ms/step - loss: 0.3677 - accuracy: 0.8886 - val_loss: 0.7261 - val_accuracy: 0.7700\n",
      "Epoch 100/100\n",
      "173/175 [============================>.] - ETA: 0s - loss: 0.3682 - accuracy: 0.8880 - Val_F1_score:  0.77\n",
      "175/175 [==============================] - 4s 21ms/step - loss: 0.3651 - accuracy: 0.8893 - val_loss: 0.7200 - val_accuracy: 0.7700\n"
     ]
    },
    {
     "data": {
      "text/plain": [
       "<keras.callbacks.History at 0x7f0341d28090>"
      ]
     },
     "execution_count": 67,
     "metadata": {},
     "output_type": "execute_result"
    }
   ],
   "source": [
    "#model2.fit([X_train_spectrogram],y_train_int,......)\n",
    "model_two.fit([X_train_spectrogram], y_train,\n",
    "          validation_data=([X_test_spectrogram], y_test),\n",
    "          epochs=100,\n",
    "          verbose=1,\n",
    "          batch_size=8,\n",
    "          callbacks=[f1_call, stop_here, tensorboard_callback])"
   ]
  },
  {
   "cell_type": "code",
   "execution_count": 3,
   "metadata": {},
   "outputs": [],
   "source": [
    "accuracy_m2, val_accuracy_m2 = 0.8614, 0.7867"
   ]
  },
  {
   "cell_type": "code",
   "execution_count": null,
   "metadata": {
    "id": "YgPfC9zZ7tfb"
   },
   "outputs": [],
   "source": [
    "# %tensorboard --logdir logs/fit"
   ]
  },
  {
   "cell_type": "markdown",
   "metadata": {
    "id": "aSl8ZOXjaNqJ"
   },
   "source": [
    "### 3. Data augmentation with raw features \n",
    "\n",
    "Till now we have done with 2000 samples only. It is very less data. We are giving the process of generating augmented data below.\n",
    "\n",
    "There are two types of augmentation:\n",
    "1. time stretching - Time stretching either increases or decreases the length of the file. For time stretching we move the file 30% faster or slower\n",
    "2. pitch shifting - pitch shifting moves the frequencies higher or lower. For pitch shifting we shift up or down one half-step.\n"
   ]
  },
  {
   "cell_type": "code",
   "execution_count": 17,
   "metadata": {
    "id": "jR4JSEDgaNqK"
   },
   "outputs": [],
   "source": [
    "## generating augmented data. \n",
    "def generate_augmented_data(file_path):\n",
    "    augmented_data = []\n",
    "    samples = load_wav(file_path, get_duration=False)\n",
    "    for time_value in [0.7, 1, 1.3]:\n",
    "        for pitch_value in [-1, 0, 1]:\n",
    "            time_stretch_data = librosa.effects.time_stretch(samples, rate=time_value)\n",
    "            final_data = librosa.effects.pitch_shift(time_stretch_data, sr=sample_rate, n_steps=pitch_value)\n",
    "            augmented_data.append(final_data)\n",
    "    return augmented_data"
   ]
  },
  {
   "cell_type": "code",
   "execution_count": 18,
   "metadata": {
    "id": "QRdefb-SaNqS"
   },
   "outputs": [],
   "source": [
    "temp_path = df_audio.iloc[0].path\n",
    "aug_temp = generate_augmented_data(temp_path)"
   ]
  },
  {
   "cell_type": "code",
   "execution_count": 19,
   "metadata": {
    "colab": {
     "base_uri": "https://localhost:8080/"
    },
    "id": "lyHOg9WoeUmc",
    "outputId": "65edc263-a8db-4196-e5f8-a6d6df824d10"
   },
   "outputs": [
    {
     "data": {
      "text/plain": [
       "9"
      ]
     },
     "execution_count": 19,
     "metadata": {},
     "output_type": "execute_result"
    }
   ],
   "source": [
    "len(aug_temp)"
   ]
  },
  {
   "cell_type": "markdown",
   "metadata": {
    "id": "ZckytZsraNqk"
   },
   "source": [
    "## Follow the steps \n",
    "\n",
    "1. Split data 'df_audio' into train and test (80-20 split)\n",
    "\n",
    "2. We have 2000 data points(1600 train points, 400 test points) \n",
    "\n"
   ]
  },
  {
   "cell_type": "code",
   "execution_count": 20,
   "metadata": {
    "id": "LFo5SnTLO_sD"
   },
   "outputs": [],
   "source": [
    "X_train, X_test, y_train, y_test = train_test_split(df_audio['path'], df_audio['label'], random_state=45, test_size=0.2, stratify=df_audio['label'])"
   ]
  },
  {
   "cell_type": "markdown",
   "metadata": {
    "id": "AdKXVRlpaNql"
   },
   "source": [
    "3. Do augmentation only on X_train,pass each point of X_train to generate_augmented_data function.After augmentation we will get 14400 train points. Make sure that you are augmenting the corresponding class labels (y_train) also.\n",
    "4. Preprocess your X_test using load_wav function.\n",
    "5. Convert the augmented_train_data and test_data to numpy arrays.\n",
    "6. Perform padding and masking on augmented_train_data and test_data.\n",
    "7. After padding define the model similar to model 1 and fit the data"
   ]
  },
  {
   "cell_type": "markdown",
   "metadata": {
    "id": "H8Yh72uYO_sD"
   },
   "source": [
    "<font color='red'> Note </font> - While fitting your model on the augmented data for model 3 you might face Resource exhaust error. One simple hack to avoid that is save the augmented_train_data,augment_y_train,test_data and y_test to Drive or into your local system. Then restart the runtime so that now you can train your model with full RAM capacity. Upload these files again in the new runtime session perform padding and masking and then fit your model."
   ]
  },
  {
   "cell_type": "code",
   "execution_count": 21,
   "metadata": {
    "id": "wBwzbjOzO_sD"
   },
   "outputs": [],
   "source": [
    "# augmentation only X_train using generate_augmented_data()\n",
    "augmented_X_train_data = []\n",
    "for i in X_train:\n",
    "    aug_temp = []\n",
    "    aug_temp = generate_augmented_data(i)\n",
    "\n",
    "    for j in aug_temp:\n",
    "        augmented_X_train_data.append(j)"
   ]
  },
  {
   "cell_type": "code",
   "execution_count": 22,
   "metadata": {
    "colab": {
     "base_uri": "https://localhost:8080/"
    },
    "id": "41vU8M1gO_sD",
    "outputId": "8ea54d0f-f4a3-43ab-df57-4beb1c136f21"
   },
   "outputs": [
    {
     "data": {
      "text/plain": [
       "14400"
      ]
     },
     "execution_count": 22,
     "metadata": {},
     "output_type": "execute_result"
    }
   ],
   "source": [
    "len(augmented_X_train_data)"
   ]
  },
  {
   "cell_type": "code",
   "execution_count": 27,
   "metadata": {
    "id": "xbNo_LOl_Mqw"
   },
   "outputs": [],
   "source": [
    "augmented_X_train_data = np.array(augmented_X_train_data)"
   ]
  },
  {
   "cell_type": "code",
   "execution_count": 23,
   "metadata": {
    "id": "wkXreG4Xomeg"
   },
   "outputs": [],
   "source": [
    "# y_train after augmentation\n",
    "augmented_y_train_data = []\n",
    "for n in y_train:\n",
    "    augmented_y_train_data.extend([n for i in range(9)]) # 14400/1600 = 9"
   ]
  },
  {
   "cell_type": "code",
   "execution_count": 24,
   "metadata": {
    "colab": {
     "base_uri": "https://localhost:8080/"
    },
    "id": "cg5izv5gomV8",
    "outputId": "57e2f09f-e05c-4126-fcbd-f79a4e269ef8"
   },
   "outputs": [
    {
     "data": {
      "text/plain": [
       "14400"
      ]
     },
     "execution_count": 24,
     "metadata": {},
     "output_type": "execute_result"
    }
   ],
   "source": [
    "len(augmented_y_train_data)"
   ]
  },
  {
   "cell_type": "code",
   "execution_count": 25,
   "metadata": {
    "id": "naNQepQoIWsD"
   },
   "outputs": [],
   "source": [
    "augmented_y_train_data = np.array(augmented_y_train_data)"
   ]
  },
  {
   "cell_type": "code",
   "execution_count": 28,
   "metadata": {
    "id": "hsSEuYveFRPu"
   },
   "outputs": [],
   "source": [
    "# Preprocess X_test\n",
    "raw_data = []\n",
    "duration = []\n",
    "\n",
    "for path in X_test:\n",
    "    raw, dur = load_wav(path)\n",
    "    raw_data.append(raw)\n",
    "    duration.append(dur)\n",
    "\n",
    "X_test_processed = pd.DataFrame({'raw_data' : raw_data, 'duration' : duration}, index=X_test.index)"
   ]
  },
  {
   "cell_type": "code",
   "execution_count": 29,
   "metadata": {
    "id": "IKQReNMIJCMf"
   },
   "outputs": [],
   "source": [
    "X_train_augmented_pad_seq = tf.keras.preprocessing.sequence.pad_sequences(\n",
    "    augmented_X_train_data,\n",
    "    maxlen=max_length,\n",
    "    dtype='float32',\n",
    "    padding='post',\n",
    "    truncating='post'\n",
    "    )"
   ]
  },
  {
   "cell_type": "code",
   "execution_count": 30,
   "metadata": {
    "id": "vytFe-WsJCIP"
   },
   "outputs": [],
   "source": [
    "X_test_augmented_pad_seq = tf.keras.preprocessing.sequence.pad_sequences(\n",
    "    X_test_processed['raw_data'],\n",
    "    maxlen=max_length,\n",
    "    dtype='float32',\n",
    "    padding='post',\n",
    "    truncating='post'\n",
    "    )"
   ]
  },
  {
   "cell_type": "code",
   "execution_count": 31,
   "metadata": {
    "id": "L2OZe5xQJCEN"
   },
   "outputs": [],
   "source": [
    "X_train_augmented_mask = []\n",
    "for ele in X_train_augmented_pad_seq:\n",
    "    b = []\n",
    "    for i in ele:\n",
    "        if i != 0:\n",
    "            b.append(bool(1))\n",
    "        else:\n",
    "            b.append(bool(0))\n",
    "    X_train_augmented_mask.append((b))\n",
    "\n",
    "# masks = np.array( [1]*token_length + [0]*(max_length-token_length))"
   ]
  },
  {
   "cell_type": "code",
   "execution_count": 32,
   "metadata": {
    "id": "Yl4dcC6cKHTa"
   },
   "outputs": [],
   "source": [
    "X_test_augmented_mask = []\n",
    "\n",
    "for ele in X_test_augmented_pad_seq:\n",
    "    b = []\n",
    "    for i in ele:\n",
    "        if i != 0:\n",
    "            b.append(bool(1))\n",
    "        else:\n",
    "            b.append(bool(0))\n",
    "    X_test_augmented_mask.append((b))"
   ]
  },
  {
   "cell_type": "code",
   "execution_count": 33,
   "metadata": {
    "id": "PvffI-3qKU1R"
   },
   "outputs": [],
   "source": [
    "X_train_augmented_mask = np.array(X_train_augmented_mask)\n",
    "X_test_augmented_mask = np.array(X_test_augmented_mask)"
   ]
  },
  {
   "cell_type": "code",
   "execution_count": 34,
   "metadata": {
    "id": "qUPTwlyuMhwh"
   },
   "outputs": [],
   "source": [
    "input_layer_m3 = tf.keras.layers.Input(shape=(X_train_augmented_pad_seq.shape[1],1), dtype=float )\n",
    "input_mask_m3 = tf.keras.layers.Input(shape=(X_train_augmented_mask.shape[1]), dtype=bool)\n",
    "\n",
    "lstm = tf.keras.layers.LSTM(32)\n",
    "#lstm_output = lstm(input_layer)\n",
    "\n",
    "lstm_layer_m3 = lstm(inputs=input_layer_m3, mask=input_mask_m3)\n",
    "dense_1_m3 = tf.keras.layers.Dense(64, activation='relu', kernel_initializer=tf.keras.initializers.he_uniform(seed=46))(lstm_layer_m3)\n",
    "dense_2_m3 = tf.keras.layers.Dense(10, activation='softmax', kernel_initializer=keras.initializers.GlorotUniform(seed=46))(dense_1_m3)"
   ]
  },
  {
   "cell_type": "code",
   "execution_count": 35,
   "metadata": {
    "colab": {
     "base_uri": "https://localhost:8080/"
    },
    "id": "v6i5GoWHNJEr",
    "outputId": "0412501f-ef93-4346-89d4-1ac8455108ac"
   },
   "outputs": [
    {
     "name": "stdout",
     "output_type": "stream",
     "text": [
      "Model: \"model\"\n",
      "__________________________________________________________________________________________________\n",
      " Layer (type)                   Output Shape         Param #     Connected to                     \n",
      "==================================================================================================\n",
      " input_1 (InputLayer)           [(None, 17640, 1)]   0           []                               \n",
      "                                                                                                  \n",
      " input_2 (InputLayer)           [(None, 17640)]      0           []                               \n",
      "                                                                                                  \n",
      " lstm (LSTM)                    (None, 32)           4352        ['input_1[0][0]',                \n",
      "                                                                  'input_2[0][0]']                \n",
      "                                                                                                  \n",
      " dense (Dense)                  (None, 64)           2112        ['lstm[0][0]']                   \n",
      "                                                                                                  \n",
      " dense_1 (Dense)                (None, 10)           650         ['dense[0][0]']                  \n",
      "                                                                                                  \n",
      "==================================================================================================\n",
      "Total params: 7,114\n",
      "Trainable params: 7,114\n",
      "Non-trainable params: 0\n",
      "__________________________________________________________________________________________________\n"
     ]
    }
   ],
   "source": [
    "model_three = Model(inputs=[input_layer_m3, input_mask_m3], outputs=dense_2_m3)\n",
    "model_three.compile(optimizer='adam',\n",
    "              loss=tf.keras.losses.sparse_categorical_crossentropy,\n",
    "              metrics=['accuracy'])\n",
    "model_three.summary()"
   ]
  },
  {
   "cell_type": "code",
   "execution_count": 36,
   "metadata": {
    "id": "0IBae4Hc5kDQ"
   },
   "outputs": [],
   "source": [
    "f1_call = Metrics(validation_data=([X_test_augmented_pad_seq, X_test_augmented_mask], y_test))"
   ]
  },
  {
   "cell_type": "code",
   "execution_count": 42,
   "metadata": {
    "colab": {
     "base_uri": "https://localhost:8080/"
    },
    "id": "8b1fbRIoNFv1",
    "outputId": "f59f8a1e-ec1e-4da1-c020-1d98f10678ab"
   },
   "outputs": [
    {
     "name": "stdout",
     "output_type": "stream",
     "text": [
      "Epoch 1/3\n",
      "450/450 [==============================] - ETA: 0s - loss: 2.3031 - accuracy: 0.0947 - Val_F1_score:  0.1\n",
      "\n",
      " Val_accuracy Reached 10% so cancelling training!\n",
      "450/450 [==============================] - 618s 1s/step - loss: 2.3031 - accuracy: 0.0947 - val_loss: 2.3026 - val_accuracy: 0.1000\n"
     ]
    },
    {
     "data": {
      "text/plain": [
       "<keras.callbacks.History at 0x7f316df7afd0>"
      ]
     },
     "execution_count": 42,
     "metadata": {},
     "output_type": "execute_result"
    }
   ],
   "source": [
    "#train your model\n",
    "model_three.fit([X_train_augmented_pad_seq, X_train_augmented_mask], augmented_y_train_data,\n",
    "          validation_data=([X_test_augmented_pad_seq, X_test_augmented_mask], y_test),\n",
    "          epochs=3,\n",
    "          verbose=1,\n",
    "          batch_size=32,\n",
    "          callbacks=[f1_call, stop_here, tensorboard_callback])"
   ]
  },
  {
   "cell_type": "code",
   "execution_count": 4,
   "metadata": {},
   "outputs": [],
   "source": [
    "accuracy_m3, val_accuracy_m3 = 0.0947, 0.1000"
   ]
  },
  {
   "cell_type": "code",
   "execution_count": null,
   "metadata": {
    "id": "WCs1Ub0S7yXY"
   },
   "outputs": [],
   "source": [
    "# %tensorboard --logdir logs/fit"
   ]
  },
  {
   "cell_type": "markdown",
   "metadata": {
    "id": "vXY9uP7cO_sE"
   },
   "source": [
    "### 4. Data augmentation with spectogram data"
   ]
  },
  {
   "cell_type": "markdown",
   "metadata": {
    "id": "EShBfiERO_sE"
   },
   "source": [
    "1. use convert_to_spectrogram and convert the padded data from train and test data to spectogram data.\n",
    "2. The shape of train data will be 14400 x 64 x 35 and shape of test_data will be 400 x 64 x35\n",
    "3. Define the model similar to model 2 and fit the data"
   ]
  },
  {
   "cell_type": "code",
   "execution_count": 43,
   "metadata": {
    "id": "QpVMCEW3O_sE"
   },
   "outputs": [],
   "source": [
    "## use convert_to_spectrogram and convert every raw sequence in X_train_pad_seq and X_test_pad_seq.\n",
    "## save those all in the X_train_spectrogram and X_test_spectrogram ( These two arrays must be numpy arrays)\n",
    "X_train_augmented_spectrogram = []\n",
    "for _ in range(len(X_train_augmented_pad_seq)):\n",
    "    X_train_augmented_spectrogram.append(convert_to_spectrogram(X_train_augmented_pad_seq[_]))\n",
    "\n",
    "X_test_augmented_spectrogram = []\n",
    "for _ in range(len(X_test_augmented_pad_seq)):\n",
    "    X_test_augmented_spectrogram.append(convert_to_spectrogram(X_test_augmented_pad_seq[_]))"
   ]
  },
  {
   "cell_type": "code",
   "execution_count": 44,
   "metadata": {
    "id": "40RMwgJ6O_sE"
   },
   "outputs": [],
   "source": [
    "X_train_augmented_spectrogram = np.array(X_train_augmented_spectrogram)\n",
    "X_test_augmented_spectrogram = np.array(X_test_augmented_spectrogram)"
   ]
  },
  {
   "cell_type": "code",
   "execution_count": 45,
   "metadata": {
    "colab": {
     "base_uri": "https://localhost:8080/",
     "height": 268
    },
    "id": "rk2Pjnw8YveV",
    "outputId": "9d2cf6c5-e307-4a78-d2af-3c93ef4eda42"
   },
   "outputs": [
    {
     "data": {
      "image/png": "[encoded data removed]",
      "text/plain": [
       "<Figure size 432x288 with 1 Axes>"
      ]
     },
     "metadata": {
      "needs_background": "light"
     },
     "output_type": "display_data"
    }
   ],
   "source": [
    "plt.imshow(X_train_augmented_spectrogram[0], interpolation='nearest')\n",
    "plt.show()"
   ]
  },
  {
   "cell_type": "code",
   "execution_count": 46,
   "metadata": {
    "id": "GcGcDeZvGxpg"
   },
   "outputs": [],
   "source": [
    "f1_call = Metrics(validation_data=([X_test_augmented_spectrogram], y_test))"
   ]
  },
  {
   "cell_type": "code",
   "execution_count": 47,
   "metadata": {
    "id": "du3bKi3tG0j7"
   },
   "outputs": [],
   "source": [
    "class myCallback(tf.keras.callbacks.Callback):\n",
    "      def on_epoch_end(self, epoch, logs={}):\n",
    "        if(logs.get('val_accuracy') >= 0.8):\n",
    "          print(\"\\n Val_accuracy Reached 80+ % so cancelling training!\")\n",
    "          self.model.stop_training = True"
   ]
  },
  {
   "cell_type": "code",
   "execution_count": 48,
   "metadata": {
    "id": "xfqxL3njG13m"
   },
   "outputs": [],
   "source": [
    "stop_here = myCallback()"
   ]
  },
  {
   "cell_type": "code",
   "execution_count": 49,
   "metadata": {
    "id": "dVs-RK8MZN89"
   },
   "outputs": [],
   "source": [
    "# write the architecture of the model\n",
    "# print model.summary and make sure that it is following point 2 mentioned above\n",
    "input_layer_m4 = tf.keras.layers.Input(shape=(64,35), dtype=float)\n",
    "\n",
    "#lstm = tf.keras.layers.LSTM(32, return_sequences=True)\n",
    "#lstm_output = lstm(input_layer)\n",
    "\n",
    "lstm_layer_m4 = tf.keras.layers.LSTM(64, return_sequences=True)(input_layer_m4)\n",
    "global_avg_pooling_layer_m4 = tf.keras.layers.GlobalAveragePooling1D()(lstm_layer_m4)\n",
    "dense_1_m4 = tf.keras.layers.Dense(64, activation='relu', kernel_initializer=tf.keras.initializers.he_uniform(seed=46))(global_avg_pooling_layer_m4)\n",
    "dense_2_m4 = tf.keras.layers.Dense(10, activation='softmax', kernel_initializer=keras.initializers.GlorotUniform(seed=46))(dense_1_m4)"
   ]
  },
  {
   "cell_type": "code",
   "execution_count": 50,
   "metadata": {
    "colab": {
     "base_uri": "https://localhost:8080/"
    },
    "id": "xBNzH7fTZN5a",
    "outputId": "2daf9920-22ab-42cc-8cec-e74a4d753934"
   },
   "outputs": [
    {
     "name": "stdout",
     "output_type": "stream",
     "text": [
      "Model: \"model_1\"\n",
      "_________________________________________________________________\n",
      " Layer (type)                Output Shape              Param #   \n",
      "=================================================================\n",
      " input_3 (InputLayer)        [(None, 64, 35)]          0         \n",
      "                                                                 \n",
      " lstm_1 (LSTM)               (None, 64, 64)            25600     \n",
      "                                                                 \n",
      " global_average_pooling1d (G  (None, 64)               0         \n",
      " lobalAveragePooling1D)                                          \n",
      "                                                                 \n",
      " dense_2 (Dense)             (None, 64)                4160      \n",
      "                                                                 \n",
      " dense_3 (Dense)             (None, 10)                650       \n",
      "                                                                 \n",
      "=================================================================\n",
      "Total params: 30,410\n",
      "Trainable params: 30,410\n",
      "Non-trainable params: 0\n",
      "_________________________________________________________________\n"
     ]
    }
   ],
   "source": [
    "#compile and fit your model.\n",
    "model_four = Model(inputs=input_layer_m4, outputs=dense_2_m4)\n",
    "model_four.compile(optimizer=tf.keras.optimizers.Adam(0.001),\n",
    "              loss=tf.keras.losses.sparse_categorical_crossentropy,\n",
    "              metrics=['accuracy'])\n",
    "model_four.summary()"
   ]
  },
  {
   "cell_type": "code",
   "execution_count": 52,
   "metadata": {
    "colab": {
     "base_uri": "https://localhost:8080/"
    },
    "id": "VDf-cmg5ZN3v",
    "outputId": "efb67bd8-c18c-4c0b-ec19-d0af156caa82"
   },
   "outputs": [
    {
     "name": "stdout",
     "output_type": "stream",
     "text": [
      "450/450 [==============================] - ETA: 0s - loss: 0.6332 - accuracy: 0.7779 - Val_F1_score:  0.7575\n",
      "450/450 [==============================] - 12s 21ms/step - loss: 0.6332 - accuracy: 0.7779 - val_loss: 0.6804 - val_accuracy: 0.7575\n",
      "Epoch 2/25\n",
      "448/450 [============================>.] - ETA: 0s - loss: 0.6269 - accuracy: 0.7799 - Val_F1_score:  0.7275\n",
      "450/450 [==============================] - 8s 19ms/step - loss: 0.6278 - accuracy: 0.7794 - val_loss: 0.7184 - val_accuracy: 0.7275\n",
      "Epoch 3/25\n",
      "450/450 [==============================] - ETA: 0s - loss: 0.6198 - accuracy: 0.7829 - Val_F1_score:  0.75\n",
      "450/450 [==============================] - 8s 19ms/step - loss: 0.6198 - accuracy: 0.7829 - val_loss: 0.6981 - val_accuracy: 0.7500\n",
      "Epoch 4/25\n",
      "448/450 [============================>.] - ETA: 0s - loss: 0.6281 - accuracy: 0.7798 - Val_F1_score:  0.7425\n",
      "450/450 [==============================] - 8s 19ms/step - loss: 0.6280 - accuracy: 0.7798 - val_loss: 0.7521 - val_accuracy: 0.7425\n",
      "Epoch 5/25\n",
      "448/450 [============================>.] - ETA: 0s - loss: 0.6530 - accuracy: 0.7673 - Val_F1_score:  0.74\n",
      "450/450 [==============================] - 8s 19ms/step - loss: 0.6527 - accuracy: 0.7674 - val_loss: 0.7615 - val_accuracy: 0.7400\n",
      "Epoch 6/25\n",
      "450/450 [==============================] - ETA: 0s - loss: 0.6309 - accuracy: 0.7785 - Val_F1_score:  0.745\n",
      "450/450 [==============================] - 8s 19ms/step - loss: 0.6309 - accuracy: 0.7785 - val_loss: 0.6919 - val_accuracy: 0.7450\n",
      "Epoch 7/25\n",
      "449/450 [============================>.] - ETA: 0s - loss: 0.6078 - accuracy: 0.7872 - Val_F1_score:  0.78\n",
      "450/450 [==============================] - 9s 19ms/step - loss: 0.6082 - accuracy: 0.7873 - val_loss: 0.6698 - val_accuracy: 0.7800\n",
      "Epoch 8/25\n",
      "448/450 [============================>.] - ETA: 0s - loss: 0.6153 - accuracy: 0.7808 - Val_F1_score:  0.74\n",
      "450/450 [==============================] - 8s 19ms/step - loss: 0.6158 - accuracy: 0.7809 - val_loss: 0.7124 - val_accuracy: 0.7400\n",
      "Epoch 9/25\n",
      "449/450 [============================>.] - ETA: 0s - loss: 0.5976 - accuracy: 0.7901 - Val_F1_score:  0.79\n",
      "450/450 [==============================] - 8s 19ms/step - loss: 0.5977 - accuracy: 0.7901 - val_loss: 0.6436 - val_accuracy: 0.7900\n",
      "Epoch 10/25\n",
      "448/450 [============================>.] - ETA: 0s - loss: 0.5890 - accuracy: 0.7922 - Val_F1_score:  0.7525\n",
      "450/450 [==============================] - 8s 19ms/step - loss: 0.5887 - accuracy: 0.7923 - val_loss: 0.6953 - val_accuracy: 0.7525\n",
      "Epoch 11/25\n",
      "449/450 [============================>.] - ETA: 0s - loss: 0.5771 - accuracy: 0.7975 - Val_F1_score:  0.765\n",
      "450/450 [==============================] - 8s 19ms/step - loss: 0.5772 - accuracy: 0.7974 - val_loss: 0.6892 - val_accuracy: 0.7650\n",
      "Epoch 12/25\n",
      "449/450 [============================>.] - ETA: 0s - loss: 0.5779 - accuracy: 0.7966 - Val_F1_score:  0.7875\n",
      "450/450 [==============================] - 8s 19ms/step - loss: 0.5778 - accuracy: 0.7965 - val_loss: 0.6473 - val_accuracy: 0.7875\n",
      "Epoch 13/25\n",
      "450/450 [==============================] - ETA: 0s - loss: 0.5683 - accuracy: 0.7971 - Val_F1_score:  0.75\n",
      "450/450 [==============================] - 8s 19ms/step - loss: 0.5683 - accuracy: 0.7971 - val_loss: 0.6886 - val_accuracy: 0.7500\n",
      "Epoch 14/25\n",
      "448/450 [============================>.] - ETA: 0s - loss: 0.5608 - accuracy: 0.8001 - Val_F1_score:  0.8125\n",
      "\n",
      " Val_accuracy Reached 80+ % so cancelling training!\n",
      "450/450 [==============================] - 8s 19ms/step - loss: 0.5604 - accuracy: 0.8004 - val_loss: 0.5932 - val_accuracy: 0.8125\n"
     ]
    },
    {
     "data": {
      "text/plain": [
       "<keras.callbacks.History at 0x7f31728b4610>"
      ]
     },
     "execution_count": 52,
     "metadata": {},
     "output_type": "execute_result"
    }
   ],
   "source": [
    "#model4.fit([X_train_augmented_spectrogram],y_train_int,......)\n",
    "model_four.fit([X_train_augmented_spectrogram], augmented_y_train_data,\n",
    "          validation_data=([X_test_augmented_spectrogram], y_test),\n",
    "          epochs=25,\n",
    "          verbose=1,\n",
    "          batch_size=32,\n",
    "          callbacks=[f1_call, stop_here, tensorboard_callback])"
   ]
  },
  {
   "cell_type": "code",
   "execution_count": 5,
   "metadata": {},
   "outputs": [],
   "source": [
    "accuracy_m4, val_accuracy_m4 = 0.8004, 0.8125"
   ]
  },
  {
   "cell_type": "code",
   "execution_count": null,
   "metadata": {
    "id": "QVkwuKJfZNq0"
   },
   "outputs": [],
   "source": [
    "# %tensorboard --logdir logs/fit"
   ]
  },
  {
   "cell_type": "markdown",
   "metadata": {
    "id": "Afq_4ZPWL9R4"
   },
   "source": [
    "<pre>\n",
    "<h2>Observations:</h2>\n",
    "- With Model 1, data size was quite small, but with Model 2, after converting raw data into spectrograms and using spectrograms as input, performance significantly increased. Raw audio data does not have the same value as spectrogram data.\n",
    "-  We used the augmentation technique to get rid of the small data size problem with Models 3 and 4. But only with the new augmented data, Model 3's performance was not significantly better than Model 1, but with the spectrogram of this new data, Model 4's performance was quite satisfactory. Our validation accuracy was 81% within 14 epochs.\n",
    "</pre>"
   ]
  },
  {
   "cell_type": "code",
   "execution_count": 6,
   "metadata": {
    "id": "kva273yCL8sA"
   },
   "outputs": [
    {
     "name": "stdout",
     "output_type": "stream",
     "text": [
      "+---------+------------------------------+----------------+-----------------------+\n",
      "|  Model  |             Data             | Train Accuracy | Val_Accuracy/F1 Score |\n",
      "+---------+------------------------------+----------------+-----------------------+\n",
      "| Model-1 |           Raw Data           |      0.09      |          0.1          |\n",
      "| Model-2 |      Spectrigramed Data      |      0.86      |          0.79         |\n",
      "| Model-3 |        Augmented Data        |      0.09      |          0.1          |\n",
      "| Model-4 | Augmented + Spectrogram Data |      0.8       |          0.81         |\n",
      "+---------+------------------------------+----------------+-----------------------+\n"
     ]
    }
   ],
   "source": [
    "from prettytable import PrettyTable\n",
    "    \n",
    "x = PrettyTable()\n",
    "\n",
    "x.field_names = [\"Model\", \"Data\", \"Train Accuracy\", \"Val_Accuracy/F1 Score\"]\n",
    "\n",
    "x.add_row([\"Model-1\", \"Raw Data\", round(accuracy_m1,2),round(val_accuracy_m1,2)])\n",
    "x.add_row([\"Model-2\", \"Spectrigramed Data\", round(accuracy_m2,2),round(val_accuracy_m2,2)])\n",
    "x.add_row([\"Model-3\", \"Augmented Data\", round(accuracy_m3,2),round(val_accuracy_m3,2)])\n",
    "x.add_row([\"Model-4\", \"Augmented + Spectrogram Data\", round(accuracy_m4,2),round(val_accuracy_m4,2)])\n",
    "\n",
    "print(x)"
   ]
  },
  {
   "cell_type": "code",
   "execution_count": null,
   "metadata": {},
   "outputs": [],
   "source": []
  }
 ],
 "metadata": {
  "accelerator": "GPU",
  "colab": {
   "collapsed_sections": [],
   "name": "Speech_detection_Assignment_GCP.ipynb",
   "provenance": []
  },
  "kernelspec": {
   "display_name": "Python 3",
   "language": "python",
   "name": "python3"
  },
  "language_info": {
   "codemirror_mode": {
    "name": "ipython",
    "version": 3
   },
   "file_extension": ".py",
   "mimetype": "text/x-python",
   "name": "python",
   "nbconvert_exporter": "python",
   "pygments_lexer": "ipython3",
   "version": "3.8.8"
  }
 },
 "nbformat": 4,
 "nbformat_minor": 1
}
